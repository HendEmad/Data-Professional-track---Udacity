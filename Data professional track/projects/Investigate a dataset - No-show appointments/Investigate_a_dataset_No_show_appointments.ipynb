{
  "nbformat": 4,
  "nbformat_minor": 0,
  "metadata": {
    "colab": {
      "name": "Investigate a dataset - No-show appointments.ipynb",
      "provenance": []
    },
    "kernelspec": {
      "name": "python3",
      "display_name": "Python 3"
    },
    "language_info": {
      "name": "python"
    }
  },
  "cells": [
    {
      "cell_type": "markdown",
      "metadata": {
        "id": "THgMTjLzzkIA"
      },
      "source": [
        "##**Table of Contents**\n",
        "* Introduction\n",
        "* Data Wrangling\n",
        "* Exploratory Data Analysis\n",
        "* Conclusions"
      ]
    },
    {
      "cell_type": "markdown",
      "metadata": {
        "id": "_vQSp5230Csj"
      },
      "source": [
        "##**Introduction**\n",
        "The medical appointment dataset contains information on over 100k appointments from the country of Brazil. The dataset was originally sourced from Kaggle. It was created to study what factors were useful in predicting if patients would miss thier appointments."
      ]
    },
    {
      "cell_type": "markdown",
      "metadata": {
        "id": "jsRO_4hH0ks1"
      },
      "source": [
        "##**Data Dictionary**\n",
        "110,527 medical appointments, 14 associated variables (characteristics).\n",
        "* `PatientId`: Identification of a patient.\n",
        "* `AppointmentID`: Identification of each appointment.\n",
        "* `Gender`: Male (M) or Female (F).\n",
        "* `ScheduledDay`: The day someone called or registered the appointment, this is before appointment of course.\n",
        "* `AppointmentDay`: The day of the actuall appointment, when they have to visit the doctor.\n",
        "* `Age`: How old is the patient.\n",
        "* `Neighbourhood`: Where the appointment takes place.\n",
        "* `Scholarship`: Enrolling in Brazilian Welfare program(True (1) of False (0)), [here](https://en.wikipedia.org/wiki/Bolsa_Fam%C3%ADlia).\n",
        "* `Hipertension`: True (1) or False (0).\n",
        "* `Diabetes`: True (1) or False (0).\n",
        "* `Alcoholism`: True (1) or False (0).\n",
        "* `Handcap`: The handcap refers to the number of desabilites a person has. For example, if the person is blind and can't walk the total is 2, [here](https://www.kaggle.com/joniarroba/noshowappointments/discussion/29699).\n",
        "* SMS_received: 1 or more messages sent to the patient.\n",
        "* No-show: Yes or No."
      ]
    },
    {
      "cell_type": "markdown",
      "metadata": {
        "id": "eXHjb43z6G0X"
      },
      "source": [
        "## **Questions**\n",
        "* Can the age be considered as a factor to predict if a patient will show up for their scheduled appointment?\n",
        "* Do SMS notifications coincide with fewer no shows?\n",
        "* Highest five neighbourhoods in terms of the number of no-show appointments?\n",
        "* Can the gender be considered as a factor to predict if a patient will show up for their scheduled appointment?\n",
        "* Can having a scholarship be considered as a factor to predict if a patient will show up for their scheduled appointment?\n",
        "* Can the waiting period between scheduled day and appointment day be considered as a factor to predict if a patient will show up for their scheduled appointment?\n",
        "* Do some days of the week have more no shows than others?\n",
        "* Can the day of the week that the appointment on be considered as a factor to predict if a patient will show up for their scheduled appointment?\n",
        "* What are the percentages of missed appointments for each special condition (alcoholism, diabetes ... etc) ?"
      ]
    },
    {
      "cell_type": "code",
      "metadata": {
        "id": "UIQ9LUDOyz_J"
      },
      "source": [
        "# import modules for working with data\n",
        "import pandas as pd\n",
        "import numpy as np\n",
        "\n",
        "# import stats functions from scipy\n",
        "from scipy import stats\n",
        "\n",
        "# imports for better control of output and plots\n",
        "from IPython.display import display\n",
        "import matplotlib.pyplot as plt\n",
        "import seaborn as sns\n",
        "\n",
        "# show plots in the notebook\n",
        "%matplotlib inline"
      ],
      "execution_count": null,
      "outputs": []
    },
    {
      "cell_type": "markdown",
      "metadata": {
        "id": "01Nm61IXgbVb"
      },
      "source": [
        "##**Data Wrangling**\n",
        "###**General Properties**\n"
      ]
    },
    {
      "cell_type": "code",
      "metadata": {
        "colab": {
          "base_uri": "https://localhost:8080/"
        },
        "id": "fSfIP_hBgPtc",
        "outputId": "f09b7075-6eeb-463d-ba30-c9cde9d38f62"
      },
      "source": [
        "# load in the dataset into a pandas dataframe\n",
        "df = pd.read_csv(\"noshowappointments-kagglev2-may-2016.csv\")\n",
        "df.info()"
      ],
      "execution_count": null,
      "outputs": [
        {
          "output_type": "stream",
          "name": "stdout",
          "text": [
            "<class 'pandas.core.frame.DataFrame'>\n",
            "RangeIndex: 110527 entries, 0 to 110526\n",
            "Data columns (total 14 columns):\n",
            " #   Column          Non-Null Count   Dtype  \n",
            "---  ------          --------------   -----  \n",
            " 0   PatientId       110527 non-null  float64\n",
            " 1   AppointmentID   110527 non-null  int64  \n",
            " 2   Gender          110527 non-null  object \n",
            " 3   ScheduledDay    110527 non-null  object \n",
            " 4   AppointmentDay  110527 non-null  object \n",
            " 5   Age             110527 non-null  int64  \n",
            " 6   Neighbourhood   110527 non-null  object \n",
            " 7   Scholarship     110527 non-null  int64  \n",
            " 8   Hipertension    110527 non-null  int64  \n",
            " 9   Diabetes        110527 non-null  int64  \n",
            " 10  Alcoholism      110527 non-null  int64  \n",
            " 11  Handcap         110527 non-null  int64  \n",
            " 12  SMS_received    110527 non-null  int64  \n",
            " 13  No-show         110527 non-null  object \n",
            "dtypes: float64(1), int64(8), object(5)\n",
            "memory usage: 11.8+ MB\n"
          ]
        }
      ]
    },
    {
      "cell_type": "markdown",
      "metadata": {
        "id": "IMWSY2FihACu"
      },
      "source": [
        "The ouput shows that there are 110,527 entries described by 14 fields. There are also no null fields. "
      ]
    },
    {
      "cell_type": "code",
      "metadata": {
        "colab": {
          "base_uri": "https://localhost:8080/",
          "height": 205
        },
        "id": "askTvCtQg06O",
        "outputId": "18d18892-cd42-413b-fa5e-675d81a1d63f"
      },
      "source": [
        "#display the first five rows to allow for a closer look\n",
        "df.head()"
      ],
      "execution_count": null,
      "outputs": [
        {
          "output_type": "execute_result",
          "data": {
            "text/html": [
              "<div>\n",
              "<style scoped>\n",
              "    .dataframe tbody tr th:only-of-type {\n",
              "        vertical-align: middle;\n",
              "    }\n",
              "\n",
              "    .dataframe tbody tr th {\n",
              "        vertical-align: top;\n",
              "    }\n",
              "\n",
              "    .dataframe thead th {\n",
              "        text-align: right;\n",
              "    }\n",
              "</style>\n",
              "<table border=\"1\" class=\"dataframe\">\n",
              "  <thead>\n",
              "    <tr style=\"text-align: right;\">\n",
              "      <th></th>\n",
              "      <th>PatientId</th>\n",
              "      <th>AppointmentID</th>\n",
              "      <th>Gender</th>\n",
              "      <th>ScheduledDay</th>\n",
              "      <th>AppointmentDay</th>\n",
              "      <th>Age</th>\n",
              "      <th>Neighbourhood</th>\n",
              "      <th>Scholarship</th>\n",
              "      <th>Hipertension</th>\n",
              "      <th>Diabetes</th>\n",
              "      <th>Alcoholism</th>\n",
              "      <th>Handcap</th>\n",
              "      <th>SMS_received</th>\n",
              "      <th>No-show</th>\n",
              "    </tr>\n",
              "  </thead>\n",
              "  <tbody>\n",
              "    <tr>\n",
              "      <th>0</th>\n",
              "      <td>2.987250e+13</td>\n",
              "      <td>5642903</td>\n",
              "      <td>F</td>\n",
              "      <td>2016-04-29T18:38:08Z</td>\n",
              "      <td>2016-04-29T00:00:00Z</td>\n",
              "      <td>62</td>\n",
              "      <td>JARDIM DA PENHA</td>\n",
              "      <td>0</td>\n",
              "      <td>1</td>\n",
              "      <td>0</td>\n",
              "      <td>0</td>\n",
              "      <td>0</td>\n",
              "      <td>0</td>\n",
              "      <td>No</td>\n",
              "    </tr>\n",
              "    <tr>\n",
              "      <th>1</th>\n",
              "      <td>5.589978e+14</td>\n",
              "      <td>5642503</td>\n",
              "      <td>M</td>\n",
              "      <td>2016-04-29T16:08:27Z</td>\n",
              "      <td>2016-04-29T00:00:00Z</td>\n",
              "      <td>56</td>\n",
              "      <td>JARDIM DA PENHA</td>\n",
              "      <td>0</td>\n",
              "      <td>0</td>\n",
              "      <td>0</td>\n",
              "      <td>0</td>\n",
              "      <td>0</td>\n",
              "      <td>0</td>\n",
              "      <td>No</td>\n",
              "    </tr>\n",
              "    <tr>\n",
              "      <th>2</th>\n",
              "      <td>4.262962e+12</td>\n",
              "      <td>5642549</td>\n",
              "      <td>F</td>\n",
              "      <td>2016-04-29T16:19:04Z</td>\n",
              "      <td>2016-04-29T00:00:00Z</td>\n",
              "      <td>62</td>\n",
              "      <td>MATA DA PRAIA</td>\n",
              "      <td>0</td>\n",
              "      <td>0</td>\n",
              "      <td>0</td>\n",
              "      <td>0</td>\n",
              "      <td>0</td>\n",
              "      <td>0</td>\n",
              "      <td>No</td>\n",
              "    </tr>\n",
              "    <tr>\n",
              "      <th>3</th>\n",
              "      <td>8.679512e+11</td>\n",
              "      <td>5642828</td>\n",
              "      <td>F</td>\n",
              "      <td>2016-04-29T17:29:31Z</td>\n",
              "      <td>2016-04-29T00:00:00Z</td>\n",
              "      <td>8</td>\n",
              "      <td>PONTAL DE CAMBURI</td>\n",
              "      <td>0</td>\n",
              "      <td>0</td>\n",
              "      <td>0</td>\n",
              "      <td>0</td>\n",
              "      <td>0</td>\n",
              "      <td>0</td>\n",
              "      <td>No</td>\n",
              "    </tr>\n",
              "    <tr>\n",
              "      <th>4</th>\n",
              "      <td>8.841186e+12</td>\n",
              "      <td>5642494</td>\n",
              "      <td>F</td>\n",
              "      <td>2016-04-29T16:07:23Z</td>\n",
              "      <td>2016-04-29T00:00:00Z</td>\n",
              "      <td>56</td>\n",
              "      <td>JARDIM DA PENHA</td>\n",
              "      <td>0</td>\n",
              "      <td>1</td>\n",
              "      <td>1</td>\n",
              "      <td>0</td>\n",
              "      <td>0</td>\n",
              "      <td>0</td>\n",
              "      <td>No</td>\n",
              "    </tr>\n",
              "  </tbody>\n",
              "</table>\n",
              "</div>"
            ],
            "text/plain": [
              "      PatientId  AppointmentID Gender  ... Handcap SMS_received  No-show\n",
              "0  2.987250e+13        5642903      F  ...       0            0       No\n",
              "1  5.589978e+14        5642503      M  ...       0            0       No\n",
              "2  4.262962e+12        5642549      F  ...       0            0       No\n",
              "3  8.679512e+11        5642828      F  ...       0            0       No\n",
              "4  8.841186e+12        5642494      F  ...       0            0       No\n",
              "\n",
              "[5 rows x 14 columns]"
            ]
          },
          "metadata": {},
          "execution_count": 206
        }
      ]
    },
    {
      "cell_type": "markdown",
      "metadata": {
        "id": "nDTF55Gjhlp0"
      },
      "source": [
        "Each row contains a patient id and an appointment id, but it is not clear if either of those fields are unique to each entry."
      ]
    },
    {
      "cell_type": "code",
      "metadata": {
        "colab": {
          "base_uri": "https://localhost:8080/"
        },
        "id": "yPUi2394hKt6",
        "outputId": "44683ac0-a876-43be-f562-7139146f7acb"
      },
      "source": [
        "# count the number of unique patient and appointment IDs\n",
        "df.loc[:, ['PatientId', 'AppointmentID']].nunique()"
      ],
      "execution_count": null,
      "outputs": [
        {
          "output_type": "execute_result",
          "data": {
            "text/plain": [
              "PatientId         62299\n",
              "AppointmentID    110527\n",
              "dtype: int64"
            ]
          },
          "metadata": {},
          "execution_count": 207
        }
      ]
    },
    {
      "cell_type": "markdown",
      "metadata": {
        "id": "oYsdjRAehqcx"
      },
      "source": [
        "The results show that there are as many unique AppointmentIDs as there are rows. There are also less PatientIds than records, confirming that at least some values are reused. Because the AppointmentIDs are unique to each row it will be set as the dataframe index."
      ]
    },
    {
      "cell_type": "code",
      "metadata": {
        "id": "p5uBpPpBhoHQ"
      },
      "source": [
        "# This command resets the index. The 'verify_integrity' parameter serves as on last check to make sure there are no duplicate values.\n",
        "df.set_index('AppointmentID', inplace=True ,verify_integrity=True)"
      ],
      "execution_count": null,
      "outputs": []
    },
    {
      "cell_type": "markdown",
      "metadata": {
        "id": "tS3vUwHLjyZi"
      },
      "source": [
        "The numeric fields Scholarship, Hipertension, Diabetes, Alcoholism, Handicap and SMS_received should be binary fields. The describe method from Pandas returns information that can be used to verify."
      ]
    },
    {
      "cell_type": "code",
      "metadata": {
        "colab": {
          "base_uri": "https://localhost:8080/",
          "height": 299
        },
        "id": "E3sxt4ZUi4vM",
        "outputId": "e464bbfa-3bd8-4e40-91d3-2dc969236f1c"
      },
      "source": [
        "df.describe()"
      ],
      "execution_count": null,
      "outputs": [
        {
          "output_type": "execute_result",
          "data": {
            "text/html": [
              "<div>\n",
              "<style scoped>\n",
              "    .dataframe tbody tr th:only-of-type {\n",
              "        vertical-align: middle;\n",
              "    }\n",
              "\n",
              "    .dataframe tbody tr th {\n",
              "        vertical-align: top;\n",
              "    }\n",
              "\n",
              "    .dataframe thead th {\n",
              "        text-align: right;\n",
              "    }\n",
              "</style>\n",
              "<table border=\"1\" class=\"dataframe\">\n",
              "  <thead>\n",
              "    <tr style=\"text-align: right;\">\n",
              "      <th></th>\n",
              "      <th>PatientId</th>\n",
              "      <th>Age</th>\n",
              "      <th>Scholarship</th>\n",
              "      <th>Hipertension</th>\n",
              "      <th>Diabetes</th>\n",
              "      <th>Alcoholism</th>\n",
              "      <th>Handcap</th>\n",
              "      <th>SMS_received</th>\n",
              "    </tr>\n",
              "  </thead>\n",
              "  <tbody>\n",
              "    <tr>\n",
              "      <th>count</th>\n",
              "      <td>1.105270e+05</td>\n",
              "      <td>110527.000000</td>\n",
              "      <td>110527.000000</td>\n",
              "      <td>110527.000000</td>\n",
              "      <td>110527.000000</td>\n",
              "      <td>110527.000000</td>\n",
              "      <td>110527.000000</td>\n",
              "      <td>110527.000000</td>\n",
              "    </tr>\n",
              "    <tr>\n",
              "      <th>mean</th>\n",
              "      <td>1.474963e+14</td>\n",
              "      <td>37.088874</td>\n",
              "      <td>0.098266</td>\n",
              "      <td>0.197246</td>\n",
              "      <td>0.071865</td>\n",
              "      <td>0.030400</td>\n",
              "      <td>0.022248</td>\n",
              "      <td>0.321026</td>\n",
              "    </tr>\n",
              "    <tr>\n",
              "      <th>std</th>\n",
              "      <td>2.560949e+14</td>\n",
              "      <td>23.110205</td>\n",
              "      <td>0.297675</td>\n",
              "      <td>0.397921</td>\n",
              "      <td>0.258265</td>\n",
              "      <td>0.171686</td>\n",
              "      <td>0.161543</td>\n",
              "      <td>0.466873</td>\n",
              "    </tr>\n",
              "    <tr>\n",
              "      <th>min</th>\n",
              "      <td>3.921784e+04</td>\n",
              "      <td>-1.000000</td>\n",
              "      <td>0.000000</td>\n",
              "      <td>0.000000</td>\n",
              "      <td>0.000000</td>\n",
              "      <td>0.000000</td>\n",
              "      <td>0.000000</td>\n",
              "      <td>0.000000</td>\n",
              "    </tr>\n",
              "    <tr>\n",
              "      <th>25%</th>\n",
              "      <td>4.172614e+12</td>\n",
              "      <td>18.000000</td>\n",
              "      <td>0.000000</td>\n",
              "      <td>0.000000</td>\n",
              "      <td>0.000000</td>\n",
              "      <td>0.000000</td>\n",
              "      <td>0.000000</td>\n",
              "      <td>0.000000</td>\n",
              "    </tr>\n",
              "    <tr>\n",
              "      <th>50%</th>\n",
              "      <td>3.173184e+13</td>\n",
              "      <td>37.000000</td>\n",
              "      <td>0.000000</td>\n",
              "      <td>0.000000</td>\n",
              "      <td>0.000000</td>\n",
              "      <td>0.000000</td>\n",
              "      <td>0.000000</td>\n",
              "      <td>0.000000</td>\n",
              "    </tr>\n",
              "    <tr>\n",
              "      <th>75%</th>\n",
              "      <td>9.439172e+13</td>\n",
              "      <td>55.000000</td>\n",
              "      <td>0.000000</td>\n",
              "      <td>0.000000</td>\n",
              "      <td>0.000000</td>\n",
              "      <td>0.000000</td>\n",
              "      <td>0.000000</td>\n",
              "      <td>1.000000</td>\n",
              "    </tr>\n",
              "    <tr>\n",
              "      <th>max</th>\n",
              "      <td>9.999816e+14</td>\n",
              "      <td>115.000000</td>\n",
              "      <td>1.000000</td>\n",
              "      <td>1.000000</td>\n",
              "      <td>1.000000</td>\n",
              "      <td>1.000000</td>\n",
              "      <td>4.000000</td>\n",
              "      <td>1.000000</td>\n",
              "    </tr>\n",
              "  </tbody>\n",
              "</table>\n",
              "</div>"
            ],
            "text/plain": [
              "          PatientId            Age  ...        Handcap   SMS_received\n",
              "count  1.105270e+05  110527.000000  ...  110527.000000  110527.000000\n",
              "mean   1.474963e+14      37.088874  ...       0.022248       0.321026\n",
              "std    2.560949e+14      23.110205  ...       0.161543       0.466873\n",
              "min    3.921784e+04      -1.000000  ...       0.000000       0.000000\n",
              "25%    4.172614e+12      18.000000  ...       0.000000       0.000000\n",
              "50%    3.173184e+13      37.000000  ...       0.000000       0.000000\n",
              "75%    9.439172e+13      55.000000  ...       0.000000       1.000000\n",
              "max    9.999816e+14     115.000000  ...       4.000000       1.000000\n",
              "\n",
              "[8 rows x 8 columns]"
            ]
          },
          "metadata": {},
          "execution_count": 209
        }
      ]
    },
    {
      "cell_type": "markdown",
      "metadata": {
        "id": "iH3SMEy3kN61"
      },
      "source": [
        "The youngest person is -1 and the oldest is 115!\n",
        "I will use Boxplots to graphically display the interquartile ranges of the data, with outliers located outside of the whiskers of the plot."
      ]
    },
    {
      "cell_type": "code",
      "metadata": {
        "colab": {
          "base_uri": "https://localhost:8080/",
          "height": 333
        },
        "id": "eld6jOX5j5lL",
        "outputId": "bf764a20-5b3d-4a6e-863a-99b50c2b0824"
      },
      "source": [
        "# create a boxplot of the age using seaborn to select outliers of Age column\n",
        "sns.boxplot(df.Age)\n",
        "plt.show()"
      ],
      "execution_count": null,
      "outputs": [
        {
          "output_type": "stream",
          "name": "stderr",
          "text": [
            "/usr/local/lib/python3.7/dist-packages/seaborn/_decorators.py:43: FutureWarning: Pass the following variable as a keyword arg: x. From version 0.12, the only valid positional argument will be `data`, and passing other arguments without an explicit keyword will result in an error or misinterpretation.\n",
            "  FutureWarning\n"
          ]
        },
        {
          "output_type": "display_data",
          "data": {
            "image/png": "[encoded data removed]",
            "text/plain": [
              "<Figure size 432x288 with 1 Axes>"
            ]
          },
          "metadata": {
            "needs_background": "light"
          }
        }
      ]
    },
    {
      "cell_type": "markdown",
      "metadata": {
        "id": "YSIiUCIykm8a"
      },
      "source": [
        "The boxplot confirms that there are outliers at the high end of the range. But the values below zero are not identified. To explore in more detailed vision:"
      ]
    },
    {
      "cell_type": "code",
      "metadata": {
        "colab": {
          "base_uri": "https://localhost:8080/",
          "height": 112
        },
        "id": "N534SgSHkfWV",
        "outputId": "ce6b22f8-6868-4bb3-eb63-cfd0eafb57f7"
      },
      "source": [
        "# return all entries less than 0 years old.\n",
        "df[df.Age < 0]"
      ],
      "execution_count": null,
      "outputs": [
        {
          "output_type": "execute_result",
          "data": {
            "text/html": [
              "<div>\n",
              "<style scoped>\n",
              "    .dataframe tbody tr th:only-of-type {\n",
              "        vertical-align: middle;\n",
              "    }\n",
              "\n",
              "    .dataframe tbody tr th {\n",
              "        vertical-align: top;\n",
              "    }\n",
              "\n",
              "    .dataframe thead th {\n",
              "        text-align: right;\n",
              "    }\n",
              "</style>\n",
              "<table border=\"1\" class=\"dataframe\">\n",
              "  <thead>\n",
              "    <tr style=\"text-align: right;\">\n",
              "      <th></th>\n",
              "      <th>PatientId</th>\n",
              "      <th>Gender</th>\n",
              "      <th>ScheduledDay</th>\n",
              "      <th>AppointmentDay</th>\n",
              "      <th>Age</th>\n",
              "      <th>Neighbourhood</th>\n",
              "      <th>Scholarship</th>\n",
              "      <th>Hipertension</th>\n",
              "      <th>Diabetes</th>\n",
              "      <th>Alcoholism</th>\n",
              "      <th>Handcap</th>\n",
              "      <th>SMS_received</th>\n",
              "      <th>No-show</th>\n",
              "    </tr>\n",
              "    <tr>\n",
              "      <th>AppointmentID</th>\n",
              "      <th></th>\n",
              "      <th></th>\n",
              "      <th></th>\n",
              "      <th></th>\n",
              "      <th></th>\n",
              "      <th></th>\n",
              "      <th></th>\n",
              "      <th></th>\n",
              "      <th></th>\n",
              "      <th></th>\n",
              "      <th></th>\n",
              "      <th></th>\n",
              "      <th></th>\n",
              "    </tr>\n",
              "  </thead>\n",
              "  <tbody>\n",
              "    <tr>\n",
              "      <th>5775010</th>\n",
              "      <td>4.659432e+14</td>\n",
              "      <td>F</td>\n",
              "      <td>2016-06-06T08:58:13Z</td>\n",
              "      <td>2016-06-06T00:00:00Z</td>\n",
              "      <td>-1</td>\n",
              "      <td>ROMÃO</td>\n",
              "      <td>0</td>\n",
              "      <td>0</td>\n",
              "      <td>0</td>\n",
              "      <td>0</td>\n",
              "      <td>0</td>\n",
              "      <td>0</td>\n",
              "      <td>No</td>\n",
              "    </tr>\n",
              "  </tbody>\n",
              "</table>\n",
              "</div>"
            ],
            "text/plain": [
              "                  PatientId Gender  ... SMS_received No-show\n",
              "AppointmentID                       ...                     \n",
              "5775010        4.659432e+14      F  ...            0      No\n",
              "\n",
              "[1 rows x 13 columns]"
            ]
          },
          "metadata": {},
          "execution_count": 211
        }
      ]
    },
    {
      "cell_type": "code",
      "metadata": {
        "colab": {
          "base_uri": "https://localhost:8080/",
          "height": 299
        },
        "id": "U6q93uXbk3ID",
        "outputId": "bc43e74c-ff14-4f6e-f802-85c3d10f12f3"
      },
      "source": [
        "\n",
        "# return all entries older than 100\n",
        "df[df.Age > 100]"
      ],
      "execution_count": null,
      "outputs": [
        {
          "output_type": "execute_result",
          "data": {
            "text/html": [
              "<div>\n",
              "<style scoped>\n",
              "    .dataframe tbody tr th:only-of-type {\n",
              "        vertical-align: middle;\n",
              "    }\n",
              "\n",
              "    .dataframe tbody tr th {\n",
              "        vertical-align: top;\n",
              "    }\n",
              "\n",
              "    .dataframe thead th {\n",
              "        text-align: right;\n",
              "    }\n",
              "</style>\n",
              "<table border=\"1\" class=\"dataframe\">\n",
              "  <thead>\n",
              "    <tr style=\"text-align: right;\">\n",
              "      <th></th>\n",
              "      <th>PatientId</th>\n",
              "      <th>Gender</th>\n",
              "      <th>ScheduledDay</th>\n",
              "      <th>AppointmentDay</th>\n",
              "      <th>Age</th>\n",
              "      <th>Neighbourhood</th>\n",
              "      <th>Scholarship</th>\n",
              "      <th>Hipertension</th>\n",
              "      <th>Diabetes</th>\n",
              "      <th>Alcoholism</th>\n",
              "      <th>Handcap</th>\n",
              "      <th>SMS_received</th>\n",
              "      <th>No-show</th>\n",
              "    </tr>\n",
              "    <tr>\n",
              "      <th>AppointmentID</th>\n",
              "      <th></th>\n",
              "      <th></th>\n",
              "      <th></th>\n",
              "      <th></th>\n",
              "      <th></th>\n",
              "      <th></th>\n",
              "      <th></th>\n",
              "      <th></th>\n",
              "      <th></th>\n",
              "      <th></th>\n",
              "      <th></th>\n",
              "      <th></th>\n",
              "      <th></th>\n",
              "    </tr>\n",
              "  </thead>\n",
              "  <tbody>\n",
              "    <tr>\n",
              "      <th>5651757</th>\n",
              "      <td>9.762948e+14</td>\n",
              "      <td>F</td>\n",
              "      <td>2016-05-03T09:14:53Z</td>\n",
              "      <td>2016-05-03T00:00:00Z</td>\n",
              "      <td>102</td>\n",
              "      <td>CONQUISTA</td>\n",
              "      <td>0</td>\n",
              "      <td>0</td>\n",
              "      <td>0</td>\n",
              "      <td>0</td>\n",
              "      <td>0</td>\n",
              "      <td>0</td>\n",
              "      <td>No</td>\n",
              "    </tr>\n",
              "    <tr>\n",
              "      <th>5700278</th>\n",
              "      <td>3.196321e+13</td>\n",
              "      <td>F</td>\n",
              "      <td>2016-05-16T09:17:44Z</td>\n",
              "      <td>2016-05-19T00:00:00Z</td>\n",
              "      <td>115</td>\n",
              "      <td>ANDORINHAS</td>\n",
              "      <td>0</td>\n",
              "      <td>0</td>\n",
              "      <td>0</td>\n",
              "      <td>0</td>\n",
              "      <td>1</td>\n",
              "      <td>0</td>\n",
              "      <td>Yes</td>\n",
              "    </tr>\n",
              "    <tr>\n",
              "      <th>5700279</th>\n",
              "      <td>3.196321e+13</td>\n",
              "      <td>F</td>\n",
              "      <td>2016-05-16T09:17:44Z</td>\n",
              "      <td>2016-05-19T00:00:00Z</td>\n",
              "      <td>115</td>\n",
              "      <td>ANDORINHAS</td>\n",
              "      <td>0</td>\n",
              "      <td>0</td>\n",
              "      <td>0</td>\n",
              "      <td>0</td>\n",
              "      <td>1</td>\n",
              "      <td>0</td>\n",
              "      <td>Yes</td>\n",
              "    </tr>\n",
              "    <tr>\n",
              "      <th>5562812</th>\n",
              "      <td>3.196321e+13</td>\n",
              "      <td>F</td>\n",
              "      <td>2016-04-08T14:29:17Z</td>\n",
              "      <td>2016-05-16T00:00:00Z</td>\n",
              "      <td>115</td>\n",
              "      <td>ANDORINHAS</td>\n",
              "      <td>0</td>\n",
              "      <td>0</td>\n",
              "      <td>0</td>\n",
              "      <td>0</td>\n",
              "      <td>1</td>\n",
              "      <td>0</td>\n",
              "      <td>Yes</td>\n",
              "    </tr>\n",
              "    <tr>\n",
              "      <th>5744037</th>\n",
              "      <td>3.196321e+13</td>\n",
              "      <td>F</td>\n",
              "      <td>2016-05-30T09:44:51Z</td>\n",
              "      <td>2016-05-30T00:00:00Z</td>\n",
              "      <td>115</td>\n",
              "      <td>ANDORINHAS</td>\n",
              "      <td>0</td>\n",
              "      <td>0</td>\n",
              "      <td>0</td>\n",
              "      <td>0</td>\n",
              "      <td>1</td>\n",
              "      <td>0</td>\n",
              "      <td>No</td>\n",
              "    </tr>\n",
              "    <tr>\n",
              "      <th>5751563</th>\n",
              "      <td>2.342836e+11</td>\n",
              "      <td>F</td>\n",
              "      <td>2016-05-31T10:19:49Z</td>\n",
              "      <td>2016-06-02T00:00:00Z</td>\n",
              "      <td>102</td>\n",
              "      <td>MARIA ORTIZ</td>\n",
              "      <td>0</td>\n",
              "      <td>0</td>\n",
              "      <td>0</td>\n",
              "      <td>0</td>\n",
              "      <td>0</td>\n",
              "      <td>0</td>\n",
              "      <td>No</td>\n",
              "    </tr>\n",
              "    <tr>\n",
              "      <th>5717451</th>\n",
              "      <td>7.482346e+14</td>\n",
              "      <td>F</td>\n",
              "      <td>2016-05-19T07:57:56Z</td>\n",
              "      <td>2016-06-03T00:00:00Z</td>\n",
              "      <td>115</td>\n",
              "      <td>SÃO JOSÉ</td>\n",
              "      <td>0</td>\n",
              "      <td>1</td>\n",
              "      <td>0</td>\n",
              "      <td>0</td>\n",
              "      <td>0</td>\n",
              "      <td>1</td>\n",
              "      <td>No</td>\n",
              "    </tr>\n",
              "  </tbody>\n",
              "</table>\n",
              "</div>"
            ],
            "text/plain": [
              "                  PatientId Gender  ... SMS_received No-show\n",
              "AppointmentID                       ...                     \n",
              "5651757        9.762948e+14      F  ...            0      No\n",
              "5700278        3.196321e+13      F  ...            0     Yes\n",
              "5700279        3.196321e+13      F  ...            0     Yes\n",
              "5562812        3.196321e+13      F  ...            0     Yes\n",
              "5744037        3.196321e+13      F  ...            0      No\n",
              "5751563        2.342836e+11      F  ...            0      No\n",
              "5717451        7.482346e+14      F  ...            1      No\n",
              "\n",
              "[7 rows x 13 columns]"
            ]
          },
          "metadata": {},
          "execution_count": 212
        }
      ]
    },
    {
      "cell_type": "markdown",
      "metadata": {
        "id": "vpgHb9B8nEln"
      },
      "source": [
        "There are also two patients reported to be 102. According to [wikipedia](https://en.wikipedia.org/wiki/List_of_living_centenarians), there are several people in Brazil in this age range. It is very possible that these entries are accurate and can be left in.\n",
        "\n",
        "There are two patients who were allegedly 115 years old. According [Wikipedia](https://en.wikipedia.org/wiki/List_of_the_verified_oldest_people) are very rare. Removing these entries along with the -1 patient will ensure that they don't cause any outlier affects."
      ]
    },
    {
      "cell_type": "markdown",
      "metadata": {
        "id": "FL99Q7H60NfV"
      },
      "source": [
        "##**Data Cleaning**"
      ]
    },
    {
      "cell_type": "code",
      "metadata": {
        "colab": {
          "base_uri": "https://localhost:8080/",
          "height": 333
        },
        "id": "GOtuoJQLnDCM",
        "outputId": "fdf8c684-3014-46c0-ecd1-576caa398ae1"
      },
      "source": [
        "# Trim the outliers\n",
        "df = df[(df.Age > -1) & (df.Age < 115)]\n",
        "\n",
        "# display the boxplot again to verify the outcome\n",
        "sns.boxplot(df.Age)\n",
        "plt.show()"
      ],
      "execution_count": null,
      "outputs": [
        {
          "output_type": "stream",
          "name": "stderr",
          "text": [
            "/usr/local/lib/python3.7/dist-packages/seaborn/_decorators.py:43: FutureWarning: Pass the following variable as a keyword arg: x. From version 0.12, the only valid positional argument will be `data`, and passing other arguments without an explicit keyword will result in an error or misinterpretation.\n",
            "  FutureWarning\n"
          ]
        },
        {
          "output_type": "display_data",
          "data": {
            "image/png": "[encoded data removed]",
            "text/plain": [
              "<Figure size 432x288 with 1 Axes>"
            ]
          },
          "metadata": {
            "needs_background": "light"
          }
        }
      ]
    },
    {
      "cell_type": "markdown",
      "metadata": {
        "id": "CrnYn7iYoYSN"
      },
      "source": [
        "The outliers are no longer present in the boxplot.\n",
        "\n",
        "To make the dataset easy to work with some of the fields need to be converted to new data types. SheduledDay and AppointmentDay fields should be datetime objects, and the No-Show field will be easier to work with as a binary value."
      ]
    },
    {
      "cell_type": "code",
      "metadata": {
        "id": "eJj6_NO4oVds"
      },
      "source": [
        "# Convert ScheduleDay and AppointmentDay to DateTime objects with pd.to_datetime\n",
        "columns = ['ScheduledDay', 'AppointmentDay']\n",
        "for column in columns:\n",
        "    df[column] = pd.to_datetime(pd.to_datetime(df[column]).dt.date)\n",
        "\n",
        "# drop the old No-show column\n",
        "df.rename(columns={'No-show':'NoShow'}, inplace=True)"
      ],
      "execution_count": null,
      "outputs": []
    },
    {
      "cell_type": "markdown",
      "metadata": {
        "id": "9A_b4-Desh-G"
      },
      "source": [
        "The day of week value can now be extracted from the AppointmentDay field to answer one of the questions.\n",
        "\n",
        "A function can be created to pull the weekday_name property from Pandas datetime objects and populate a new field."
      ]
    },
    {
      "cell_type": "code",
      "metadata": {
        "id": "2-e02GI2oqjr"
      },
      "source": [
        "# Create a function that takes a datetime (dt) and extracts the weekday_name property\n",
        "day_from_datetime = lambda dt: dt.day_name()\n",
        "\n",
        "# Apply the function to the AppointmentDay column\n",
        "df['DayOfWeek'] = df.AppointmentDay.apply(day_from_datetime)"
      ],
      "execution_count": null,
      "outputs": []
    },
    {
      "cell_type": "markdown",
      "metadata": {
        "id": "MkgZUpc0t0fh"
      },
      "source": [
        "Then, counting the number of appointments for each DayOfWeek value."
      ]
    },
    {
      "cell_type": "code",
      "metadata": {
        "colab": {
          "base_uri": "https://localhost:8080/",
          "height": 237
        },
        "id": "GHurAkt_smkk",
        "outputId": "1f170498-0463-4dc6-9d51-2e63865f5438"
      },
      "source": [
        "df.DayOfWeek.value_counts().to_frame(name='Number of Appointments')"
      ],
      "execution_count": null,
      "outputs": [
        {
          "output_type": "execute_result",
          "data": {
            "text/html": [
              "<div>\n",
              "<style scoped>\n",
              "    .dataframe tbody tr th:only-of-type {\n",
              "        vertical-align: middle;\n",
              "    }\n",
              "\n",
              "    .dataframe tbody tr th {\n",
              "        vertical-align: top;\n",
              "    }\n",
              "\n",
              "    .dataframe thead th {\n",
              "        text-align: right;\n",
              "    }\n",
              "</style>\n",
              "<table border=\"1\" class=\"dataframe\">\n",
              "  <thead>\n",
              "    <tr style=\"text-align: right;\">\n",
              "      <th></th>\n",
              "      <th>Number of Appointments</th>\n",
              "    </tr>\n",
              "  </thead>\n",
              "  <tbody>\n",
              "    <tr>\n",
              "      <th>Wednesday</th>\n",
              "      <td>25867</td>\n",
              "    </tr>\n",
              "    <tr>\n",
              "      <th>Tuesday</th>\n",
              "      <td>25640</td>\n",
              "    </tr>\n",
              "    <tr>\n",
              "      <th>Monday</th>\n",
              "      <td>22712</td>\n",
              "    </tr>\n",
              "    <tr>\n",
              "      <th>Friday</th>\n",
              "      <td>19018</td>\n",
              "    </tr>\n",
              "    <tr>\n",
              "      <th>Thursday</th>\n",
              "      <td>17245</td>\n",
              "    </tr>\n",
              "    <tr>\n",
              "      <th>Saturday</th>\n",
              "      <td>39</td>\n",
              "    </tr>\n",
              "  </tbody>\n",
              "</table>\n",
              "</div>"
            ],
            "text/plain": [
              "           Number of Appointments\n",
              "Wednesday                   25867\n",
              "Tuesday                     25640\n",
              "Monday                      22712\n",
              "Friday                      19018\n",
              "Thursday                    17245\n",
              "Saturday                       39"
            ]
          },
          "metadata": {},
          "execution_count": 216
        }
      ]
    },
    {
      "cell_type": "markdown",
      "metadata": {
        "id": "whQuwIDjz1Fk"
      },
      "source": [
        "Wednesday and Tuesday were the most common days for appointments, followed by Monday Friday and Thursday. Saturday was least common with only 39 appointments.\n",
        "\n",
        "The last step of data cleaning will be to add a binary field for no shows. This will make calculating total and average numbers of no shows easier in analysis."
      ]
    },
    {
      "cell_type": "code",
      "metadata": {
        "colab": {
          "base_uri": "https://localhost:8080/"
        },
        "id": "ggRPJoIczqjW",
        "outputId": "14fb5115-8a9b-4ccc-9bbe-fbb1ac918dae"
      },
      "source": [
        "# if the value Yes then change it to 0, otherwise 1\n",
        "df.NoShow = np.where(df.NoShow == \"Yes\", 0, 1)\n",
        "# confirm\n",
        "df.NoShow.value_counts()"
      ],
      "execution_count": null,
      "outputs": [
        {
          "output_type": "execute_result",
          "data": {
            "text/plain": [
              "1    88205\n",
              "0    22316\n",
              "Name: NoShow, dtype: int64"
            ]
          },
          "metadata": {},
          "execution_count": 217
        }
      ]
    },
    {
      "cell_type": "markdown",
      "metadata": {
        "id": "Tcj0uqdAK6s5"
      },
      "source": [
        "Most patients weren't handicapped, 2042 with 1 handicap, 183 with 2 handicaps and so on. In my analysis I don't need to know how many handicaps a patient had, I just need to know if he was handicapped or not, so I will change these values to (0,1) only (0 not handicapped, 1 handicapped)."
      ]
    },
    {
      "cell_type": "code",
      "metadata": {
        "colab": {
          "base_uri": "https://localhost:8080/"
        },
        "id": "odjQELmxK3Ec",
        "outputId": "d7257d77-8789-4ad6-c374-2768bfb76b7a"
      },
      "source": [
        "# if the value is greater than 1 change it to 1, otherwise keep it\n",
        "df['Handcap'] = np.where(df['Handcap'] > 1, 1, df['Handcap'])\n",
        "# confirm\n",
        "df.Handcap.value_counts()"
      ],
      "execution_count": null,
      "outputs": [
        {
          "output_type": "execute_result",
          "data": {
            "text/plain": [
              "0    108284\n",
              "1      2237\n",
              "Name: Handcap, dtype: int64"
            ]
          },
          "metadata": {},
          "execution_count": 218
        }
      ]
    },
    {
      "cell_type": "markdown",
      "metadata": {
        "id": "7G6LFcdt0bpL"
      },
      "source": [
        "##**Exploratory Data Analysis**"
      ]
    },
    {
      "cell_type": "code",
      "metadata": {
        "colab": {
          "base_uri": "https://localhost:8080/",
          "height": 295
        },
        "id": "v6KRLI4e1fBn",
        "outputId": "c1fac46a-dafd-4285-876f-100bf6fc9e93"
      },
      "source": [
        "# plot a bar chart\n",
        "base_color = sns.color_palette()[0]\n",
        "sns.countplot(data = df, x = 'NoShow', color = base_color)\n",
        "plt.title('Paitents Show Status')\n",
        "plt.xticks([0, 1], ['Show Up', 'No Show'])\n",
        "plt.xlabel('Stauts')\n",
        "plt.ylabel('Number of Patients');"
      ],
      "execution_count": null,
      "outputs": [
        {
          "output_type": "display_data",
          "data": {
            "image/png": "[encoded data removed]",
            "text/plain": [
              "<Figure size 432x288 with 1 Axes>"
            ]
          },
          "metadata": {
            "needs_background": "light"
          }
        }
      ]
    },
    {
      "cell_type": "code",
      "metadata": {
        "colab": {
          "base_uri": "https://localhost:8080/",
          "height": 264
        },
        "id": "5EUPFQRw0G01",
        "outputId": "2d1c9cf8-3817-438f-a08f-b068af91bf0f"
      },
      "source": [
        "\"\"\"\n",
        "Plot the proportion of NoShows as a piechart.\n",
        "Extra parameters are passed to ensure the pie chart is a square,\n",
        "format the decimal and pop out the second slice for effect.\n",
        "\"\"\"\n",
        "sorted_counts = df.NoShow.value_counts()\n",
        "plt.pie(sorted_counts, labels = ['No Show', 'Show Up'], startangle = 90,\n",
        "        counterclock = False, autopct='%1.1f%%');\n",
        "plt.axis('square')\n",
        "plt.title('Paitents Show Status');"
      ],
      "execution_count": null,
      "outputs": [
        {
          "output_type": "display_data",
          "data": {
            "image/png": "[encoded data removed]",
            "text/plain": [
              "<Figure size 432x288 with 1 Axes>"
            ]
          },
          "metadata": {}
        }
      ]
    },
    {
      "cell_type": "markdown",
      "metadata": {
        "id": "AjXGOuGRHJH6"
      },
      "source": [
        "**gender column**"
      ]
    },
    {
      "cell_type": "code",
      "metadata": {
        "colab": {
          "base_uri": "https://localhost:8080/",
          "height": 295
        },
        "id": "2iHcOqQbGARN",
        "outputId": "c6e8f73b-03d2-48f6-f58a-d858587bdc0a"
      },
      "source": [
        "# plot a bar chart\n",
        "sns.countplot(data = df, x = 'Gender', color = base_color)\n",
        "plt.title('Paitents Gender')\n",
        "plt.xticks([0, 1], ['Female', 'Male'])\n",
        "plt.xlabel('Gender')\n",
        "plt.ylabel('Number of Patients');"
      ],
      "execution_count": null,
      "outputs": [
        {
          "output_type": "display_data",
          "data": {
            "image/png": "[encoded data removed]",
            "text/plain": [
              "<Figure size 432x288 with 1 Axes>"
            ]
          },
          "metadata": {
            "needs_background": "light"
          }
        }
      ]
    },
    {
      "cell_type": "markdown",
      "metadata": {
        "id": "TPVlZ47ZHfkn"
      },
      "source": [
        "It is easy to note that most patients were females."
      ]
    },
    {
      "cell_type": "markdown",
      "metadata": {
        "id": "RzV2VmMfHroL"
      },
      "source": [
        "**age column**\n"
      ]
    },
    {
      "cell_type": "code",
      "metadata": {
        "colab": {
          "base_uri": "https://localhost:8080/",
          "height": 295
        },
        "id": "kMcT9vmdHWSI",
        "outputId": "758bc031-a001-4153-b58b-9a88b0a068f9"
      },
      "source": [
        "# plot a histogram \n",
        "#bin_edges --> regers to bin's width\n",
        "bin_edges = np.arange(0, df['Age'].max()+5, 5)\n",
        "plt.hist(data = df, x = 'Age', bins = bin_edges)\n",
        "plt.xlabel('Age')\n",
        "plt.title('Distribution of Patients Age');"
      ],
      "execution_count": null,
      "outputs": [
        {
          "output_type": "display_data",
          "data": {
            "image/png": "[encoded data removed]",
            "text/plain": [
              "<Figure size 432x288 with 1 Axes>"
            ]
          },
          "metadata": {
            "needs_background": "light"
          }
        }
      ]
    },
    {
      "cell_type": "markdown",
      "metadata": {
        "id": "QNfvxM3mI6Hl"
      },
      "source": [
        "Most patients were young."
      ]
    },
    {
      "cell_type": "markdown",
      "metadata": {
        "id": "Fd-2lFgKI1e1"
      },
      "source": [
        "**scholarship column**"
      ]
    },
    {
      "cell_type": "code",
      "metadata": {
        "colab": {
          "base_uri": "https://localhost:8080/",
          "height": 295
        },
        "id": "t3wdZF7YHwQ6",
        "outputId": "01ad090b-6355-44a8-d4b3-0b6db1c8dae1"
      },
      "source": [
        "# plot a bar chart\n",
        "sns.countplot(data = df, x = 'Scholarship', color = base_color)\n",
        "plt.title('Paitents Scholarship Status')\n",
        "plt.xticks([0, 1], ['No Scholarship', 'Scholarship'])\n",
        "plt.xlabel('Status')\n",
        "plt.ylabel('Number of Patients');"
      ],
      "execution_count": null,
      "outputs": [
        {
          "output_type": "display_data",
          "data": {
            "image/png": "[encoded data removed]",
            "text/plain": [
              "<Figure size 432x288 with 1 Axes>"
            ]
          },
          "metadata": {
            "needs_background": "light"
          }
        }
      ]
    },
    {
      "cell_type": "markdown",
      "metadata": {
        "id": "6to50I2FJSmZ"
      },
      "source": [
        "Most patients didn't have a scholarship."
      ]
    },
    {
      "cell_type": "markdown",
      "metadata": {
        "id": "31T861AQJW8D"
      },
      "source": [
        "**alcoholism, diabetes, handcap, and hipertension columns**"
      ]
    },
    {
      "cell_type": "code",
      "metadata": {
        "colab": {
          "base_uri": "https://localhost:8080/",
          "height": 620
        },
        "id": "Dq33Ab0MJClk",
        "outputId": "f461af08-25e2-4389-9e84-90d7bb5443cc"
      },
      "source": [
        "plt.figure(figsize = [14, 10]) # larger figure size for subplots\n",
        "\n",
        "# alcoholism column\n",
        "plt.subplot(2, 2, 1) # 2 rows, 2 cols, subplot 1\n",
        "sns.countplot(data = df, x = 'Alcoholism', color = base_color)\n",
        "plt.title('Paitents Alcoholism Status')\n",
        "plt.xticks([0, 1], ['Not an Alcoholic', 'Alcoholic'])\n",
        "plt.xlabel('')\n",
        "plt.ylabel('Number of Patients');\n",
        "\n",
        "# diabetes column\n",
        "plt.subplot(2, 2, 2) # 2 row, 2 cols, subplot 2\n",
        "sns.countplot(data = df, x = 'Diabetes', color = base_color)\n",
        "plt.title('Paitents Diabetes Status')\n",
        "plt.xticks([0, 1], ['Not Diabetic', 'Diabetic'])\n",
        "plt.xlabel('')\n",
        "plt.ylabel('');\n",
        "\n",
        "# hipertension column\n",
        "plt.subplot(2, 2, 3) # 2 rows, 2 cols, subplot 3\n",
        "sns.countplot(data = df, x = 'Hipertension', color = base_color)\n",
        "plt.title('Paitents Hypertension Status')\n",
        "plt.xticks([0, 1], ['Not Hypertensive', 'Hypertensive'])\n",
        "plt.xlabel('Status')\n",
        "plt.ylabel('Number of Patients');\n",
        "\n",
        "# handcap column\n",
        "plt.subplot(2, 2, 4) # 2 row, 2 cols, subplot 4\n",
        "sns.countplot(data = df, x = 'Handcap', color = base_color)\n",
        "plt.title('Paitents Handicap Status')\n",
        "plt.xticks([0, 1], ['Not Handicapped','Handicapped'])\n",
        "plt.xlabel('Status')\n",
        "plt.ylabel('');"
      ],
      "execution_count": null,
      "outputs": [
        {
          "output_type": "display_data",
          "data": {
            "image/png": "[encoded data removed]",
            "text/plain": [
              "<Figure size 1008x720 with 4 Axes>"
            ]
          },
          "metadata": {
            "needs_background": "light"
          }
        }
      ]
    },
    {
      "cell_type": "markdown",
      "metadata": {
        "id": "fzSNGSmxLMMy"
      },
      "source": [
        "Most patients didn't suffer from alcoholism, diabetes, hypertension, or any handicap."
      ]
    },
    {
      "cell_type": "markdown",
      "metadata": {
        "id": "K362RBUdLebR"
      },
      "source": [
        "###**New Useful Columns**"
      ]
    },
    {
      "cell_type": "code",
      "metadata": {
        "colab": {
          "base_uri": "https://localhost:8080/",
          "height": 237
        },
        "id": "Fxebh2kKJdat",
        "outputId": "0c3cc054-9820-406a-be30-b2ecfc635e86"
      },
      "source": [
        "df.head()"
      ],
      "execution_count": null,
      "outputs": [
        {
          "output_type": "execute_result",
          "data": {
            "text/html": [
              "<div>\n",
              "<style scoped>\n",
              "    .dataframe tbody tr th:only-of-type {\n",
              "        vertical-align: middle;\n",
              "    }\n",
              "\n",
              "    .dataframe tbody tr th {\n",
              "        vertical-align: top;\n",
              "    }\n",
              "\n",
              "    .dataframe thead th {\n",
              "        text-align: right;\n",
              "    }\n",
              "</style>\n",
              "<table border=\"1\" class=\"dataframe\">\n",
              "  <thead>\n",
              "    <tr style=\"text-align: right;\">\n",
              "      <th></th>\n",
              "      <th>PatientId</th>\n",
              "      <th>Gender</th>\n",
              "      <th>ScheduledDay</th>\n",
              "      <th>AppointmentDay</th>\n",
              "      <th>Age</th>\n",
              "      <th>Neighbourhood</th>\n",
              "      <th>Scholarship</th>\n",
              "      <th>Hipertension</th>\n",
              "      <th>Diabetes</th>\n",
              "      <th>Alcoholism</th>\n",
              "      <th>Handcap</th>\n",
              "      <th>SMS_received</th>\n",
              "      <th>NoShow</th>\n",
              "      <th>DayOfWeek</th>\n",
              "    </tr>\n",
              "    <tr>\n",
              "      <th>AppointmentID</th>\n",
              "      <th></th>\n",
              "      <th></th>\n",
              "      <th></th>\n",
              "      <th></th>\n",
              "      <th></th>\n",
              "      <th></th>\n",
              "      <th></th>\n",
              "      <th></th>\n",
              "      <th></th>\n",
              "      <th></th>\n",
              "      <th></th>\n",
              "      <th></th>\n",
              "      <th></th>\n",
              "      <th></th>\n",
              "    </tr>\n",
              "  </thead>\n",
              "  <tbody>\n",
              "    <tr>\n",
              "      <th>5642903</th>\n",
              "      <td>2.987250e+13</td>\n",
              "      <td>F</td>\n",
              "      <td>2016-04-29</td>\n",
              "      <td>2016-04-29</td>\n",
              "      <td>62</td>\n",
              "      <td>JARDIM DA PENHA</td>\n",
              "      <td>0</td>\n",
              "      <td>1</td>\n",
              "      <td>0</td>\n",
              "      <td>0</td>\n",
              "      <td>0</td>\n",
              "      <td>0</td>\n",
              "      <td>1</td>\n",
              "      <td>Friday</td>\n",
              "    </tr>\n",
              "    <tr>\n",
              "      <th>5642503</th>\n",
              "      <td>5.589978e+14</td>\n",
              "      <td>M</td>\n",
              "      <td>2016-04-29</td>\n",
              "      <td>2016-04-29</td>\n",
              "      <td>56</td>\n",
              "      <td>JARDIM DA PENHA</td>\n",
              "      <td>0</td>\n",
              "      <td>0</td>\n",
              "      <td>0</td>\n",
              "      <td>0</td>\n",
              "      <td>0</td>\n",
              "      <td>0</td>\n",
              "      <td>1</td>\n",
              "      <td>Friday</td>\n",
              "    </tr>\n",
              "    <tr>\n",
              "      <th>5642549</th>\n",
              "      <td>4.262962e+12</td>\n",
              "      <td>F</td>\n",
              "      <td>2016-04-29</td>\n",
              "      <td>2016-04-29</td>\n",
              "      <td>62</td>\n",
              "      <td>MATA DA PRAIA</td>\n",
              "      <td>0</td>\n",
              "      <td>0</td>\n",
              "      <td>0</td>\n",
              "      <td>0</td>\n",
              "      <td>0</td>\n",
              "      <td>0</td>\n",
              "      <td>1</td>\n",
              "      <td>Friday</td>\n",
              "    </tr>\n",
              "    <tr>\n",
              "      <th>5642828</th>\n",
              "      <td>8.679512e+11</td>\n",
              "      <td>F</td>\n",
              "      <td>2016-04-29</td>\n",
              "      <td>2016-04-29</td>\n",
              "      <td>8</td>\n",
              "      <td>PONTAL DE CAMBURI</td>\n",
              "      <td>0</td>\n",
              "      <td>0</td>\n",
              "      <td>0</td>\n",
              "      <td>0</td>\n",
              "      <td>0</td>\n",
              "      <td>0</td>\n",
              "      <td>1</td>\n",
              "      <td>Friday</td>\n",
              "    </tr>\n",
              "    <tr>\n",
              "      <th>5642494</th>\n",
              "      <td>8.841186e+12</td>\n",
              "      <td>F</td>\n",
              "      <td>2016-04-29</td>\n",
              "      <td>2016-04-29</td>\n",
              "      <td>56</td>\n",
              "      <td>JARDIM DA PENHA</td>\n",
              "      <td>0</td>\n",
              "      <td>1</td>\n",
              "      <td>1</td>\n",
              "      <td>0</td>\n",
              "      <td>0</td>\n",
              "      <td>0</td>\n",
              "      <td>1</td>\n",
              "      <td>Friday</td>\n",
              "    </tr>\n",
              "  </tbody>\n",
              "</table>\n",
              "</div>"
            ],
            "text/plain": [
              "                  PatientId Gender ScheduledDay  ... SMS_received  NoShow DayOfWeek\n",
              "AppointmentID                                    ...                               \n",
              "5642903        2.987250e+13      F   2016-04-29  ...            0       1    Friday\n",
              "5642503        5.589978e+14      M   2016-04-29  ...            0       1    Friday\n",
              "5642549        4.262962e+12      F   2016-04-29  ...            0       1    Friday\n",
              "5642828        8.679512e+11      F   2016-04-29  ...            0       1    Friday\n",
              "5642494        8.841186e+12      F   2016-04-29  ...            0       1    Friday\n",
              "\n",
              "[5 rows x 14 columns]"
            ]
          },
          "metadata": {},
          "execution_count": 231
        }
      ]
    },
    {
      "cell_type": "markdown",
      "metadata": {
        "id": "hVljVDqTLq8L"
      },
      "source": [
        "***days_between (between scheduled_day and appointment_day)***"
      ]
    },
    {
      "cell_type": "code",
      "metadata": {
        "colab": {
          "base_uri": "https://localhost:8080/",
          "height": 237
        },
        "id": "LUUoWb9DLkEn",
        "outputId": "b1be94a9-cebf-4423-b092-084fd5a507ed"
      },
      "source": [
        "# calculate days between scheduled_day and appointment_day\n",
        "days_between = (df['AppointmentDay'] - df['ScheduledDay']).dt.days\n",
        "# insert a new column (days_between) before column 3\n",
        "df.insert(3, 'days_between', days_between)\n",
        "df.head()"
      ],
      "execution_count": null,
      "outputs": [
        {
          "output_type": "execute_result",
          "data": {
            "text/html": [
              "<div>\n",
              "<style scoped>\n",
              "    .dataframe tbody tr th:only-of-type {\n",
              "        vertical-align: middle;\n",
              "    }\n",
              "\n",
              "    .dataframe tbody tr th {\n",
              "        vertical-align: top;\n",
              "    }\n",
              "\n",
              "    .dataframe thead th {\n",
              "        text-align: right;\n",
              "    }\n",
              "</style>\n",
              "<table border=\"1\" class=\"dataframe\">\n",
              "  <thead>\n",
              "    <tr style=\"text-align: right;\">\n",
              "      <th></th>\n",
              "      <th>PatientId</th>\n",
              "      <th>Gender</th>\n",
              "      <th>ScheduledDay</th>\n",
              "      <th>days_between</th>\n",
              "      <th>AppointmentDay</th>\n",
              "      <th>Age</th>\n",
              "      <th>Neighbourhood</th>\n",
              "      <th>Scholarship</th>\n",
              "      <th>Hipertension</th>\n",
              "      <th>Diabetes</th>\n",
              "      <th>Alcoholism</th>\n",
              "      <th>Handcap</th>\n",
              "      <th>SMS_received</th>\n",
              "      <th>NoShow</th>\n",
              "      <th>DayOfWeek</th>\n",
              "    </tr>\n",
              "    <tr>\n",
              "      <th>AppointmentID</th>\n",
              "      <th></th>\n",
              "      <th></th>\n",
              "      <th></th>\n",
              "      <th></th>\n",
              "      <th></th>\n",
              "      <th></th>\n",
              "      <th></th>\n",
              "      <th></th>\n",
              "      <th></th>\n",
              "      <th></th>\n",
              "      <th></th>\n",
              "      <th></th>\n",
              "      <th></th>\n",
              "      <th></th>\n",
              "      <th></th>\n",
              "    </tr>\n",
              "  </thead>\n",
              "  <tbody>\n",
              "    <tr>\n",
              "      <th>5642903</th>\n",
              "      <td>2.987250e+13</td>\n",
              "      <td>F</td>\n",
              "      <td>2016-04-29</td>\n",
              "      <td>0</td>\n",
              "      <td>2016-04-29</td>\n",
              "      <td>62</td>\n",
              "      <td>JARDIM DA PENHA</td>\n",
              "      <td>0</td>\n",
              "      <td>1</td>\n",
              "      <td>0</td>\n",
              "      <td>0</td>\n",
              "      <td>0</td>\n",
              "      <td>0</td>\n",
              "      <td>1</td>\n",
              "      <td>Friday</td>\n",
              "    </tr>\n",
              "    <tr>\n",
              "      <th>5642503</th>\n",
              "      <td>5.589978e+14</td>\n",
              "      <td>M</td>\n",
              "      <td>2016-04-29</td>\n",
              "      <td>0</td>\n",
              "      <td>2016-04-29</td>\n",
              "      <td>56</td>\n",
              "      <td>JARDIM DA PENHA</td>\n",
              "      <td>0</td>\n",
              "      <td>0</td>\n",
              "      <td>0</td>\n",
              "      <td>0</td>\n",
              "      <td>0</td>\n",
              "      <td>0</td>\n",
              "      <td>1</td>\n",
              "      <td>Friday</td>\n",
              "    </tr>\n",
              "    <tr>\n",
              "      <th>5642549</th>\n",
              "      <td>4.262962e+12</td>\n",
              "      <td>F</td>\n",
              "      <td>2016-04-29</td>\n",
              "      <td>0</td>\n",
              "      <td>2016-04-29</td>\n",
              "      <td>62</td>\n",
              "      <td>MATA DA PRAIA</td>\n",
              "      <td>0</td>\n",
              "      <td>0</td>\n",
              "      <td>0</td>\n",
              "      <td>0</td>\n",
              "      <td>0</td>\n",
              "      <td>0</td>\n",
              "      <td>1</td>\n",
              "      <td>Friday</td>\n",
              "    </tr>\n",
              "    <tr>\n",
              "      <th>5642828</th>\n",
              "      <td>8.679512e+11</td>\n",
              "      <td>F</td>\n",
              "      <td>2016-04-29</td>\n",
              "      <td>0</td>\n",
              "      <td>2016-04-29</td>\n",
              "      <td>8</td>\n",
              "      <td>PONTAL DE CAMBURI</td>\n",
              "      <td>0</td>\n",
              "      <td>0</td>\n",
              "      <td>0</td>\n",
              "      <td>0</td>\n",
              "      <td>0</td>\n",
              "      <td>0</td>\n",
              "      <td>1</td>\n",
              "      <td>Friday</td>\n",
              "    </tr>\n",
              "    <tr>\n",
              "      <th>5642494</th>\n",
              "      <td>8.841186e+12</td>\n",
              "      <td>F</td>\n",
              "      <td>2016-04-29</td>\n",
              "      <td>0</td>\n",
              "      <td>2016-04-29</td>\n",
              "      <td>56</td>\n",
              "      <td>JARDIM DA PENHA</td>\n",
              "      <td>0</td>\n",
              "      <td>1</td>\n",
              "      <td>1</td>\n",
              "      <td>0</td>\n",
              "      <td>0</td>\n",
              "      <td>0</td>\n",
              "      <td>1</td>\n",
              "      <td>Friday</td>\n",
              "    </tr>\n",
              "  </tbody>\n",
              "</table>\n",
              "</div>"
            ],
            "text/plain": [
              "                  PatientId Gender ScheduledDay  ...  SMS_received NoShow  DayOfWeek\n",
              "AppointmentID                                    ...                                \n",
              "5642903        2.987250e+13      F   2016-04-29  ...             0      1     Friday\n",
              "5642503        5.589978e+14      M   2016-04-29  ...             0      1     Friday\n",
              "5642549        4.262962e+12      F   2016-04-29  ...             0      1     Friday\n",
              "5642828        8.679512e+11      F   2016-04-29  ...             0      1     Friday\n",
              "5642494        8.841186e+12      F   2016-04-29  ...             0      1     Friday\n",
              "\n",
              "[5 rows x 15 columns]"
            ]
          },
          "metadata": {},
          "execution_count": 232
        }
      ]
    },
    {
      "cell_type": "code",
      "metadata": {
        "colab": {
          "base_uri": "https://localhost:8080/",
          "height": 237
        },
        "id": "f_tlzLLmLvOk",
        "outputId": "689373e7-4e6c-4a42-d516-a8374b685a00"
      },
      "source": [
        "# make sure there are no negative values\n",
        "negative_days = df.query('days_between < 0')\n",
        "negative_days"
      ],
      "execution_count": null,
      "outputs": [
        {
          "output_type": "execute_result",
          "data": {
            "text/html": [
              "<div>\n",
              "<style scoped>\n",
              "    .dataframe tbody tr th:only-of-type {\n",
              "        vertical-align: middle;\n",
              "    }\n",
              "\n",
              "    .dataframe tbody tr th {\n",
              "        vertical-align: top;\n",
              "    }\n",
              "\n",
              "    .dataframe thead th {\n",
              "        text-align: right;\n",
              "    }\n",
              "</style>\n",
              "<table border=\"1\" class=\"dataframe\">\n",
              "  <thead>\n",
              "    <tr style=\"text-align: right;\">\n",
              "      <th></th>\n",
              "      <th>PatientId</th>\n",
              "      <th>Gender</th>\n",
              "      <th>ScheduledDay</th>\n",
              "      <th>days_between</th>\n",
              "      <th>AppointmentDay</th>\n",
              "      <th>Age</th>\n",
              "      <th>Neighbourhood</th>\n",
              "      <th>Scholarship</th>\n",
              "      <th>Hipertension</th>\n",
              "      <th>Diabetes</th>\n",
              "      <th>Alcoholism</th>\n",
              "      <th>Handcap</th>\n",
              "      <th>SMS_received</th>\n",
              "      <th>NoShow</th>\n",
              "      <th>DayOfWeek</th>\n",
              "    </tr>\n",
              "    <tr>\n",
              "      <th>AppointmentID</th>\n",
              "      <th></th>\n",
              "      <th></th>\n",
              "      <th></th>\n",
              "      <th></th>\n",
              "      <th></th>\n",
              "      <th></th>\n",
              "      <th></th>\n",
              "      <th></th>\n",
              "      <th></th>\n",
              "      <th></th>\n",
              "      <th></th>\n",
              "      <th></th>\n",
              "      <th></th>\n",
              "      <th></th>\n",
              "      <th></th>\n",
              "    </tr>\n",
              "  </thead>\n",
              "  <tbody>\n",
              "    <tr>\n",
              "      <th>5679978</th>\n",
              "      <td>7.839273e+12</td>\n",
              "      <td>M</td>\n",
              "      <td>2016-05-10</td>\n",
              "      <td>-1</td>\n",
              "      <td>2016-05-09</td>\n",
              "      <td>38</td>\n",
              "      <td>RESISTÊNCIA</td>\n",
              "      <td>0</td>\n",
              "      <td>0</td>\n",
              "      <td>0</td>\n",
              "      <td>0</td>\n",
              "      <td>1</td>\n",
              "      <td>0</td>\n",
              "      <td>0</td>\n",
              "      <td>Monday</td>\n",
              "    </tr>\n",
              "    <tr>\n",
              "      <th>5715660</th>\n",
              "      <td>7.896294e+12</td>\n",
              "      <td>F</td>\n",
              "      <td>2016-05-18</td>\n",
              "      <td>-1</td>\n",
              "      <td>2016-05-17</td>\n",
              "      <td>19</td>\n",
              "      <td>SANTO ANTÔNIO</td>\n",
              "      <td>0</td>\n",
              "      <td>0</td>\n",
              "      <td>0</td>\n",
              "      <td>0</td>\n",
              "      <td>1</td>\n",
              "      <td>0</td>\n",
              "      <td>0</td>\n",
              "      <td>Tuesday</td>\n",
              "    </tr>\n",
              "    <tr>\n",
              "      <th>5664962</th>\n",
              "      <td>2.425226e+13</td>\n",
              "      <td>F</td>\n",
              "      <td>2016-05-05</td>\n",
              "      <td>-1</td>\n",
              "      <td>2016-05-04</td>\n",
              "      <td>22</td>\n",
              "      <td>CONSOLAÇÃO</td>\n",
              "      <td>0</td>\n",
              "      <td>0</td>\n",
              "      <td>0</td>\n",
              "      <td>0</td>\n",
              "      <td>0</td>\n",
              "      <td>0</td>\n",
              "      <td>0</td>\n",
              "      <td>Wednesday</td>\n",
              "    </tr>\n",
              "    <tr>\n",
              "      <th>5686628</th>\n",
              "      <td>9.982316e+14</td>\n",
              "      <td>F</td>\n",
              "      <td>2016-05-11</td>\n",
              "      <td>-6</td>\n",
              "      <td>2016-05-05</td>\n",
              "      <td>81</td>\n",
              "      <td>SANTO ANTÔNIO</td>\n",
              "      <td>0</td>\n",
              "      <td>0</td>\n",
              "      <td>0</td>\n",
              "      <td>0</td>\n",
              "      <td>0</td>\n",
              "      <td>0</td>\n",
              "      <td>0</td>\n",
              "      <td>Thursday</td>\n",
              "    </tr>\n",
              "    <tr>\n",
              "      <th>5655637</th>\n",
              "      <td>3.787482e+12</td>\n",
              "      <td>M</td>\n",
              "      <td>2016-05-04</td>\n",
              "      <td>-1</td>\n",
              "      <td>2016-05-03</td>\n",
              "      <td>7</td>\n",
              "      <td>TABUAZEIRO</td>\n",
              "      <td>0</td>\n",
              "      <td>0</td>\n",
              "      <td>0</td>\n",
              "      <td>0</td>\n",
              "      <td>0</td>\n",
              "      <td>0</td>\n",
              "      <td>0</td>\n",
              "      <td>Tuesday</td>\n",
              "    </tr>\n",
              "  </tbody>\n",
              "</table>\n",
              "</div>"
            ],
            "text/plain": [
              "                  PatientId Gender  ... NoShow  DayOfWeek\n",
              "AppointmentID                       ...                  \n",
              "5679978        7.839273e+12      M  ...      0     Monday\n",
              "5715660        7.896294e+12      F  ...      0    Tuesday\n",
              "5664962        2.425226e+13      F  ...      0  Wednesday\n",
              "5686628        9.982316e+14      F  ...      0   Thursday\n",
              "5655637        3.787482e+12      M  ...      0    Tuesday\n",
              "\n",
              "[5 rows x 15 columns]"
            ]
          },
          "metadata": {},
          "execution_count": 233
        }
      ]
    },
    {
      "cell_type": "markdown",
      "metadata": {
        "id": "FdsGHZ2LNLq3"
      },
      "source": [
        "Since it's not right to have a scheduled_day after appointment_day these rows will be droped."
      ]
    },
    {
      "cell_type": "code",
      "metadata": {
        "colab": {
          "base_uri": "https://localhost:8080/",
          "height": 81
        },
        "id": "LmUIYjNFNIkG",
        "outputId": "3e7d0b26-969f-49c8-d123-7e10e5307205"
      },
      "source": [
        "# drop the rows with negative days\n",
        "df.drop(negative_days.index, inplace=True)\n",
        "# check again\n",
        "df.query('days_between < 0')"
      ],
      "execution_count": null,
      "outputs": [
        {
          "output_type": "execute_result",
          "data": {
            "text/html": [
              "<div>\n",
              "<style scoped>\n",
              "    .dataframe tbody tr th:only-of-type {\n",
              "        vertical-align: middle;\n",
              "    }\n",
              "\n",
              "    .dataframe tbody tr th {\n",
              "        vertical-align: top;\n",
              "    }\n",
              "\n",
              "    .dataframe thead th {\n",
              "        text-align: right;\n",
              "    }\n",
              "</style>\n",
              "<table border=\"1\" class=\"dataframe\">\n",
              "  <thead>\n",
              "    <tr style=\"text-align: right;\">\n",
              "      <th></th>\n",
              "      <th>PatientId</th>\n",
              "      <th>Gender</th>\n",
              "      <th>ScheduledDay</th>\n",
              "      <th>days_between</th>\n",
              "      <th>AppointmentDay</th>\n",
              "      <th>Age</th>\n",
              "      <th>Neighbourhood</th>\n",
              "      <th>Scholarship</th>\n",
              "      <th>Hipertension</th>\n",
              "      <th>Diabetes</th>\n",
              "      <th>Alcoholism</th>\n",
              "      <th>Handcap</th>\n",
              "      <th>SMS_received</th>\n",
              "      <th>NoShow</th>\n",
              "      <th>DayOfWeek</th>\n",
              "    </tr>\n",
              "    <tr>\n",
              "      <th>AppointmentID</th>\n",
              "      <th></th>\n",
              "      <th></th>\n",
              "      <th></th>\n",
              "      <th></th>\n",
              "      <th></th>\n",
              "      <th></th>\n",
              "      <th></th>\n",
              "      <th></th>\n",
              "      <th></th>\n",
              "      <th></th>\n",
              "      <th></th>\n",
              "      <th></th>\n",
              "      <th></th>\n",
              "      <th></th>\n",
              "      <th></th>\n",
              "    </tr>\n",
              "  </thead>\n",
              "  <tbody>\n",
              "  </tbody>\n",
              "</table>\n",
              "</div>"
            ],
            "text/plain": [
              "Empty DataFrame\n",
              "Columns: [PatientId, Gender, ScheduledDay, days_between, AppointmentDay, Age, Neighbourhood, Scholarship, Hipertension, Diabetes, Alcoholism, Handcap, SMS_received, NoShow, DayOfWeek]\n",
              "Index: []"
            ]
          },
          "metadata": {},
          "execution_count": 234
        }
      ]
    },
    {
      "cell_type": "markdown",
      "metadata": {
        "id": "C4zuIc8PNSei"
      },
      "source": [
        "***waiting period (classify days_between to 4 groups)***"
      ]
    },
    {
      "cell_type": "code",
      "metadata": {
        "colab": {
          "base_uri": "https://localhost:8080/"
        },
        "id": "7ZqeOc4FNO9A",
        "outputId": "2500e0d4-4e4e-4edf-df01-94ec07b3aa96"
      },
      "source": [
        "# view the min, 25%, 50%, 75%, max days_between values\n",
        "df['days_between'].describe()"
      ],
      "execution_count": null,
      "outputs": [
        {
          "output_type": "execute_result",
          "data": {
            "text/plain": [
              "count    110516.000000\n",
              "mean         10.184272\n",
              "std          15.255201\n",
              "min           0.000000\n",
              "25%           0.000000\n",
              "50%           4.000000\n",
              "75%          15.000000\n",
              "max         179.000000\n",
              "Name: days_between, dtype: float64"
            ]
          },
          "metadata": {},
          "execution_count": 235
        }
      ]
    },
    {
      "cell_type": "code",
      "metadata": {
        "colab": {
          "base_uri": "https://localhost:8080/"
        },
        "id": "HEG250K6NZot",
        "outputId": "1df1d6f1-da14-422c-ad51-c26b117e34a8"
      },
      "source": [
        "# bin edges that will be used to \"cut\" the data into groups\n",
        "bin_edges = [-1, 0, 4, 15, 179]\n",
        "# labels for the four waiting period groups\n",
        "bin_names = ['0 days','1-4 days','5-15 days','16 days and above']\n",
        "waiting_period = pd.cut(df['days_between'], bin_edges, labels=bin_names)\n",
        "waiting_period"
      ],
      "execution_count": null,
      "outputs": [
        {
          "output_type": "execute_result",
          "data": {
            "text/plain": [
              "AppointmentID\n",
              "5642903               0 days\n",
              "5642503               0 days\n",
              "5642549               0 days\n",
              "5642828               0 days\n",
              "5642494               0 days\n",
              "                 ...        \n",
              "5651768    16 days and above\n",
              "5650093    16 days and above\n",
              "5630692    16 days and above\n",
              "5630323    16 days and above\n",
              "5629448    16 days and above\n",
              "Name: days_between, Length: 110516, dtype: category\n",
              "Categories (4, object): ['0 days' < '1-4 days' < '5-15 days' < '16 days and above']"
            ]
          },
          "metadata": {},
          "execution_count": 236
        }
      ]
    },
    {
      "cell_type": "code",
      "metadata": {
        "colab": {
          "base_uri": "https://localhost:8080/",
          "height": 237
        },
        "id": "9vkaH2YNRW_B",
        "outputId": "c5579ffc-e213-4208-eb0f-56c7b21d7b11"
      },
      "source": [
        "# insert a new column (waiting_period) before column 4\n",
        "df.insert(4, 'waiting_period', waiting_period)\n",
        "df.head()"
      ],
      "execution_count": null,
      "outputs": [
        {
          "output_type": "execute_result",
          "data": {
            "text/html": [
              "<div>\n",
              "<style scoped>\n",
              "    .dataframe tbody tr th:only-of-type {\n",
              "        vertical-align: middle;\n",
              "    }\n",
              "\n",
              "    .dataframe tbody tr th {\n",
              "        vertical-align: top;\n",
              "    }\n",
              "\n",
              "    .dataframe thead th {\n",
              "        text-align: right;\n",
              "    }\n",
              "</style>\n",
              "<table border=\"1\" class=\"dataframe\">\n",
              "  <thead>\n",
              "    <tr style=\"text-align: right;\">\n",
              "      <th></th>\n",
              "      <th>PatientId</th>\n",
              "      <th>Gender</th>\n",
              "      <th>ScheduledDay</th>\n",
              "      <th>days_between</th>\n",
              "      <th>waiting_period</th>\n",
              "      <th>AppointmentDay</th>\n",
              "      <th>Age</th>\n",
              "      <th>Neighbourhood</th>\n",
              "      <th>Scholarship</th>\n",
              "      <th>Hipertension</th>\n",
              "      <th>Diabetes</th>\n",
              "      <th>Alcoholism</th>\n",
              "      <th>Handcap</th>\n",
              "      <th>SMS_received</th>\n",
              "      <th>NoShow</th>\n",
              "      <th>DayOfWeek</th>\n",
              "    </tr>\n",
              "    <tr>\n",
              "      <th>AppointmentID</th>\n",
              "      <th></th>\n",
              "      <th></th>\n",
              "      <th></th>\n",
              "      <th></th>\n",
              "      <th></th>\n",
              "      <th></th>\n",
              "      <th></th>\n",
              "      <th></th>\n",
              "      <th></th>\n",
              "      <th></th>\n",
              "      <th></th>\n",
              "      <th></th>\n",
              "      <th></th>\n",
              "      <th></th>\n",
              "      <th></th>\n",
              "      <th></th>\n",
              "    </tr>\n",
              "  </thead>\n",
              "  <tbody>\n",
              "    <tr>\n",
              "      <th>5642903</th>\n",
              "      <td>2.987250e+13</td>\n",
              "      <td>F</td>\n",
              "      <td>2016-04-29</td>\n",
              "      <td>0</td>\n",
              "      <td>0 days</td>\n",
              "      <td>2016-04-29</td>\n",
              "      <td>62</td>\n",
              "      <td>JARDIM DA PENHA</td>\n",
              "      <td>0</td>\n",
              "      <td>1</td>\n",
              "      <td>0</td>\n",
              "      <td>0</td>\n",
              "      <td>0</td>\n",
              "      <td>0</td>\n",
              "      <td>1</td>\n",
              "      <td>Friday</td>\n",
              "    </tr>\n",
              "    <tr>\n",
              "      <th>5642503</th>\n",
              "      <td>5.589978e+14</td>\n",
              "      <td>M</td>\n",
              "      <td>2016-04-29</td>\n",
              "      <td>0</td>\n",
              "      <td>0 days</td>\n",
              "      <td>2016-04-29</td>\n",
              "      <td>56</td>\n",
              "      <td>JARDIM DA PENHA</td>\n",
              "      <td>0</td>\n",
              "      <td>0</td>\n",
              "      <td>0</td>\n",
              "      <td>0</td>\n",
              "      <td>0</td>\n",
              "      <td>0</td>\n",
              "      <td>1</td>\n",
              "      <td>Friday</td>\n",
              "    </tr>\n",
              "    <tr>\n",
              "      <th>5642549</th>\n",
              "      <td>4.262962e+12</td>\n",
              "      <td>F</td>\n",
              "      <td>2016-04-29</td>\n",
              "      <td>0</td>\n",
              "      <td>0 days</td>\n",
              "      <td>2016-04-29</td>\n",
              "      <td>62</td>\n",
              "      <td>MATA DA PRAIA</td>\n",
              "      <td>0</td>\n",
              "      <td>0</td>\n",
              "      <td>0</td>\n",
              "      <td>0</td>\n",
              "      <td>0</td>\n",
              "      <td>0</td>\n",
              "      <td>1</td>\n",
              "      <td>Friday</td>\n",
              "    </tr>\n",
              "    <tr>\n",
              "      <th>5642828</th>\n",
              "      <td>8.679512e+11</td>\n",
              "      <td>F</td>\n",
              "      <td>2016-04-29</td>\n",
              "      <td>0</td>\n",
              "      <td>0 days</td>\n",
              "      <td>2016-04-29</td>\n",
              "      <td>8</td>\n",
              "      <td>PONTAL DE CAMBURI</td>\n",
              "      <td>0</td>\n",
              "      <td>0</td>\n",
              "      <td>0</td>\n",
              "      <td>0</td>\n",
              "      <td>0</td>\n",
              "      <td>0</td>\n",
              "      <td>1</td>\n",
              "      <td>Friday</td>\n",
              "    </tr>\n",
              "    <tr>\n",
              "      <th>5642494</th>\n",
              "      <td>8.841186e+12</td>\n",
              "      <td>F</td>\n",
              "      <td>2016-04-29</td>\n",
              "      <td>0</td>\n",
              "      <td>0 days</td>\n",
              "      <td>2016-04-29</td>\n",
              "      <td>56</td>\n",
              "      <td>JARDIM DA PENHA</td>\n",
              "      <td>0</td>\n",
              "      <td>1</td>\n",
              "      <td>1</td>\n",
              "      <td>0</td>\n",
              "      <td>0</td>\n",
              "      <td>0</td>\n",
              "      <td>1</td>\n",
              "      <td>Friday</td>\n",
              "    </tr>\n",
              "  </tbody>\n",
              "</table>\n",
              "</div>"
            ],
            "text/plain": [
              "                  PatientId Gender ScheduledDay  ...  SMS_received NoShow DayOfWeek\n",
              "AppointmentID                                    ...                               \n",
              "5642903        2.987250e+13      F   2016-04-29  ...             0      1    Friday\n",
              "5642503        5.589978e+14      M   2016-04-29  ...             0      1    Friday\n",
              "5642549        4.262962e+12      F   2016-04-29  ...             0      1    Friday\n",
              "5642828        8.679512e+11      F   2016-04-29  ...             0      1    Friday\n",
              "5642494        8.841186e+12      F   2016-04-29  ...             0      1    Friday\n",
              "\n",
              "[5 rows x 16 columns]"
            ]
          },
          "metadata": {},
          "execution_count": 237
        }
      ]
    },
    {
      "cell_type": "markdown",
      "metadata": {
        "id": "r3nXiUcORwHM"
      },
      "source": [
        "Now, days_between column existance is not valuable"
      ]
    },
    {
      "cell_type": "markdown",
      "metadata": {
        "id": "12f8_S7ATSS6"
      },
      "source": [
        "***age_group (classify age to 4 groups)***"
      ]
    },
    {
      "cell_type": "code",
      "metadata": {
        "colab": {
          "base_uri": "https://localhost:8080/"
        },
        "id": "7iQ2R4brRt6V",
        "outputId": "3c0c6693-f58b-449e-dac0-9cdae879b037"
      },
      "source": [
        "# view the min, 25%, 50%, 75%, max age values\n",
        "df['Age'].describe()"
      ],
      "execution_count": null,
      "outputs": [
        {
          "output_type": "execute_result",
          "data": {
            "text/plain": [
              "count    110516.000000\n",
              "mean         37.085861\n",
              "std          23.104465\n",
              "min           0.000000\n",
              "25%          18.000000\n",
              "50%          37.000000\n",
              "75%          55.000000\n",
              "max         102.000000\n",
              "Name: Age, dtype: float64"
            ]
          },
          "metadata": {},
          "execution_count": 238
        }
      ]
    },
    {
      "cell_type": "code",
      "metadata": {
        "colab": {
          "base_uri": "https://localhost:8080/",
          "height": 237
        },
        "id": "nmHcKyc2TWJ1",
        "outputId": "64f74b7e-168d-41cc-cc99-b2de70b8bb37"
      },
      "source": [
        "# bin edges that will be used to \"cut\" the data into groups\n",
        "bin_edges = [-1, 18, 37, 55, 115]\n",
        "# labels for the four age groups\n",
        "bin_names = ['0-18','19-37','38-55','56 and above']\n",
        "age_group = pd.cut(df['Age'], bin_edges, labels=bin_names)\n",
        "# insert a new column (age_group) before column 7\n",
        "df.insert(7, 'age_group', age_group)\n",
        "df.head()"
      ],
      "execution_count": null,
      "outputs": [
        {
          "output_type": "execute_result",
          "data": {
            "text/html": [
              "<div>\n",
              "<style scoped>\n",
              "    .dataframe tbody tr th:only-of-type {\n",
              "        vertical-align: middle;\n",
              "    }\n",
              "\n",
              "    .dataframe tbody tr th {\n",
              "        vertical-align: top;\n",
              "    }\n",
              "\n",
              "    .dataframe thead th {\n",
              "        text-align: right;\n",
              "    }\n",
              "</style>\n",
              "<table border=\"1\" class=\"dataframe\">\n",
              "  <thead>\n",
              "    <tr style=\"text-align: right;\">\n",
              "      <th></th>\n",
              "      <th>PatientId</th>\n",
              "      <th>Gender</th>\n",
              "      <th>ScheduledDay</th>\n",
              "      <th>days_between</th>\n",
              "      <th>waiting_period</th>\n",
              "      <th>AppointmentDay</th>\n",
              "      <th>Age</th>\n",
              "      <th>age_group</th>\n",
              "      <th>Neighbourhood</th>\n",
              "      <th>Scholarship</th>\n",
              "      <th>Hipertension</th>\n",
              "      <th>Diabetes</th>\n",
              "      <th>Alcoholism</th>\n",
              "      <th>Handcap</th>\n",
              "      <th>SMS_received</th>\n",
              "      <th>NoShow</th>\n",
              "      <th>DayOfWeek</th>\n",
              "    </tr>\n",
              "    <tr>\n",
              "      <th>AppointmentID</th>\n",
              "      <th></th>\n",
              "      <th></th>\n",
              "      <th></th>\n",
              "      <th></th>\n",
              "      <th></th>\n",
              "      <th></th>\n",
              "      <th></th>\n",
              "      <th></th>\n",
              "      <th></th>\n",
              "      <th></th>\n",
              "      <th></th>\n",
              "      <th></th>\n",
              "      <th></th>\n",
              "      <th></th>\n",
              "      <th></th>\n",
              "      <th></th>\n",
              "      <th></th>\n",
              "    </tr>\n",
              "  </thead>\n",
              "  <tbody>\n",
              "    <tr>\n",
              "      <th>5642903</th>\n",
              "      <td>2.987250e+13</td>\n",
              "      <td>F</td>\n",
              "      <td>2016-04-29</td>\n",
              "      <td>0</td>\n",
              "      <td>0 days</td>\n",
              "      <td>2016-04-29</td>\n",
              "      <td>62</td>\n",
              "      <td>56 and above</td>\n",
              "      <td>JARDIM DA PENHA</td>\n",
              "      <td>0</td>\n",
              "      <td>1</td>\n",
              "      <td>0</td>\n",
              "      <td>0</td>\n",
              "      <td>0</td>\n",
              "      <td>0</td>\n",
              "      <td>1</td>\n",
              "      <td>Friday</td>\n",
              "    </tr>\n",
              "    <tr>\n",
              "      <th>5642503</th>\n",
              "      <td>5.589978e+14</td>\n",
              "      <td>M</td>\n",
              "      <td>2016-04-29</td>\n",
              "      <td>0</td>\n",
              "      <td>0 days</td>\n",
              "      <td>2016-04-29</td>\n",
              "      <td>56</td>\n",
              "      <td>56 and above</td>\n",
              "      <td>JARDIM DA PENHA</td>\n",
              "      <td>0</td>\n",
              "      <td>0</td>\n",
              "      <td>0</td>\n",
              "      <td>0</td>\n",
              "      <td>0</td>\n",
              "      <td>0</td>\n",
              "      <td>1</td>\n",
              "      <td>Friday</td>\n",
              "    </tr>\n",
              "    <tr>\n",
              "      <th>5642549</th>\n",
              "      <td>4.262962e+12</td>\n",
              "      <td>F</td>\n",
              "      <td>2016-04-29</td>\n",
              "      <td>0</td>\n",
              "      <td>0 days</td>\n",
              "      <td>2016-04-29</td>\n",
              "      <td>62</td>\n",
              "      <td>56 and above</td>\n",
              "      <td>MATA DA PRAIA</td>\n",
              "      <td>0</td>\n",
              "      <td>0</td>\n",
              "      <td>0</td>\n",
              "      <td>0</td>\n",
              "      <td>0</td>\n",
              "      <td>0</td>\n",
              "      <td>1</td>\n",
              "      <td>Friday</td>\n",
              "    </tr>\n",
              "    <tr>\n",
              "      <th>5642828</th>\n",
              "      <td>8.679512e+11</td>\n",
              "      <td>F</td>\n",
              "      <td>2016-04-29</td>\n",
              "      <td>0</td>\n",
              "      <td>0 days</td>\n",
              "      <td>2016-04-29</td>\n",
              "      <td>8</td>\n",
              "      <td>0-18</td>\n",
              "      <td>PONTAL DE CAMBURI</td>\n",
              "      <td>0</td>\n",
              "      <td>0</td>\n",
              "      <td>0</td>\n",
              "      <td>0</td>\n",
              "      <td>0</td>\n",
              "      <td>0</td>\n",
              "      <td>1</td>\n",
              "      <td>Friday</td>\n",
              "    </tr>\n",
              "    <tr>\n",
              "      <th>5642494</th>\n",
              "      <td>8.841186e+12</td>\n",
              "      <td>F</td>\n",
              "      <td>2016-04-29</td>\n",
              "      <td>0</td>\n",
              "      <td>0 days</td>\n",
              "      <td>2016-04-29</td>\n",
              "      <td>56</td>\n",
              "      <td>56 and above</td>\n",
              "      <td>JARDIM DA PENHA</td>\n",
              "      <td>0</td>\n",
              "      <td>1</td>\n",
              "      <td>1</td>\n",
              "      <td>0</td>\n",
              "      <td>0</td>\n",
              "      <td>0</td>\n",
              "      <td>1</td>\n",
              "      <td>Friday</td>\n",
              "    </tr>\n",
              "  </tbody>\n",
              "</table>\n",
              "</div>"
            ],
            "text/plain": [
              "                  PatientId Gender ScheduledDay  ...  SMS_received NoShow DayOfWeek\n",
              "AppointmentID                                    ...                               \n",
              "5642903        2.987250e+13      F   2016-04-29  ...             0      1    Friday\n",
              "5642503        5.589978e+14      M   2016-04-29  ...             0      1    Friday\n",
              "5642549        4.262962e+12      F   2016-04-29  ...             0      1    Friday\n",
              "5642828        8.679512e+11      F   2016-04-29  ...             0      1    Friday\n",
              "5642494        8.841186e+12      F   2016-04-29  ...             0      1    Friday\n",
              "\n",
              "[5 rows x 17 columns]"
            ]
          },
          "metadata": {},
          "execution_count": 239
        }
      ]
    },
    {
      "cell_type": "code",
      "metadata": {
        "colab": {
          "base_uri": "https://localhost:8080/",
          "height": 237
        },
        "id": "jILlDJcOTbcf",
        "outputId": "acd2e185-c1d8-4d54-ae6e-f0030903439e"
      },
      "source": [
        "# Drop columns that are no longer needed\n",
        "df.drop(['ScheduledDay', 'AppointmentDay'], axis=1, inplace=True)\n",
        "df.head()"
      ],
      "execution_count": null,
      "outputs": [
        {
          "output_type": "execute_result",
          "data": {
            "text/html": [
              "<div>\n",
              "<style scoped>\n",
              "    .dataframe tbody tr th:only-of-type {\n",
              "        vertical-align: middle;\n",
              "    }\n",
              "\n",
              "    .dataframe tbody tr th {\n",
              "        vertical-align: top;\n",
              "    }\n",
              "\n",
              "    .dataframe thead th {\n",
              "        text-align: right;\n",
              "    }\n",
              "</style>\n",
              "<table border=\"1\" class=\"dataframe\">\n",
              "  <thead>\n",
              "    <tr style=\"text-align: right;\">\n",
              "      <th></th>\n",
              "      <th>PatientId</th>\n",
              "      <th>Gender</th>\n",
              "      <th>days_between</th>\n",
              "      <th>waiting_period</th>\n",
              "      <th>Age</th>\n",
              "      <th>age_group</th>\n",
              "      <th>Neighbourhood</th>\n",
              "      <th>Scholarship</th>\n",
              "      <th>Hipertension</th>\n",
              "      <th>Diabetes</th>\n",
              "      <th>Alcoholism</th>\n",
              "      <th>Handcap</th>\n",
              "      <th>SMS_received</th>\n",
              "      <th>NoShow</th>\n",
              "      <th>DayOfWeek</th>\n",
              "    </tr>\n",
              "    <tr>\n",
              "      <th>AppointmentID</th>\n",
              "      <th></th>\n",
              "      <th></th>\n",
              "      <th></th>\n",
              "      <th></th>\n",
              "      <th></th>\n",
              "      <th></th>\n",
              "      <th></th>\n",
              "      <th></th>\n",
              "      <th></th>\n",
              "      <th></th>\n",
              "      <th></th>\n",
              "      <th></th>\n",
              "      <th></th>\n",
              "      <th></th>\n",
              "      <th></th>\n",
              "    </tr>\n",
              "  </thead>\n",
              "  <tbody>\n",
              "    <tr>\n",
              "      <th>5642903</th>\n",
              "      <td>2.987250e+13</td>\n",
              "      <td>F</td>\n",
              "      <td>0</td>\n",
              "      <td>0 days</td>\n",
              "      <td>62</td>\n",
              "      <td>56 and above</td>\n",
              "      <td>JARDIM DA PENHA</td>\n",
              "      <td>0</td>\n",
              "      <td>1</td>\n",
              "      <td>0</td>\n",
              "      <td>0</td>\n",
              "      <td>0</td>\n",
              "      <td>0</td>\n",
              "      <td>1</td>\n",
              "      <td>Friday</td>\n",
              "    </tr>\n",
              "    <tr>\n",
              "      <th>5642503</th>\n",
              "      <td>5.589978e+14</td>\n",
              "      <td>M</td>\n",
              "      <td>0</td>\n",
              "      <td>0 days</td>\n",
              "      <td>56</td>\n",
              "      <td>56 and above</td>\n",
              "      <td>JARDIM DA PENHA</td>\n",
              "      <td>0</td>\n",
              "      <td>0</td>\n",
              "      <td>0</td>\n",
              "      <td>0</td>\n",
              "      <td>0</td>\n",
              "      <td>0</td>\n",
              "      <td>1</td>\n",
              "      <td>Friday</td>\n",
              "    </tr>\n",
              "    <tr>\n",
              "      <th>5642549</th>\n",
              "      <td>4.262962e+12</td>\n",
              "      <td>F</td>\n",
              "      <td>0</td>\n",
              "      <td>0 days</td>\n",
              "      <td>62</td>\n",
              "      <td>56 and above</td>\n",
              "      <td>MATA DA PRAIA</td>\n",
              "      <td>0</td>\n",
              "      <td>0</td>\n",
              "      <td>0</td>\n",
              "      <td>0</td>\n",
              "      <td>0</td>\n",
              "      <td>0</td>\n",
              "      <td>1</td>\n",
              "      <td>Friday</td>\n",
              "    </tr>\n",
              "    <tr>\n",
              "      <th>5642828</th>\n",
              "      <td>8.679512e+11</td>\n",
              "      <td>F</td>\n",
              "      <td>0</td>\n",
              "      <td>0 days</td>\n",
              "      <td>8</td>\n",
              "      <td>0-18</td>\n",
              "      <td>PONTAL DE CAMBURI</td>\n",
              "      <td>0</td>\n",
              "      <td>0</td>\n",
              "      <td>0</td>\n",
              "      <td>0</td>\n",
              "      <td>0</td>\n",
              "      <td>0</td>\n",
              "      <td>1</td>\n",
              "      <td>Friday</td>\n",
              "    </tr>\n",
              "    <tr>\n",
              "      <th>5642494</th>\n",
              "      <td>8.841186e+12</td>\n",
              "      <td>F</td>\n",
              "      <td>0</td>\n",
              "      <td>0 days</td>\n",
              "      <td>56</td>\n",
              "      <td>56 and above</td>\n",
              "      <td>JARDIM DA PENHA</td>\n",
              "      <td>0</td>\n",
              "      <td>1</td>\n",
              "      <td>1</td>\n",
              "      <td>0</td>\n",
              "      <td>0</td>\n",
              "      <td>0</td>\n",
              "      <td>1</td>\n",
              "      <td>Friday</td>\n",
              "    </tr>\n",
              "  </tbody>\n",
              "</table>\n",
              "</div>"
            ],
            "text/plain": [
              "                  PatientId Gender  ...  NoShow DayOfWeek\n",
              "AppointmentID                       ...                  \n",
              "5642903        2.987250e+13      F  ...       1    Friday\n",
              "5642503        5.589978e+14      M  ...       1    Friday\n",
              "5642549        4.262962e+12      F  ...       1    Friday\n",
              "5642828        8.679512e+11      F  ...       1    Friday\n",
              "5642494        8.841186e+12      F  ...       1    Friday\n",
              "\n",
              "[5 rows x 15 columns]"
            ]
          },
          "metadata": {},
          "execution_count": 240
        }
      ]
    },
    {
      "cell_type": "code",
      "metadata": {
        "colab": {
          "base_uri": "https://localhost:8080/",
          "height": 295
        },
        "id": "SDl1ig6xUAwQ",
        "outputId": "faf9ce69-d919-4e3e-f1e2-984b1610901a"
      },
      "source": [
        "# age_group column\n",
        "# plot a bar chart\n",
        "sns.countplot(data = df, x = 'age_group', color = base_color)\n",
        "plt.title('Paitents Age Groups')\n",
        "plt.xlabel('Age Group')\n",
        "plt.ylabel('Number of Patients');"
      ],
      "execution_count": null,
      "outputs": [
        {
          "output_type": "display_data",
          "data": {
            "image/png": "[encoded data removed]",
            "text/plain": [
              "<Figure size 432x288 with 1 Axes>"
            ]
          },
          "metadata": {
            "needs_background": "light"
          }
        }
      ]
    },
    {
      "cell_type": "markdown",
      "metadata": {
        "id": "0rXB3Mz8UVxK"
      },
      "source": [
        "Patients age groups were about the same, but the age group (0-18) being slightly higher."
      ]
    },
    {
      "cell_type": "code",
      "metadata": {
        "colab": {
          "base_uri": "https://localhost:8080/",
          "height": 295
        },
        "id": "2kAF7nwCUMdR",
        "outputId": "925e96fd-772c-4e3e-f5f7-273e3a14778c"
      },
      "source": [
        "# waiting_period column\n",
        "# plot a bar chart\n",
        "sns.countplot(data = df, x = 'waiting_period', color = base_color)\n",
        "plt.title('Paitents Waiting Periods')\n",
        "plt.xlabel('Waiting Period')\n",
        "plt.ylabel('Number of Patients');"
      ],
      "execution_count": null,
      "outputs": [
        {
          "output_type": "display_data",
          "data": {
            "image/png": "[encoded data removed]",
            "text/plain": [
              "<Figure size 432x288 with 1 Axes>"
            ]
          },
          "metadata": {
            "needs_background": "light"
          }
        }
      ]
    },
    {
      "cell_type": "markdown",
      "metadata": {
        "id": "3SG4BeSjUjqe"
      },
      "source": [
        "Most patients scheduled their appointments on the same day."
      ]
    },
    {
      "cell_type": "code",
      "metadata": {
        "colab": {
          "base_uri": "https://localhost:8080/"
        },
        "id": "WdHQDGKmWcRY",
        "outputId": "a53cb798-add2-44c1-f734-6db7a3563357"
      },
      "source": [
        "DayOfWeek_counts = df.DayOfWeek.value_counts()\n",
        "DayOfWeek_counts.index"
      ],
      "execution_count": null,
      "outputs": [
        {
          "output_type": "execute_result",
          "data": {
            "text/plain": [
              "Index(['Wednesday', 'Tuesday', 'Monday', 'Friday', 'Thursday', 'Saturday'], dtype='object')"
            ]
          },
          "metadata": {},
          "execution_count": 243
        }
      ]
    },
    {
      "cell_type": "code",
      "metadata": {
        "colab": {
          "base_uri": "https://localhost:8080/",
          "height": 295
        },
        "id": "-L4N96_WUejL",
        "outputId": "e576c0ad-9146-45d5-b422-878691d1afc6"
      },
      "source": [
        "# DayOfWeek column\n",
        "DayOfWeek_counts = df.DayOfWeek.value_counts()\n",
        "DayOfWeek_labels = ['Mon', 'Tue', 'Wed', 'Thu', 'Fri', 'Sat', 'Sun']\n",
        "\n",
        "# plot a line plot\n",
        "plt.figure(figsize = [8, 4])\n",
        "sns.lineplot(x = DayOfWeek_counts.index,  y = DayOfWeek_counts, marker='o')\n",
        "plt.xticks(np.arange(0, 6+1, 1), DayOfWeek_labels)\n",
        "plt.title('Paitents Appointments Based on The Day of The Week')\n",
        "plt.xlabel('Day of The Week')\n",
        "plt.ylabel('Number of Appointments');"
      ],
      "execution_count": null,
      "outputs": [
        {
          "output_type": "display_data",
          "data": {
            "image/png": "[encoded data removed]",
            "text/plain": [
              "<Figure size 576x288 with 1 Axes>"
            ]
          },
          "metadata": {
            "needs_background": "light"
          }
        }
      ]
    },
    {
      "cell_type": "markdown",
      "metadata": {
        "id": "_3Oi9g2cXuqC"
      },
      "source": [
        "Most patients prefered to have their appointments on days (Monday : Friday) especially Tuesday and Wednesday."
      ]
    },
    {
      "cell_type": "markdown",
      "metadata": {
        "id": "1D2XKZZvX_ZS"
      },
      "source": [
        "##**First question -->** Can the age be considered as a factor to predict if a patient will show up for their scheduled appointment?"
      ]
    },
    {
      "cell_type": "markdown",
      "metadata": {
        "id": "4eqr00a7YMDN"
      },
      "source": [
        "This question can be answered in two methods:"
      ]
    },
    {
      "cell_type": "code",
      "metadata": {
        "colab": {
          "base_uri": "https://localhost:8080/",
          "height": 295
        },
        "id": "aTAVP3I6UrMA",
        "outputId": "2593b0b5-6f19-4eec-970d-ef1c7dc7544e"
      },
      "source": [
        "# percentages of Showed Up patients based on age group\n",
        "NoShow_perc_age = df.groupby('age_group').NoShow.mean() * 100\n",
        "\n",
        "# plot a bar chart\n",
        "plt.figure(figsize = [8, 4])\n",
        "plt.bar(x = NoShow_perc_age.index, height = NoShow_perc_age)\n",
        "plt.title('The Percentages of Showed Up Patients Based on Age Group')\n",
        "plt.xlabel('Age Group')\n",
        "plt.ylabel('Showed Up Percentage');"
      ],
      "execution_count": null,
      "outputs": [
        {
          "output_type": "display_data",
          "data": {
            "image/png": "[encoded data removed]",
            "text/plain": [
              "<Figure size 576x288 with 1 Axes>"
            ]
          },
          "metadata": {
            "needs_background": "light"
          }
        }
      ]
    },
    {
      "cell_type": "markdown",
      "metadata": {
        "id": "OVD7KeL8dnJ1"
      },
      "source": [
        "Patients age groups were about the same, with the age group (56 and above) being slightly higher.\n",
        "\n",
        "the younger the patient is the more likely he/she is going to miss the appointment.\n"
      ]
    },
    {
      "cell_type": "markdown",
      "metadata": {
        "id": "Y_4yque7eCCh"
      },
      "source": [
        "***2nd method -->***  Many of the variables to be tested in the research questions are categorical. This means that the chi-square test is appropriate for performing statistical testing."
      ]
    },
    {
      "cell_type": "code",
      "metadata": {
        "id": "ToqQmgM8Y1-i"
      },
      "source": [
        "def chi_test(colA, colB):\n",
        "    \"\"\"\n",
        "    Performs a chi-quare test between the values of two columns\n",
        "    :param colA: First column of test\n",
        "    :param colB: Second column of test\n",
        "    \"\"\"\n",
        "    \n",
        "    # The first step is to create a contingecy table tabulated from the distribution of the values\n",
        "    contingency_table = pd.crosstab(colA, colB)\n",
        "\n",
        "    # Display the table\n",
        "    display(contingency_table)\n",
        "\n",
        "    # use scipy to calculate the chi test statistic, p_value and degrees of freedom    \n",
        "    chi2, p_value, dof, _ = stats.chi2_contingency(contingency_table, False)\n",
        "\n",
        "    # Output a summary of the results\n",
        "    print('The chi-square test returned a value of {:.2f} and was performed with {} degree(s) of freedom.'.format(chi2, dof))\n",
        "    print('The p-value was {:.3f}'.format(p_value))"
      ],
      "execution_count": null,
      "outputs": []
    },
    {
      "cell_type": "code",
      "metadata": {
        "colab": {
          "base_uri": "https://localhost:8080/",
          "height": 282
        },
        "id": "N9Y9M0jyeOm_",
        "outputId": "dde1952c-c0cf-4cba-c699-3714ca1fcb88"
      },
      "source": [
        "df.Age.plot.hist()\n",
        "plt.show()\n",
        "# print the mean age for extra information\n",
        "print('Mean age: {:.2f}'.format(df.Age.mean()))\n"
      ],
      "execution_count": null,
      "outputs": [
        {
          "output_type": "display_data",
          "data": {
            "image/png": "[encoded data removed]",
            "text/plain": [
              "<Figure size 432x288 with 1 Axes>"
            ]
          },
          "metadata": {
            "needs_background": "light"
          }
        },
        {
          "output_type": "stream",
          "name": "stdout",
          "text": [
            "Mean age: 37.09\n"
          ]
        }
      ]
    },
    {
      "cell_type": "markdown",
      "metadata": {
        "id": "u9_0YhEnecJ0"
      },
      "source": [
        "The age of the full dataset has a bimodal distribution, with peaks around 0 and 60 years old. There is also a positive skew, which is expected because the minimal age is floored at 0 while the maximum age naturally tapers off."
      ]
    },
    {
      "cell_type": "code",
      "metadata": {
        "colab": {
          "base_uri": "https://localhost:8080/",
          "height": 299
        },
        "id": "6BKkYaqMeSg1",
        "outputId": "909a9edd-800e-4812-e3dc-4d92563a33a6"
      },
      "source": [
        "kept = (df.NoShow == 1)\n",
        "noshows = (df.NoShow == 0)\n",
        "\n",
        "df[kept].Age.plot.hist()\n",
        "df[noshows].Age.plot.hist()\n",
        "plt.legend(['Kept Apointments', 'No Shows'])\n",
        "plt.show()\n",
        "print('Kept Appointments Mean Age:{:.2f}'.format(df[kept].Age.mean()))\n",
        "print('Missed Appointments Mean Age:{:.2f}'.format(df[noshows].Age.mean()))"
      ],
      "execution_count": null,
      "outputs": [
        {
          "output_type": "display_data",
          "data": {
            "image/png": "[encoded data removed]",
            "text/plain": [
              "<Figure size 432x288 with 1 Axes>"
            ]
          },
          "metadata": {
            "needs_background": "light"
          }
        },
        {
          "output_type": "stream",
          "name": "stdout",
          "text": [
            "Kept Appointments Mean Age:37.79\n",
            "Missed Appointments Mean Age:34.31\n"
          ]
        }
      ]
    },
    {
      "cell_type": "markdown",
      "metadata": {
        "id": "Z2E0tGpGgDmn"
      },
      "source": [
        "This histogram overlays the distributions of kept appointments and no shows so that they can be compared. The peak near 60 years is much smaller for no shows. The mean is also lower but is not apparent with a histogram. Box plots provide a better visualization for interpreting the difference in means.\n",
        "\n"
      ]
    },
    {
      "cell_type": "code",
      "metadata": {
        "colab": {
          "base_uri": "https://localhost:8080/",
          "height": 279
        },
        "id": "5BtkRmv2eh3T",
        "outputId": "7ca5b7cc-8016-43b7-ad2e-842716fd32b3"
      },
      "source": [
        "# display a box plot of the age distribution for each No Show condition\n",
        "sns.boxplot(x=df.NoShow, y=df.Age)\n",
        "plt.show()"
      ],
      "execution_count": null,
      "outputs": [
        {
          "output_type": "display_data",
          "data": {
            "image/png": "[encoded data removed]",
            "text/plain": [
              "<Figure size 432x288 with 1 Axes>"
            ]
          },
          "metadata": {
            "needs_background": "light"
          }
        }
      ]
    },
    {
      "cell_type": "markdown",
      "metadata": {
        "id": "ZlnhtJ3igL-U"
      },
      "source": [
        "The average age and quartiles are slightly lower for NoShows. A T-test can be used to determine if the difference of the means is significant.\n",
        "\n"
      ]
    },
    {
      "cell_type": "code",
      "metadata": {
        "colab": {
          "base_uri": "https://localhost:8080/"
        },
        "id": "jjyE21I9gHT6",
        "outputId": "c01b192f-eef2-419b-f627-847bf3709f20"
      },
      "source": [
        "# create filter for NoShows\n",
        "noshows = (df.NoShow == 0)\n",
        "\n",
        "# create pointers to the sample populations\n",
        "noshow_ages = df[noshows].Age\n",
        "show_ages = df[~noshows].Age\n",
        "\n",
        "stat, p = stats.ttest_ind(noshow_ages, show_ages)\n",
        "print(\n",
        "    'The average age of noshows (M={:.2f}, SD={:.2f}) '.format(\n",
        "        noshow_ages.mean(),\n",
        "        noshow_ages.std())\n",
        "    + 'was lower than kept appointments (M={:.2f}, SD={:.2f}) '.format(\n",
        "        show_ages.mean(),\n",
        "        show_ages.std())\n",
        "    + 'by {:.2f} years.'.format(\n",
        "        show_ages.mean() - noshow_ages.mean()\n",
        "    )\n",
        ")\n",
        "print('The t-stastic was {:.2f} with a p-value of {:.3f}'.format(stat, p))"
      ],
      "execution_count": null,
      "outputs": [
        {
          "output_type": "stream",
          "name": "stdout",
          "text": [
            "The average age of noshows (M=34.31, SD=21.95) was lower than kept appointments (M=37.79, SD=23.34) by 3.48 years.\n",
            "The t-stastic was -20.15 with a p-value of 0.000\n"
          ]
        }
      ]
    },
    {
      "cell_type": "markdown",
      "metadata": {
        "id": "e9TK0PBAghyw"
      },
      "source": [
        "***Then, `The answer` --> The results show that there was a small but statistically significant difference in two methods.***"
      ]
    },
    {
      "cell_type": "markdown",
      "metadata": {
        "id": "K2NAv3Fqq_ff"
      },
      "source": [
        ""
      ]
    },
    {
      "cell_type": "markdown",
      "metadata": {
        "id": "0h-gDzuMq_rG"
      },
      "source": [
        "##***Question 2 --->*** Do SMS notifications coincide with fewer no shows?"
      ]
    },
    {
      "cell_type": "code",
      "metadata": {
        "colab": {
          "base_uri": "https://localhost:8080/"
        },
        "id": "GOaRR7NytR-s",
        "outputId": "6f7860d6-b026-47a9-da08-bd2c1a447e01"
      },
      "source": [
        "df.shape[0]"
      ],
      "execution_count": null,
      "outputs": [
        {
          "output_type": "execute_result",
          "data": {
            "text/plain": [
              "110516"
            ]
          },
          "metadata": {},
          "execution_count": 274
        }
      ]
    },
    {
      "cell_type": "code",
      "metadata": {
        "colab": {
          "base_uri": "https://localhost:8080/",
          "height": 280
        },
        "id": "HpVWJw8MgOnd",
        "outputId": "ebf6ed7a-8f07-46c9-d681-fc65a36cdfdc"
      },
      "source": [
        "# this dictionary will be used to map 1s and 0s to Yeses and Nos\n",
        "yesno = {1:'Yes', 0:'No'}\n",
        "\n",
        "# bar plot the percentage of noshows for each sms condition\n",
        "ax = sns.barplot(x=df.SMS_received.map(yesno), y=df.NoShow)\n",
        "ax.set_ylabel('% Showed Up')\n",
        "plt.show()\n",
        "showed_up_perc_sms = df.groupby('SMS_received').NoShow.mean() * 100"
      ],
      "execution_count": null,
      "outputs": [
        {
          "output_type": "display_data",
          "data": {
            "image/png": "[encoded data removed]",
            "text/plain": [
              "<Figure size 432x288 with 1 Axes>"
            ]
          },
          "metadata": {
            "needs_background": "light"
          }
        }
      ]
    },
    {
      "cell_type": "markdown",
      "metadata": {
        "id": "i3ul5aMtvsbz"
      },
      "source": [
        "We can notice that percentage of showed up patients that received SMS is lower than non showed patients. It seems a little bit strange."
      ]
    },
    {
      "cell_type": "code",
      "metadata": {
        "colab": {
          "base_uri": "https://localhost:8080/",
          "height": 178
        },
        "id": "BmL9oRSKr26o",
        "outputId": "fbfee115-dfa2-4d38-8e4a-00ffb488577f"
      },
      "source": [
        "# test the statistical significance with a chi-square test\n",
        "chi_test(df.NoShow, df.SMS_received.map(yesno))\n",
        "#0 ---> showed up\n",
        "#1 ---> no show"
      ],
      "execution_count": null,
      "outputs": [
        {
          "output_type": "display_data",
          "data": {
            "text/html": [
              "<div>\n",
              "<style scoped>\n",
              "    .dataframe tbody tr th:only-of-type {\n",
              "        vertical-align: middle;\n",
              "    }\n",
              "\n",
              "    .dataframe tbody tr th {\n",
              "        vertical-align: top;\n",
              "    }\n",
              "\n",
              "    .dataframe thead th {\n",
              "        text-align: right;\n",
              "    }\n",
              "</style>\n",
              "<table border=\"1\" class=\"dataframe\">\n",
              "  <thead>\n",
              "    <tr style=\"text-align: right;\">\n",
              "      <th>SMS_received</th>\n",
              "      <th>No</th>\n",
              "      <th>Yes</th>\n",
              "    </tr>\n",
              "    <tr>\n",
              "      <th>NoShow</th>\n",
              "      <th></th>\n",
              "      <th></th>\n",
              "    </tr>\n",
              "  </thead>\n",
              "  <tbody>\n",
              "    <tr>\n",
              "      <th>0</th>\n",
              "      <td>12527</td>\n",
              "      <td>9784</td>\n",
              "    </tr>\n",
              "    <tr>\n",
              "      <th>1</th>\n",
              "      <td>62508</td>\n",
              "      <td>25697</td>\n",
              "    </tr>\n",
              "  </tbody>\n",
              "</table>\n",
              "</div>"
            ],
            "text/plain": [
              "SMS_received     No    Yes\n",
              "NoShow                    \n",
              "0             12527   9784\n",
              "1             62508  25697"
            ]
          },
          "metadata": {}
        },
        {
          "output_type": "stream",
          "name": "stdout",
          "text": [
            "The chi-square test returned a value of 1769.97 and was performed with 1 degree(s) of freedom.\n",
            "The p-value was 0.000\n"
          ]
        }
      ]
    },
    {
      "cell_type": "markdown",
      "metadata": {
        "id": "xkhEvyuBwuEs"
      },
      "source": [
        "***Then, The chi-square test found the difference to be statistically significant.***"
      ]
    },
    {
      "cell_type": "markdown",
      "metadata": {
        "id": "QwBSzhMUxBMW"
      },
      "source": [
        "##**Question 3 --->*** Highest five neighbourhoods in terms of the number of no-show appointments?"
      ]
    },
    {
      "cell_type": "code",
      "metadata": {
        "colab": {
          "base_uri": "https://localhost:8080/",
          "height": 295
        },
        "id": "9MsNBo4NwWVP",
        "outputId": "a47fa492-d651-4485-cd49-ab7bc764cca5"
      },
      "source": [
        "# no show appointments\n",
        "df_NoShow = df[df.NoShow == 1]\n",
        "\n",
        "# plot a horizontal bar chart\n",
        "plt.figure(figsize = [8, 4])\n",
        "cat_order = df_NoShow['Neighbourhood'].value_counts().index[:5]\n",
        "sns.countplot(data = df_NoShow, y = 'Neighbourhood', color = base_color, order = cat_order)\n",
        "plt.title('Highest 5 Neighbourhoods in Terms of The Number of missed Appointments')\n",
        "plt.xlabel('Number of missed Appointments')\n",
        "plt.ylabel('Neighbourhood');"
      ],
      "execution_count": null,
      "outputs": [
        {
          "output_type": "display_data",
          "data": {
            "image/png": "[encoded data removed]",
            "text/plain": [
              "<Figure size 576x288 with 1 Axes>"
            ]
          },
          "metadata": {
            "needs_background": "light"
          }
        }
      ]
    },
    {
      "cell_type": "markdown",
      "metadata": {
        "id": "x8O6nWDLyWgX"
      },
      "source": [
        "***As shown in the chart, JARDIM CAMBURI neighbourhood had the heighest number of missed appointments followed by MARIA ORTIZ.***"
      ]
    },
    {
      "cell_type": "markdown",
      "metadata": {
        "id": "Ck-Zhlt6ye_u"
      },
      "source": [
        "##***Question 4 --->*** Can the gender be considered as a factor to predict if a patient will show up for their scheduled appointment?"
      ]
    },
    {
      "cell_type": "code",
      "metadata": {
        "colab": {
          "base_uri": "https://localhost:8080/",
          "height": 280
        },
        "id": "n_1cK4BWw_cZ",
        "outputId": "dff794d1-fe9f-413b-b366-5a0cd13982f4"
      },
      "source": [
        "# percentages of no show patients based on gender\n",
        "no_show_perc_gender = df.groupby('Gender').NoShow.mean() * 100\n",
        "\n",
        "# plot a bar chart\n",
        "plt.bar(x = no_show_perc_gender.index, height = no_show_perc_gender)\n",
        "plt.title('The Percentages of Showed Patients Based on Gender')\n",
        "plt.xticks([0, 1], ['Female', 'Male'])\n",
        "plt.ylabel('Showed Percentage');"
      ],
      "execution_count": null,
      "outputs": [
        {
          "output_type": "display_data",
          "data": {
            "image/png": "[encoded data removed]",
            "text/plain": [
              "<Figure size 432x288 with 1 Axes>"
            ]
          },
          "metadata": {
            "needs_background": "light"
          }
        }
      ]
    },
    {
      "cell_type": "markdown",
      "metadata": {
        "id": "2pC-Cy5Wy03S"
      },
      "source": [
        "\n",
        "Based on the chart, the percentages of no show patients based on gender were pretty close.\n",
        "\n",
        "So, we can say that the gender can't be considered as a factor to predict if a patient will show up for their scheduled appointment."
      ]
    },
    {
      "cell_type": "markdown",
      "metadata": {
        "id": "OzHiCvmHy5my"
      },
      "source": [
        "##**question 5 --->** Can having a scholarship be considered as a factor to predict if a patient will show up for their scheduled appointment?"
      ]
    },
    {
      "cell_type": "code",
      "metadata": {
        "colab": {
          "base_uri": "https://localhost:8080/",
          "height": 280
        },
        "id": "oQeDpzFXysUJ",
        "outputId": "8e1a0f04-bf12-4e2e-e7be-e03cd71155dc"
      },
      "source": [
        "# percentages of no show patients based on scholarship\n",
        "no_show_perc_scholarship = df.groupby('Scholarship').NoShow.mean() * 100\n",
        "\n",
        "# plot a bar chart\n",
        "plt.bar(x = no_show_perc_scholarship.index, height = no_show_perc_scholarship)\n",
        "plt.title('The Percentages of Showed Patients Based on Scholarship')\n",
        "plt.xticks([0, 1], ['No Scholarship', 'Scholarship'])\n",
        "plt.ylabel('Showed Percentage');"
      ],
      "execution_count": null,
      "outputs": [
        {
          "output_type": "display_data",
          "data": {
            "image/png": "[encoded data removed]",
            "text/plain": [
              "<Figure size 432x288 with 1 Axes>"
            ]
          },
          "metadata": {
            "needs_background": "light"
          }
        }
      ]
    },
    {
      "cell_type": "markdown",
      "metadata": {
        "id": "i6Yz1z-Dzfxm"
      },
      "source": [
        "***It seems like the patient with a scholarship is more likely to miss the appointment.***\n",
        "***So, we can say that having a scholarship could help us to predict if a patient will show up for their scheduled appointment.***"
      ]
    },
    {
      "cell_type": "markdown",
      "metadata": {
        "id": "VSrDpz5azvPy"
      },
      "source": [
        "##**Question 6** ---> Can the waiting period between scheduled day and appointment day be considered as a factor to predict if a patient will show up for their scheduled appointment?"
      ]
    },
    {
      "cell_type": "code",
      "metadata": {
        "colab": {
          "base_uri": "https://localhost:8080/",
          "height": 295
        },
        "id": "GyizdMvMzHFn",
        "outputId": "a6c89c1a-78a6-4793-b236-7e596c83544f"
      },
      "source": [
        "# percentages of no show patients based on waiting period\n",
        "no_show_perc_waiting_period = df.groupby('waiting_period').NoShow.mean() * 100\n",
        "\n",
        "# plot a bar chart\n",
        "plt.figure(figsize = [8, 4])\n",
        "plt.bar(x = no_show_perc_waiting_period.index, height = no_show_perc_waiting_period)\n",
        "plt.title('The Percentages of Showed Patients Based on Waiting Period')\n",
        "plt.xlabel('Waiting Period')\n",
        "plt.ylabel('Showed Percentage');"
      ],
      "execution_count": null,
      "outputs": [
        {
          "output_type": "display_data",
          "data": {
            "image/png": "[encoded data removed]",
            "text/plain": [
              "<Figure size 576x288 with 1 Axes>"
            ]
          },
          "metadata": {
            "needs_background": "light"
          }
        }
      ]
    },
    {
      "cell_type": "markdown",
      "metadata": {
        "id": "mXkXOdGQ0JaL"
      },
      "source": [
        "***It's pretty clear that the longer the waiting period is, the more likely the patient will not show up for the appointment.\n",
        "So, we can say that the waiting period could help us to predict if a patient will show up for their scheduled appointment.***"
      ]
    },
    {
      "cell_type": "markdown",
      "metadata": {
        "id": "ICHDqKrP0Szk"
      },
      "source": [
        "##**Q7: What are the percentages of missed appointments for each special condition(alcoholism, diabetes ... etc) ?**"
      ]
    },
    {
      "cell_type": "code",
      "metadata": {
        "colab": {
          "base_uri": "https://localhost:8080/"
        },
        "id": "ClW35Fml0Bpj",
        "outputId": "0ae61e03-c6b7-4adf-8d87-ad018edf2e71"
      },
      "source": [
        "# total number of special conditions for each patient\n",
        "df['number_of_cond'] = df.Hipertension + df.Diabetes + df.Alcoholism + df.Handcap\n",
        "\n",
        "# empty dictionary \n",
        "cond_dict = {}\n",
        "\n",
        "# percentage of Showed patients who suffered from hypertension only\n",
        "cond_dict['Hypertension'] = (df[df.number_of_cond <= 1].groupby('Hipertension').NoShow.mean() * 100)[1]\n",
        "# percentage of Showed patients who suffered from diabetes only\n",
        "cond_dict['Diabetes'] = (df[df.number_of_cond <= 1].groupby('Diabetes').NoShow.mean() * 100)[1]\n",
        "# percentage of Showed patients who suffered from alcoholism only\n",
        "cond_dict['Alcoholism'] = (df[df.number_of_cond <= 1].groupby('Alcoholism').NoShow.mean() * 100)[1]\n",
        "# percentage of Showed patients who were handicapped only\n",
        "cond_dict['Handicapped'] = (df[df.number_of_cond <= 1].groupby('Handcap').NoShow.mean() * 100)[1]\n",
        "\n",
        "# percentage of Showed patients who suffered from multiple conditions\n",
        "cond_dict['Multiple Conditions'] = df[df.number_of_cond > 1].NoShow.mean() * 100\n",
        "\n",
        "cond_dict\n"
      ],
      "execution_count": null,
      "outputs": [
        {
          "output_type": "execute_result",
          "data": {
            "text/plain": [
              "{'Alcoholism': 78.35587929240374,\n",
              " 'Diabetes': 79.64205816554811,\n",
              " 'Handicapped': 80.68849706129303,\n",
              " 'Hypertension': 82.98199385155907,\n",
              " 'Multiple Conditions': 82.30184581976113}"
            ]
          },
          "metadata": {},
          "execution_count": 303
        }
      ]
    },
    {
      "cell_type": "code",
      "metadata": {
        "colab": {
          "base_uri": "https://localhost:8080/"
        },
        "id": "mQDVF46P0n9Y",
        "outputId": "b55d1816-1cde-4669-8e84-d348ceba4888"
      },
      "source": [
        "# convert the dictionary to a pandas series\n",
        "cond_ser = pd.Series(cond_dict)\n",
        "# sort the values in descending order\n",
        "cond_ser.sort_values(ascending=False, inplace=True)\n",
        "cond_ser"
      ],
      "execution_count": null,
      "outputs": [
        {
          "output_type": "execute_result",
          "data": {
            "text/plain": [
              "Hypertension           82.981994\n",
              "Multiple Conditions    82.301846\n",
              "Handicapped            80.688497\n",
              "Diabetes               79.642058\n",
              "Alcoholism             78.355879\n",
              "dtype: float64"
            ]
          },
          "metadata": {},
          "execution_count": 304
        }
      ]
    },
    {
      "cell_type": "code",
      "metadata": {
        "colab": {
          "base_uri": "https://localhost:8080/",
          "height": 280
        },
        "id": "IkSurldH03sq",
        "outputId": "f36c2f32-63d5-42e6-f711-a0046c3fd3d7"
      },
      "source": [
        "# plot a bar chart\n",
        "plt.figure(figsize = [10, 4])\n",
        "plt.bar(x = cond_ser.index, height = cond_ser)\n",
        "plt.title('Percentages of Missed Appointments For Each Special Condition')\n",
        "plt.ylabel('No Show Percentage');"
      ],
      "execution_count": null,
      "outputs": [
        {
          "output_type": "display_data",
          "data": {
            "image/png": "[encoded data removed]",
            "text/plain": [
              "<Figure size 720x288 with 1 Axes>"
            ]
          },
          "metadata": {
            "needs_background": "light"
          }
        }
      ]
    },
    {
      "cell_type": "markdown",
      "metadata": {
        "id": "SLI6xY3R1CY0"
      },
      "source": [
        "***we can say that alcoholics are the most likely to miss their appointments among other patients with special conditions.***"
      ]
    },
    {
      "cell_type": "markdown",
      "metadata": {
        "id": "0ERvfL4m1tQZ"
      },
      "source": [
        "##**Question 8 --->** Do some days of the week have more no shows than others?"
      ]
    },
    {
      "cell_type": "code",
      "metadata": {
        "colab": {
          "base_uri": "https://localhost:8080/",
          "height": 279
        },
        "id": "07acfPbc09mo",
        "outputId": "6ec9ff28-29c0-4691-eee7-31231ba2966d"
      },
      "source": [
        "# Ploot the average no shows for each day of the week.\n",
        "ax = sns.barplot(x=df.DayOfWeek, y=df.NoShow)\n",
        "ax.set(ylabel='% Showed')\n",
        "plt.show()"
      ],
      "execution_count": null,
      "outputs": [
        {
          "output_type": "display_data",
          "data": {
            "image/png": "[encoded data removed]",
            "text/plain": [
              "<Figure size 432x288 with 1 Axes>"
            ]
          },
          "metadata": {
            "needs_background": "light"
          }
        }
      ]
    },
    {
      "cell_type": "markdown",
      "metadata": {
        "id": "L8SsGWjG2ATJ"
      },
      "source": [
        "***There appear to be higher incidences of no shows on Saturdays and Fridays. The error bar is also highest for Saturdays due to the extremely low incidence of Saturday apointments.***"
      ]
    },
    {
      "cell_type": "code",
      "metadata": {
        "colab": {
          "base_uri": "https://localhost:8080/",
          "height": 178
        },
        "id": "Cpy39E2912UD",
        "outputId": "6a08776f-e3d6-478b-8ded-1c0590cee0d3"
      },
      "source": [
        "chi_test(df.NoShow, df.DayOfWeek)\n"
      ],
      "execution_count": null,
      "outputs": [
        {
          "output_type": "display_data",
          "data": {
            "text/html": [
              "<div>\n",
              "<style scoped>\n",
              "    .dataframe tbody tr th:only-of-type {\n",
              "        vertical-align: middle;\n",
              "    }\n",
              "\n",
              "    .dataframe tbody tr th {\n",
              "        vertical-align: top;\n",
              "    }\n",
              "\n",
              "    .dataframe thead th {\n",
              "        text-align: right;\n",
              "    }\n",
              "</style>\n",
              "<table border=\"1\" class=\"dataframe\">\n",
              "  <thead>\n",
              "    <tr style=\"text-align: right;\">\n",
              "      <th>DayOfWeek</th>\n",
              "      <th>Friday</th>\n",
              "      <th>Monday</th>\n",
              "      <th>Saturday</th>\n",
              "      <th>Thursday</th>\n",
              "      <th>Tuesday</th>\n",
              "      <th>Wednesday</th>\n",
              "    </tr>\n",
              "    <tr>\n",
              "      <th>NoShow</th>\n",
              "      <th></th>\n",
              "      <th></th>\n",
              "      <th></th>\n",
              "      <th></th>\n",
              "      <th></th>\n",
              "      <th></th>\n",
              "    </tr>\n",
              "  </thead>\n",
              "  <tbody>\n",
              "    <tr>\n",
              "      <th>0</th>\n",
              "      <td>4037</td>\n",
              "      <td>4688</td>\n",
              "      <td>9</td>\n",
              "      <td>3335</td>\n",
              "      <td>5150</td>\n",
              "      <td>5092</td>\n",
              "    </tr>\n",
              "    <tr>\n",
              "      <th>1</th>\n",
              "      <td>14981</td>\n",
              "      <td>18023</td>\n",
              "      <td>30</td>\n",
              "      <td>13909</td>\n",
              "      <td>20488</td>\n",
              "      <td>20774</td>\n",
              "    </tr>\n",
              "  </tbody>\n",
              "</table>\n",
              "</div>"
            ],
            "text/plain": [
              "DayOfWeek  Friday  Monday  Saturday  Thursday  Tuesday  Wednesday\n",
              "NoShow                                                           \n",
              "0            4037    4688         9      3335     5150       5092\n",
              "1           14981   18023        30     13909    20488      20774"
            ]
          },
          "metadata": {}
        },
        {
          "output_type": "stream",
          "name": "stdout",
          "text": [
            "The chi-square test returned a value of 27.76 and was performed with 5 degree(s) of freedom.\n",
            "The p-value was 0.000\n"
          ]
        }
      ]
    },
    {
      "cell_type": "markdown",
      "metadata": {
        "id": "w-Tkq-s52JZE"
      },
      "source": [
        "***The chi-square test showed that the differences were statistically significant.***"
      ]
    },
    {
      "cell_type": "markdown",
      "metadata": {
        "id": "mnO4AmNz2MnJ"
      },
      "source": [
        "##**Conclusions** \n",
        "\n",
        "In this project I analyzed Medical Appointment No Shows Dataset and communicated my findings about it using Python libraries NumPy, pandas, Matplotlib, and seaborn. The dataset contained 110,527 appointments in a period of 40 days, about 20% of the patients showed up for their appointments.\n",
        "\n",
        "Most patients:\n",
        "\n",
        "Were females.\n",
        "Were young.\n",
        "Didn't have a scholarship.\n",
        "Didn't suffer from any special conditions (alcoholism, diabetes, hypertension, handicap).\n",
        "Scheduled their appointments on the same day.\n",
        "Prefered to have their appointments on working days (Monday-Friday) especially Tuesday and Wednesday."
      ]
    },
    {
      "cell_type": "markdown",
      "metadata": {
        "id": "SWByGCng2qMp"
      },
      "source": [
        "##**Limitations**\n",
        "\n",
        "* The dataset covers a short period 40 days only, longer period could lead to a better results.\n",
        "* Appointment time wasn't given, which could be very useful.\n",
        "* Dataset description on kaggle wasn't up to date, so some columns values weren't clear until found in disscussion forms.\n",
        "* Recent data would be much better, since 2016 is about 4 years ago and a lot has changed since then.\n",
        "* Covering more than one country would've been better."
      ]
    },
    {
      "cell_type": "markdown",
      "metadata": {
        "id": "4Zm4LYA_25Bx"
      },
      "source": [
        "##**References**\n",
        "\n",
        "[Graph Plotting in Python](https://www.geeksforgeeks.org/graph-plotting-in-python-set-1/)\n",
        "\n",
        "[seaborn plotting functions](https://seaborn.pydata.org/tutorial/function_overview.html)\n",
        "\n",
        "https://shawnemhe.github.io/udacity-data-analyst//p2/Investigate_a_Dataset.html#wrangling\n",
        "\n",
        "[pandas documentation](https://pandas.pydata.org/pandas-docs/stable/index.html)"
      ]
    }
  ]
}