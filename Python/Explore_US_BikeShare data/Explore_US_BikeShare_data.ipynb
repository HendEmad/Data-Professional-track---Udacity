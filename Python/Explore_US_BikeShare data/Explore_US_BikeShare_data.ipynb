{
  "nbformat": 4,
  "nbformat_minor": 0,
  "metadata": {
    "colab": {
      "name": "Explore US BikeShare data.ipynb",
      "provenance": [],
      "collapsed_sections": []
    },
    "kernelspec": {
      "name": "python3",
      "display_name": "Python 3"
    },
    "language_info": {
      "name": "python"
    }
  },
  "cells": [
    {
      "cell_type": "code",
      "metadata": {
        "id": "OvtaPpN2FegV"
      },
      "source": [
        "#Libraries\n",
        "import time\n",
        "import pandas as pd\n",
        "import numpy as np"
      ],
      "execution_count": null,
      "outputs": []
    },
    {
      "cell_type": "code",
      "metadata": {
        "id": "11rEmGbdFsaS"
      },
      "source": [
        "#Our Data\n",
        "CITY_DATA = { 'chicago': '/content/drive/MyDrive/DataSets/chicago.csv',\n",
        "              'new york city': '/content/drive/MyDrive/DataSets/new_york_city.csv',\n",
        "              'washington': '/content/drive/MyDrive/DataSets/washington.csv' }\n",
        "\n",
        "MONTH_DATA = ['all', 'january', 'february', 'march', 'april', 'may', 'june']\n",
        "\n",
        "DAY_DATA = ['all', 'saturday', 'sunday', 'monday', 'tuesday', 'wednesday', 'thursday', 'friday']"
      ],
      "execution_count": null,
      "outputs": []
    },
    {
      "cell_type": "code",
      "metadata": {
        "id": "6JWxZ-i1FwPV"
      },
      "source": [
        "#Get filters function----> Asks user to specify a city, month, and day to analyze.\n",
        "def get_filters():\n",
        "    \n",
        "    '''Returns:\n",
        "        (str) city - name of the city to analyze\n",
        "        (str) month - name of the month to filter by, or \"all\" to apply no month filter\n",
        "        (str) day - name of the day of week to filter by, or \"all\" to apply no day filter'''\n",
        "    \n",
        "    print('Hello! Let\\'s explore some US bikeshare data!')\n",
        "    #getting user input for city (chicago, new york city, washington). HINT: Use a while loop to handle invalid inputs\n",
        "    input_city = ''\n",
        "    while input_city.lower() not in CITY_DATA:\n",
        "        input_city = input('\\nWhat\\'s your city? Is it chicago, new york city or washington?')\n",
        "        if input_city.lower() in CITY_DATA:\n",
        "            city = CITY_DATA[input_city.lower()]\n",
        "        else: \n",
        "            print('We can\\'t find this city on our data, please choose one of these cities: (chicago, new york city, washington)')\n",
        "\n",
        "    #getting user input for month (all, january, february, ... , june)\n",
        "    input_month = ''\n",
        "    while input_month.lower() not in MONTH_DATA:\n",
        "        input_month = input('\\nWhat\\'s the month?')\n",
        "        if input_month.lower() in MONTH_DATA:\n",
        "            month = input_month.lower()\n",
        "        else:\n",
        "            print('not found! input all if you don\\'t want to filter data with month.')\n",
        "            \n",
        "    #getting user input for day of week (all, monday, tuesday, ... sunday)\n",
        "    input_day = ''\n",
        "    while input_day.lower() not in DAY_DATA:\n",
        "        input_day = input('\\nwhat\\'s the day?')\n",
        "        if input_day.lower() in DAY_DATA:\n",
        "            day = input_day.lower()\n",
        "        else:\n",
        "            print('not found! input all if you don\\'t want to filter data with day')\n",
        "\n",
        "    print('-'*40)\n",
        "    return city, month, day"
      ],
      "execution_count": null,
      "outputs": []
    },
    {
      "cell_type": "code",
      "metadata": {
        "id": "y6_syP3pF0Rr"
      },
      "source": [
        "#Load data function ---> Loads data for the specified city and filters by month and day if applicable.\n",
        "def load_data(city, month, day):\n",
        "    \n",
        "    '''Args:\n",
        "        (str) city - name of the city to analyze\n",
        "        (str) month - name of the month to filter by, or \"all\" to apply no month filter\n",
        "        (str) day - name of the day of week to filter by, or \"all\" to apply no day filter'''\n",
        "   #Return:\n",
        "    \n",
        "    # load data file into a dataframe\n",
        "    df = pd.read_csv(city)\n",
        "\n",
        "    # convert the Start Time column to datetime\n",
        "    df['Start Time'] = pd.to_datetime(df['Start Time'])\n",
        "\n",
        "    # extract month and day of week and Start Time and trip to create new columns\n",
        "    df['month'] = df['Start Time'].dt.month\n",
        "    df['day_of_week'] = df['Start Time'].dt.day_name()\n",
        "    df['hour'] = df['Start Time'].dt.hour\n",
        "    df['trip'] = df['Start Station'].astype(str) + ':' + df['End Station'].astype(str)\n",
        "    # filter by month if applicable\n",
        "    if month != 'all':\n",
        "        # use the index of the months list to get the corresponding int\n",
        "        month = MONTH_DATA.index(month)\n",
        "    \n",
        "        # filter by month to create the new dataframe\n",
        "        df = df.loc[df['month'] == month]\n",
        "\n",
        "    # filter by day of week if applicable\n",
        "    if day != 'all':\n",
        "        # filter by day of week to create the new dataframe\n",
        "        df = df.loc[df['day_of_week'] == day.title()]\n",
        "\n",
        "    return df"
      ],
      "execution_count": null,
      "outputs": []
    },
    {
      "cell_type": "code",
      "metadata": {
        "id": "PTD3yXojF5mx"
      },
      "source": [
        "def time_stats(df):\n",
        "    print('\\nCalculating The Most Frequent Times of Travel...\\n')\n",
        "    start_time = time.time()\n",
        "\n",
        "    #displaying the most common month\n",
        "    most_common_month = df['month'].mode()[0]\n",
        "    print('The most common month is: ', most_common_month)\n",
        "    \n",
        "    #displaying the most common day of week\n",
        "    most_common_dayofweek = df['day_of_week'].mode()[0]\n",
        "    print('The most common day of week is: ', most_common_dayofweek)\n",
        "\n",
        "    #displaying the most common start hour\n",
        "    most_common_starthour = df['hour'].mode()[0]\n",
        "    print('The most common start hour is: ', most_common_starthour)\n",
        "    \n",
        "    print(\"\\nThis took %s seconds.\" % (time.time() - start_time))\n",
        "    print('-'*40)"
      ],
      "execution_count": null,
      "outputs": []
    },
    {
      "cell_type": "code",
      "metadata": {
        "id": "lE92baEtF8NX"
      },
      "source": [
        "#station_stats function----> Displays statistics on the most popular stations and trip.\n",
        "def station_stats(df):\n",
        "    print('\\nCalculating The Most Popular Stations and Trip...\\n')\n",
        "    start_time = time.time()\n",
        "\n",
        "    #displaying most commonly used start station\n",
        "    most_common_startstation = df['Start Station'].mode()[0]\n",
        "    print('The most commonly used start station is: ', most_common_startstation)\n",
        "\n",
        "    #displaying most commonly used end station\n",
        "    most_common_endstation = df['End Station'].mode()[0]\n",
        "    print('The most commonly used end station is: ', most_common_endstation)\n",
        "\n",
        "    #displaying most frequent combination of start station and end station trip\n",
        "    most_frequent_trip = df['trip'].mode()[0]\n",
        "    print('The most frequent combination of start station and end station trip is: ', most_frequent_trip)\n",
        "\n",
        "    print(\"\\nThis took %s seconds.\" % (time.time() - start_time))\n",
        "    print('-'*40)"
      ],
      "execution_count": null,
      "outputs": []
    },
    {
      "cell_type": "code",
      "metadata": {
        "id": "kmDiKvsLF-hT"
      },
      "source": [
        "#trip_duration_stats function----> Displays statistics on the total and average trip duration.\n",
        "def trip_duration_stats(df):\n",
        "    print('\\nCalculating Trip Duration...\\n')\n",
        "    start_time = time.time()\n",
        "\n",
        "    #displaying total travel time\n",
        "    total_travel_time = df['Trip Duration'].sum()\n",
        "    print('The total travel time is: ', total_travel_time)\n",
        "\n",
        "    #displaying mean travel time\n",
        "    mean_travel_time = df['Trip Duration'].mean()\n",
        "    print('The mean travel time is: ', mean_travel_time)\n",
        "\n",
        "    print(\"\\nThis took %s seconds.\" % (time.time() - start_time))\n",
        "    print('-'*40) "
      ],
      "execution_count": null,
      "outputs": []
    },
    {
      "cell_type": "code",
      "metadata": {
        "id": "9tAeLeEcGBLB"
      },
      "source": [
        "#user_stats function ----> Displays statistics on bikeshare users.\n",
        "def user_stats(df):\n",
        "    print('\\nCalculating User Stats...\\n')\n",
        "    start_time = time.time()\n",
        "\n",
        "    #Displaying counts of user types\n",
        "    user_types_counts = df['User Type'].value_counts()\n",
        "    print('User types counts are: ', user_types_counts)\n",
        "\n",
        "    #Displaying counts of gender\n",
        "    if 'Gender' in df.columns:\n",
        "      gender_counts = df['Gender'].value_counts()\n",
        "      print('Gender counts are: ', gender_counts)\n",
        "\n",
        "    #Displaying earliest, most recent, and most common year of birth\n",
        "    if 'Birth Year' in df.columns:\n",
        "      earliest_yearOfBirth = df['Birth Year'].min( )\n",
        "      print('The earliest year of birth is: ', earliest_yearOfBirth)\n",
        "      mostRecent_yearOfBirth = df['Birth Year'].max()\n",
        "      print('The earliest year of birth is: ', earliest_yearOfBirth)\n",
        "      most_common_yearOfBirth = df['Birth Year'].mode()[0]\n",
        "      print('The most common year of birth is: ', most_common_yearOfBirth)\n",
        "\n",
        "    print(\"\\nThis took %s seconds.\" % (time.time() - start_time))\n",
        "    print('-'*40)"
      ],
      "execution_count": null,
      "outputs": []
    },
    {
      "cell_type": "code",
      "metadata": {
        "id": "RgYT1qAQk_9F"
      },
      "source": [
        "def display_data(df):\n",
        "  start_loc = 0\n",
        "  data = input('Do you want to display the data? enter yes or no').lower()\n",
        "  while data == 'yes':\n",
        "    n = int(input('Please enter integer no.of rows you want to display(eg. 1 5 8 100..est):  \\n'))\n",
        "    n += start_loc\n",
        "    print(df[start_loc : n])\n",
        "    data = input('Do you want to display more rows of data? enter yes or no').lower()\n",
        "    start_loc = n        \n",
        "    if data != 'yes' and data != 'no':\n",
        "      data = input('Invalid input, please choose yes or no: ').lower()\n",
        "    elif data == 'no':\n",
        "      pass"
      ],
      "execution_count": null,
      "outputs": []
    },
    {
      "cell_type": "code",
      "metadata": {
        "id": "zyV7UhWq0mq_"
      },
      "source": [
        "#Another way to build [display_data(df)] function\n",
        "'''\n",
        "def display_data2(df):\n",
        "  start_loc = 0\n",
        "  while True:\n",
        "    data = input('Do you want to display the data? enter yes or no').lower()\n",
        "    if data not in ['yes', 'no']:\n",
        "      data = input('Invalid input, please choose yes or no: ').lower()\n",
        "    elif data == 'yes':\n",
        "      n = int(input('Please enter integer no.of rows you want to display(eg. 1 5 8 100..est):  \\n'))\n",
        "      n += start_loc\n",
        "      print(df[start_loc : n])\n",
        "      more_data = input('Do you want to display more rows of data? enter yes or no').lower()\n",
        "      if more_data == 'no':\n",
        "        break\n",
        "      elif more_data not in ['yes', 'no']:\n",
        "        more_data = input('Invalid input, please choose yes or no: ').lower()\n",
        "    elif data == 'no':\n",
        "      break\n",
        "'''"
      ],
      "execution_count": null,
      "outputs": []
    },
    {
      "cell_type": "code",
      "metadata": {
        "colab": {
          "base_uri": "https://localhost:8080/"
        },
        "id": "yyhFkxDkGD5b",
        "outputId": "80f54102-49af-4590-cbfc-5e57ca12a31e"
      },
      "source": [
        "def main():\n",
        "    while True:\n",
        "        city, month, day = get_filters()\n",
        "        df = load_data(city, month, day)\n",
        "\n",
        "        time_stats(df)\n",
        "        station_stats(df)\n",
        "        trip_duration_stats(df)\n",
        "        user_stats(df)\n",
        "        display_data(df)\n",
        "#        display_data2(df)\n",
        "\n",
        "        restart = input('\\nWould you like to restart? Enter yes or no.\\n')\n",
        "        if restart.lower() != 'yes':\n",
        "            break\n",
        "\n",
        "\n",
        "if __name__ == \"__main__\":\n",
        "\tmain()"
      ],
      "execution_count": null,
      "outputs": [
        {
          "output_type": "stream",
          "name": "stdout",
          "text": [
            "Hello! Let's explore some US bikeshare data!\n"
          ]
        },
        {
          "output_type": "error",
          "ename": "KeyboardInterrupt",
          "evalue": "ignored",
          "traceback": [
            "\u001b[0;31m---------------------------------------------------------------------------\u001b[0m",
            "\u001b[0;31mKeyboardInterrupt\u001b[0m                         Traceback (most recent call last)",
            "\u001b[0;32m/usr/local/lib/python3.7/dist-packages/ipykernel/kernelbase.py\u001b[0m in \u001b[0;36m_input_request\u001b[0;34m(self, prompt, ident, parent, password)\u001b[0m\n\u001b[1;32m    728\u001b[0m             \u001b[0;32mtry\u001b[0m\u001b[0;34m:\u001b[0m\u001b[0;34m\u001b[0m\u001b[0;34m\u001b[0m\u001b[0m\n\u001b[0;32m--> 729\u001b[0;31m                 \u001b[0mident\u001b[0m\u001b[0;34m,\u001b[0m \u001b[0mreply\u001b[0m \u001b[0;34m=\u001b[0m \u001b[0mself\u001b[0m\u001b[0;34m.\u001b[0m\u001b[0msession\u001b[0m\u001b[0;34m.\u001b[0m\u001b[0mrecv\u001b[0m\u001b[0;34m(\u001b[0m\u001b[0mself\u001b[0m\u001b[0;34m.\u001b[0m\u001b[0mstdin_socket\u001b[0m\u001b[0;34m,\u001b[0m \u001b[0;36m0\u001b[0m\u001b[0;34m)\u001b[0m\u001b[0;34m\u001b[0m\u001b[0;34m\u001b[0m\u001b[0m\n\u001b[0m\u001b[1;32m    730\u001b[0m             \u001b[0;32mexcept\u001b[0m \u001b[0mException\u001b[0m\u001b[0;34m:\u001b[0m\u001b[0;34m\u001b[0m\u001b[0;34m\u001b[0m\u001b[0m\n",
            "\u001b[0;32m/usr/local/lib/python3.7/dist-packages/jupyter_client/session.py\u001b[0m in \u001b[0;36mrecv\u001b[0;34m(self, socket, mode, content, copy)\u001b[0m\n\u001b[1;32m    802\u001b[0m         \u001b[0;32mtry\u001b[0m\u001b[0;34m:\u001b[0m\u001b[0;34m\u001b[0m\u001b[0;34m\u001b[0m\u001b[0m\n\u001b[0;32m--> 803\u001b[0;31m             \u001b[0mmsg_list\u001b[0m \u001b[0;34m=\u001b[0m \u001b[0msocket\u001b[0m\u001b[0;34m.\u001b[0m\u001b[0mrecv_multipart\u001b[0m\u001b[0;34m(\u001b[0m\u001b[0mmode\u001b[0m\u001b[0;34m,\u001b[0m \u001b[0mcopy\u001b[0m\u001b[0;34m=\u001b[0m\u001b[0mcopy\u001b[0m\u001b[0;34m)\u001b[0m\u001b[0;34m\u001b[0m\u001b[0;34m\u001b[0m\u001b[0m\n\u001b[0m\u001b[1;32m    804\u001b[0m         \u001b[0;32mexcept\u001b[0m \u001b[0mzmq\u001b[0m\u001b[0;34m.\u001b[0m\u001b[0mZMQError\u001b[0m \u001b[0;32mas\u001b[0m \u001b[0me\u001b[0m\u001b[0;34m:\u001b[0m\u001b[0;34m\u001b[0m\u001b[0;34m\u001b[0m\u001b[0m\n",
            "\u001b[0;32m/usr/local/lib/python3.7/dist-packages/zmq/sugar/socket.py\u001b[0m in \u001b[0;36mrecv_multipart\u001b[0;34m(self, flags, copy, track)\u001b[0m\n\u001b[1;32m    618\u001b[0m         \"\"\"\n\u001b[0;32m--> 619\u001b[0;31m         \u001b[0mparts\u001b[0m \u001b[0;34m=\u001b[0m \u001b[0;34m[\u001b[0m\u001b[0mself\u001b[0m\u001b[0;34m.\u001b[0m\u001b[0mrecv\u001b[0m\u001b[0;34m(\u001b[0m\u001b[0mflags\u001b[0m\u001b[0;34m,\u001b[0m \u001b[0mcopy\u001b[0m\u001b[0;34m=\u001b[0m\u001b[0mcopy\u001b[0m\u001b[0;34m,\u001b[0m \u001b[0mtrack\u001b[0m\u001b[0;34m=\u001b[0m\u001b[0mtrack\u001b[0m\u001b[0;34m)\u001b[0m\u001b[0;34m]\u001b[0m\u001b[0;34m\u001b[0m\u001b[0;34m\u001b[0m\u001b[0m\n\u001b[0m\u001b[1;32m    620\u001b[0m         \u001b[0;31m# have first part already, only loop while more to receive\u001b[0m\u001b[0;34m\u001b[0m\u001b[0;34m\u001b[0m\u001b[0;34m\u001b[0m\u001b[0m\n",
            "\u001b[0;32mzmq/backend/cython/socket.pyx\u001b[0m in \u001b[0;36mzmq.backend.cython.socket.Socket.recv\u001b[0;34m()\u001b[0m\n",
            "\u001b[0;32mzmq/backend/cython/socket.pyx\u001b[0m in \u001b[0;36mzmq.backend.cython.socket.Socket.recv\u001b[0;34m()\u001b[0m\n",
            "\u001b[0;32mzmq/backend/cython/socket.pyx\u001b[0m in \u001b[0;36mzmq.backend.cython.socket._recv_copy\u001b[0;34m()\u001b[0m\n",
            "\u001b[0;32m/usr/local/lib/python3.7/dist-packages/zmq/backend/cython/checkrc.pxd\u001b[0m in \u001b[0;36mzmq.backend.cython.checkrc._check_rc\u001b[0;34m()\u001b[0m\n",
            "\u001b[0;31mKeyboardInterrupt\u001b[0m: ",
            "\nDuring handling of the above exception, another exception occurred:\n",
            "\u001b[0;31mKeyboardInterrupt\u001b[0m                         Traceback (most recent call last)",
            "\u001b[0;32m<ipython-input-114-9bd6372d0bef>\u001b[0m in \u001b[0;36m<module>\u001b[0;34m()\u001b[0m\n\u001b[1;32m     17\u001b[0m \u001b[0;34m\u001b[0m\u001b[0m\n\u001b[1;32m     18\u001b[0m \u001b[0;32mif\u001b[0m \u001b[0m__name__\u001b[0m \u001b[0;34m==\u001b[0m \u001b[0;34m\"__main__\"\u001b[0m\u001b[0;34m:\u001b[0m\u001b[0;34m\u001b[0m\u001b[0;34m\u001b[0m\u001b[0m\n\u001b[0;32m---> 19\u001b[0;31m         \u001b[0mmain\u001b[0m\u001b[0;34m(\u001b[0m\u001b[0;34m)\u001b[0m\u001b[0;34m\u001b[0m\u001b[0;34m\u001b[0m\u001b[0m\n\u001b[0m",
            "\u001b[0;32m<ipython-input-114-9bd6372d0bef>\u001b[0m in \u001b[0;36mmain\u001b[0;34m()\u001b[0m\n\u001b[1;32m      1\u001b[0m \u001b[0;32mdef\u001b[0m \u001b[0mmain\u001b[0m\u001b[0;34m(\u001b[0m\u001b[0;34m)\u001b[0m\u001b[0;34m:\u001b[0m\u001b[0;34m\u001b[0m\u001b[0;34m\u001b[0m\u001b[0m\n\u001b[1;32m      2\u001b[0m     \u001b[0;32mwhile\u001b[0m \u001b[0;32mTrue\u001b[0m\u001b[0;34m:\u001b[0m\u001b[0;34m\u001b[0m\u001b[0;34m\u001b[0m\u001b[0m\n\u001b[0;32m----> 3\u001b[0;31m         \u001b[0mcity\u001b[0m\u001b[0;34m,\u001b[0m \u001b[0mmonth\u001b[0m\u001b[0;34m,\u001b[0m \u001b[0mday\u001b[0m \u001b[0;34m=\u001b[0m \u001b[0mget_filters\u001b[0m\u001b[0;34m(\u001b[0m\u001b[0;34m)\u001b[0m\u001b[0;34m\u001b[0m\u001b[0;34m\u001b[0m\u001b[0m\n\u001b[0m\u001b[1;32m      4\u001b[0m         \u001b[0mdf\u001b[0m \u001b[0;34m=\u001b[0m \u001b[0mload_data\u001b[0m\u001b[0;34m(\u001b[0m\u001b[0mcity\u001b[0m\u001b[0;34m,\u001b[0m \u001b[0mmonth\u001b[0m\u001b[0;34m,\u001b[0m \u001b[0mday\u001b[0m\u001b[0;34m)\u001b[0m\u001b[0;34m\u001b[0m\u001b[0;34m\u001b[0m\u001b[0m\n\u001b[1;32m      5\u001b[0m \u001b[0;34m\u001b[0m\u001b[0m\n",
            "\u001b[0;32m<ipython-input-3-96e60e01ee1c>\u001b[0m in \u001b[0;36mget_filters\u001b[0;34m()\u001b[0m\n\u001b[1;32m     11\u001b[0m     \u001b[0minput_city\u001b[0m \u001b[0;34m=\u001b[0m \u001b[0;34m''\u001b[0m\u001b[0;34m\u001b[0m\u001b[0;34m\u001b[0m\u001b[0m\n\u001b[1;32m     12\u001b[0m     \u001b[0;32mwhile\u001b[0m \u001b[0minput_city\u001b[0m\u001b[0;34m.\u001b[0m\u001b[0mlower\u001b[0m\u001b[0;34m(\u001b[0m\u001b[0;34m)\u001b[0m \u001b[0;32mnot\u001b[0m \u001b[0;32min\u001b[0m \u001b[0mCITY_DATA\u001b[0m\u001b[0;34m:\u001b[0m\u001b[0;34m\u001b[0m\u001b[0;34m\u001b[0m\u001b[0m\n\u001b[0;32m---> 13\u001b[0;31m         \u001b[0minput_city\u001b[0m \u001b[0;34m=\u001b[0m \u001b[0minput\u001b[0m\u001b[0;34m(\u001b[0m\u001b[0;34m'\\nWhat\\'s your city? Is it chicago, new york city or washington?'\u001b[0m\u001b[0;34m)\u001b[0m\u001b[0;34m\u001b[0m\u001b[0;34m\u001b[0m\u001b[0m\n\u001b[0m\u001b[1;32m     14\u001b[0m         \u001b[0;32mif\u001b[0m \u001b[0minput_city\u001b[0m\u001b[0;34m.\u001b[0m\u001b[0mlower\u001b[0m\u001b[0;34m(\u001b[0m\u001b[0;34m)\u001b[0m \u001b[0;32min\u001b[0m \u001b[0mCITY_DATA\u001b[0m\u001b[0;34m:\u001b[0m\u001b[0;34m\u001b[0m\u001b[0;34m\u001b[0m\u001b[0m\n\u001b[1;32m     15\u001b[0m             \u001b[0mcity\u001b[0m \u001b[0;34m=\u001b[0m \u001b[0mCITY_DATA\u001b[0m\u001b[0;34m[\u001b[0m\u001b[0minput_city\u001b[0m\u001b[0;34m.\u001b[0m\u001b[0mlower\u001b[0m\u001b[0;34m(\u001b[0m\u001b[0;34m)\u001b[0m\u001b[0;34m]\u001b[0m\u001b[0;34m\u001b[0m\u001b[0;34m\u001b[0m\u001b[0m\n",
            "\u001b[0;32m/usr/local/lib/python3.7/dist-packages/ipykernel/kernelbase.py\u001b[0m in \u001b[0;36mraw_input\u001b[0;34m(self, prompt)\u001b[0m\n\u001b[1;32m    702\u001b[0m             \u001b[0mself\u001b[0m\u001b[0;34m.\u001b[0m\u001b[0m_parent_ident\u001b[0m\u001b[0;34m,\u001b[0m\u001b[0;34m\u001b[0m\u001b[0;34m\u001b[0m\u001b[0m\n\u001b[1;32m    703\u001b[0m             \u001b[0mself\u001b[0m\u001b[0;34m.\u001b[0m\u001b[0m_parent_header\u001b[0m\u001b[0;34m,\u001b[0m\u001b[0;34m\u001b[0m\u001b[0;34m\u001b[0m\u001b[0m\n\u001b[0;32m--> 704\u001b[0;31m             \u001b[0mpassword\u001b[0m\u001b[0;34m=\u001b[0m\u001b[0;32mFalse\u001b[0m\u001b[0;34m,\u001b[0m\u001b[0;34m\u001b[0m\u001b[0;34m\u001b[0m\u001b[0m\n\u001b[0m\u001b[1;32m    705\u001b[0m         )\n\u001b[1;32m    706\u001b[0m \u001b[0;34m\u001b[0m\u001b[0m\n",
            "\u001b[0;32m/usr/local/lib/python3.7/dist-packages/ipykernel/kernelbase.py\u001b[0m in \u001b[0;36m_input_request\u001b[0;34m(self, prompt, ident, parent, password)\u001b[0m\n\u001b[1;32m    732\u001b[0m             \u001b[0;32mexcept\u001b[0m \u001b[0mKeyboardInterrupt\u001b[0m\u001b[0;34m:\u001b[0m\u001b[0;34m\u001b[0m\u001b[0;34m\u001b[0m\u001b[0m\n\u001b[1;32m    733\u001b[0m                 \u001b[0;31m# re-raise KeyboardInterrupt, to truncate traceback\u001b[0m\u001b[0;34m\u001b[0m\u001b[0;34m\u001b[0m\u001b[0;34m\u001b[0m\u001b[0m\n\u001b[0;32m--> 734\u001b[0;31m                 \u001b[0;32mraise\u001b[0m \u001b[0mKeyboardInterrupt\u001b[0m\u001b[0;34m\u001b[0m\u001b[0;34m\u001b[0m\u001b[0m\n\u001b[0m\u001b[1;32m    735\u001b[0m             \u001b[0;32melse\u001b[0m\u001b[0;34m:\u001b[0m\u001b[0;34m\u001b[0m\u001b[0;34m\u001b[0m\u001b[0m\n\u001b[1;32m    736\u001b[0m                 \u001b[0;32mbreak\u001b[0m\u001b[0;34m\u001b[0m\u001b[0;34m\u001b[0m\u001b[0m\n",
            "\u001b[0;31mKeyboardInterrupt\u001b[0m: "
          ]
        }
      ]
    },
    {
      "cell_type": "code",
      "metadata": {
        "id": "SngWl5fKq1IN"
      },
      "source": [
        ""
      ],
      "execution_count": null,
      "outputs": []
    }
  ]
}