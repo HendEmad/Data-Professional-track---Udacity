{
  "cells": [
    {
      "cell_type": "markdown",
      "metadata": {
        "id": "view-in-github",
        "colab_type": "text"
      },
      "source": [
        "<a href=\"https://colab.research.google.com/github/HendEmad/Udacity-FWD/blob/main/Explore_US_BikeShare_data.ipynb\" target=\"_parent\"><img src=\"https://colab.research.google.com/assets/colab-badge.svg\" alt=\"Open In Colab\"/></a>"
      ]
    },
    {
      "cell_type": "code",
      "execution_count": null,
      "metadata": {
        "id": "OvtaPpN2FegV"
      },
      "outputs": [],
      "source": [
        "#Libraries\n",
        "import time\n",
        "import pandas as pd\n",
        "import numpy as np"
      ]
    },
    {
      "cell_type": "code",
      "execution_count": null,
      "metadata": {
        "id": "11rEmGbdFsaS"
      },
      "outputs": [],
      "source": [
        "#Our Data\n",
        "CITY_DATA = { 'chicago': '/content/chicago.csv',\n",
        "              'new york city': '/content/new_york_city.csv',\n",
        "              'washington': '/content/washington.csv' }\n",
        "\n",
        "MONTH_DATA = ['all', 'january', 'february', 'march', 'april', 'may', 'june']\n",
        "\n",
        "DAY_DATA = ['all', 'saturday', 'sunday', 'monday', 'tuesday', 'wednesday', 'thursday', 'friday']"
      ]
    },
    {
      "cell_type": "code",
      "execution_count": null,
      "metadata": {
        "id": "6JWxZ-i1FwPV"
      },
      "outputs": [],
      "source": [
        "#Get filters function----> Asks user to specify a city, month, and day to analyze.\n",
        "def get_filters():\n",
        "    \n",
        "    '''Returns:\n",
        "        (str) city - name of the city to analyze\n",
        "        (str) month - name of the month to filter by, or \"all\" to apply no month filter\n",
        "        (str) day - name of the day of week to filter by, or \"all\" to apply no day filter'''\n",
        "    \n",
        "    print('Hello! Let\\'s explore some US bikeshare data!')\n",
        "    #getting user input for city (chicago, new york city, washington). HINT: Use a while loop to handle invalid inputs\n",
        "    input_city = ''\n",
        "    while input_city.lower() not in CITY_DATA:\n",
        "        input_city = input('\\nWhat\\'s your city? Is it chicago, new york city or washington?')\n",
        "        if input_city.lower() in CITY_DATA:\n",
        "            city = CITY_DATA[input_city.lower()]\n",
        "        else: \n",
        "            print('We can\\'t find this city on our data, please choose one of these cities: (chicago, new york city, washington)')\n",
        "\n",
        "    #getting user input for month (all, january, february, ... , june)\n",
        "    input_month = ''\n",
        "    while input_month.lower() not in MONTH_DATA:\n",
        "        input_month = input('\\nWhat\\'s the month?')\n",
        "        if input_month.lower() in MONTH_DATA:\n",
        "            month = input_month.lower()\n",
        "        else:\n",
        "            print('not found! input all if you don\\'t want to filter data with month.')\n",
        "            \n",
        "    #getting user input for day of week (all, monday, tuesday, ... sunday)\n",
        "    input_day = ''\n",
        "    while input_day.lower() not in DAY_DATA:\n",
        "        input_day = input('\\nwhat\\'s the day?')\n",
        "        if input_day.lower() in DAY_DATA:\n",
        "            day = input_day.lower()\n",
        "        else:\n",
        "            print('not found! input all if you don\\'t want to filter data with day')\n",
        "\n",
        "    print('-'*40)\n",
        "    return city, month, day"
      ]
    },
    {
      "cell_type": "code",
      "execution_count": null,
      "metadata": {
        "id": "y6_syP3pF0Rr"
      },
      "outputs": [],
      "source": [
        "#Load data function ---> Loads data for the specified city and filters by month and day if applicable.\n",
        "def load_data(city, month, day):\n",
        "    \n",
        "    '''Args:\n",
        "        (str) city - name of the city to analyze\n",
        "        (str) month - name of the month to filter by, or \"all\" to apply no month filter\n",
        "        (str) day - name of the day of week to filter by, or \"all\" to apply no day filter'''\n",
        "   #Return:\n",
        "    \n",
        "    # load data file into a dataframe\n",
        "    df = pd.read_csv(city)\n",
        "\n",
        "    # convert the Start Time column to datetime\n",
        "    df['Start Time'] = pd.to_datetime(df['Start Time'])\n",
        "\n",
        "    # extract month and day of week and Start Time and trip to create new columns\n",
        "    df['month'] = df['Start Time'].dt.month\n",
        "    df['day_of_week'] = df['Start Time'].dt.day_name()\n",
        "    df['hour'] = df['Start Time'].dt.hour\n",
        "    df['trip'] = df['Start Station'].astype(str) + ':' + df['End Station'].astype(str)\n",
        "    # filter by month if applicable\n",
        "    if month != 'all':\n",
        "        # use the index of the months list to get the corresponding int\n",
        "        month = MONTH_DATA.index(month)\n",
        "    \n",
        "        # filter by month to create the new dataframe\n",
        "        df = df.loc[df['month'] == month]\n",
        "\n",
        "    # filter by day of week if applicable\n",
        "    if day != 'all':\n",
        "        # filter by day of week to create the new dataframe\n",
        "        df = df.loc[df['day_of_week'] == day.title()]\n",
        "\n",
        "    return df"
      ]
    },
    {
      "cell_type": "code",
      "execution_count": null,
      "metadata": {
        "id": "PTD3yXojF5mx"
      },
      "outputs": [],
      "source": [
        "def time_stats(df):\n",
        "    print('\\nCalculating The Most Frequent Times of Travel...\\n')\n",
        "    start_time = time.time()\n",
        "\n",
        "    #displaying the most common month\n",
        "    most_common_month = df['month'].mode()[0]\n",
        "    print('The most common month is: ', most_common_month)\n",
        "    \n",
        "    #displaying the most common day of week\n",
        "    most_common_dayofweek = df['day_of_week'].mode()[0]\n",
        "    print('The most common day of week is: ', most_common_dayofweek)\n",
        "\n",
        "    #displaying the most common start hour\n",
        "    most_common_starthour = df['hour'].mode()[0]\n",
        "    print('The most common start hour is: ', most_common_starthour)\n",
        "    \n",
        "    print(\"\\nThis took %s seconds.\" % (time.time() - start_time))\n",
        "    print('-'*40)"
      ]
    },
    {
      "cell_type": "code",
      "execution_count": null,
      "metadata": {
        "id": "lE92baEtF8NX"
      },
      "outputs": [],
      "source": [
        "#station_stats function----> Displays statistics on the most popular stations and trip.\n",
        "def station_stats(df):\n",
        "    print('\\nCalculating The Most Popular Stations and Trip...\\n')\n",
        "    start_time = time.time()\n",
        "\n",
        "    #displaying most commonly used start station\n",
        "    most_common_startstation = df['Start Station'].mode()[0]\n",
        "    print('The most commonly used start station is: ', most_common_startstation)\n",
        "\n",
        "    #displaying most commonly used end station\n",
        "    most_common_endstation = df['End Station'].mode()[0]\n",
        "    print('The most commonly used end station is: ', most_common_endstation)\n",
        "\n",
        "    #displaying most frequent combination of start station and end station trip\n",
        "    most_frequent_trip = df['trip'].mode()[0]\n",
        "    print('The most frequent combination of start station and end station trip is: ', most_frequent_trip)\n",
        "\n",
        "    print(\"\\nThis took %s seconds.\" % (time.time() - start_time))\n",
        "    print('-'*40)"
      ]
    },
    {
      "cell_type": "code",
      "execution_count": null,
      "metadata": {
        "id": "kmDiKvsLF-hT"
      },
      "outputs": [],
      "source": [
        "#trip_duration_stats function----> Displays statistics on the total and average trip duration.\n",
        "def trip_duration_stats(df):\n",
        "    print('\\nCalculating Trip Duration...\\n')\n",
        "    start_time = time.time()\n",
        "\n",
        "    #displaying total travel time\n",
        "    total_travel_time = df['Trip Duration'].sum()\n",
        "    print('The total travel time is: ', total_travel_time)\n",
        "\n",
        "    #displaying mean travel time\n",
        "    mean_travel_time = df['Trip Duration'].mean()\n",
        "    print('The mean travel time is: ', mean_travel_time)\n",
        "\n",
        "    print(\"\\nThis took %s seconds.\" % (time.time() - start_time))\n",
        "    print('-'*40) "
      ]
    },
    {
      "cell_type": "code",
      "execution_count": null,
      "metadata": {
        "id": "9tAeLeEcGBLB"
      },
      "outputs": [],
      "source": [
        "#user_stats function ----> Displays statistics on bikeshare users.\n",
        "def user_stats(df):\n",
        "    print('\\nCalculating User Stats...\\n')\n",
        "    start_time = time.time()\n",
        "\n",
        "    #Displaying counts of user types\n",
        "    user_types_counts = df['User Type'].value_counts()\n",
        "    print('User types counts are: ', user_types_counts)\n",
        "\n",
        "    #Displaying counts of gender\n",
        "    if 'Gender' in df.columns:\n",
        "      gender_counts = df['Gender'].value_counts()\n",
        "      print('Gender counts are: ', gender_counts)\n",
        "\n",
        "    #Displaying earliest, most recent, and most common year of birth\n",
        "    if 'Birth Year' in df.columns:\n",
        "      earliest_yearOfBirth = df['Birth Year'].min( )\n",
        "      print('The earliest year of birth is: ', earliest_yearOfBirth)\n",
        "      mostRecent_yearOfBirth = df['Birth Year'].max()\n",
        "      print('The earliest year of birth is: ', earliest_yearOfBirth)\n",
        "      most_common_yearOfBirth = df['Birth Year'].mode()[0]\n",
        "      print('The most common year of birth is: ', most_common_yearOfBirth)\n",
        "\n",
        "    print(\"\\nThis took %s seconds.\" % (time.time() - start_time))\n",
        "    print('-'*40)"
      ]
    },
    {
      "cell_type": "code",
      "execution_count": null,
      "metadata": {
        "id": "RgYT1qAQk_9F"
      },
      "outputs": [],
      "source": [
        "def display_data(df):\n",
        "  start_loc = 0\n",
        "  data = input('Do you want to display the data? enter yes or no').lower()\n",
        "  while data == 'yes':\n",
        "    n = int(input('Please enter integer no.of rows you want to display(eg. 1 5 8 100..est):  \\n'))\n",
        "    n += start_loc\n",
        "    print(df[start_loc : n])\n",
        "    data = input('Do you want to display more rows of data? enter yes or no').lower()\n",
        "    start_loc = n        \n",
        "    if data != 'yes' and data != 'no':\n",
        "      data = input('Invalid input, please choose yes or no: ').lower()\n",
        "    elif data == 'no':\n",
        "      pass"
      ]
    },
    {
      "cell_type": "code",
      "execution_count": null,
      "metadata": {
        "id": "zyV7UhWq0mq_",
        "colab": {
          "base_uri": "https://localhost:8080/",
          "height": 122
        },
        "outputId": "ff3c4477-6bbf-4bbe-8514-d972d4fcb544"
      },
      "outputs": [
        {
          "output_type": "execute_result",
          "data": {
            "application/vnd.google.colaboratory.intrinsic+json": {
              "type": "string"
            },
            "text/plain": [
              "\"\\ndef display_data2(df):\\n  start_loc = 0\\n  while True:\\n    data = input('Do you want to display the data? enter yes or no').lower()\\n    if data not in ['yes', 'no']:\\n      data = input('Invalid input, please choose yes or no: ').lower()\\n    elif data == 'yes':\\n      n = int(input('Please enter integer no.of rows you want to display(eg. 1 5 8 100..est):  \\n'))\\n      n += start_loc\\n      print(df[start_loc : n])\\n      more_data = input('Do you want to display more rows of data? enter yes or no').lower()\\n      if more_data == 'no':\\n        break\\n      elif more_data not in ['yes', 'no']:\\n        more_data = input('Invalid input, please choose yes or no: ').lower()\\n    elif data == 'no':\\n      break\\n\""
            ]
          },
          "metadata": {},
          "execution_count": 36
        }
      ],
      "source": [
        "#Another way to build [display_data(df)] function\n",
        "'''\n",
        "def display_data2(df):\n",
        "  start_loc = 0\n",
        "  while True:\n",
        "    data = input('Do you want to display the data? enter yes or no').lower()\n",
        "    if data not in ['yes', 'no']:\n",
        "      data = input('Invalid input, please choose yes or no: ').lower()\n",
        "    elif data == 'yes':\n",
        "      n = int(input('Please enter integer no.of rows you want to display(eg. 1 5 8 100..est):  \\n'))\n",
        "      n += start_loc\n",
        "      print(df[start_loc : n])\n",
        "      more_data = input('Do you want to display more rows of data? enter yes or no').lower()\n",
        "      if more_data == 'no':\n",
        "        break\n",
        "      elif more_data not in ['yes', 'no']:\n",
        "        more_data = input('Invalid input, please choose yes or no: ').lower()\n",
        "    elif data == 'no':\n",
        "      break\n",
        "'''"
      ]
    },
    {
      "cell_type": "code",
      "execution_count": null,
      "metadata": {
        "colab": {
          "base_uri": "https://localhost:8080/"
        },
        "id": "yyhFkxDkGD5b",
        "outputId": "6b132ebb-5a7e-4b79-d7b9-45b1e9fcb3b0"
      },
      "outputs": [
        {
          "name": "stdout",
          "output_type": "stream",
          "text": [
            "Hello! Let's explore some US bikeshare data!\n",
            "\n",
            "What's your city? Is it chicago, new york city or washington?new york\n",
            "We can't find this city on our data, please choose one of these cities: (chicago, new york city, washington)\n",
            "\n",
            "What's your city? Is it chicago, new york city or washington?new york city\n",
            "\n",
            "What's the month?may\n",
            "\n",
            "what's the day?saturday\n",
            "----------------------------------------\n",
            "\n",
            "Calculating The Most Frequent Times of Travel...\n",
            "\n",
            "The most common month is:  5\n",
            "The most common day of week is:  Saturday\n",
            "The most common start hour is:  13\n",
            "\n",
            "This took 0.004616975784301758 seconds.\n",
            "----------------------------------------\n",
            "\n",
            "Calculating The Most Popular Stations and Trip...\n",
            "\n",
            "The most commonly used start station is:  Washington St & Gansevoort St\n",
            "The most commonly used end station is:  South End Ave & Liberty St\n",
            "The most frequent combination of start station and end station trip is:  Broadway & W 41 St:Broadway & W 36 St\n",
            "\n",
            "This took 0.001699686050415039 seconds.\n",
            "----------------------------------------\n",
            "\n",
            "Calculating Trip Duration...\n",
            "\n",
            "The total travel time is:  421599.0\n",
            "The mean travel time is:  1006.2028639618138\n",
            "\n",
            "This took 0.0005166530609130859 seconds.\n",
            "----------------------------------------\n",
            "\n",
            "Calculating User Stats...\n",
            "\n",
            "User types counts are:  Subscriber    316\n",
            "Customer      103\n",
            "Name: User Type, dtype: int64\n",
            "Gender counts are:  Male      239\n",
            "Female     90\n",
            "Name: Gender, dtype: int64\n",
            "The earliest year of birth is:  1944.0\n",
            "The earliest year of birth is:  1944.0\n",
            "The most common year of birth is:  1989.0\n",
            "\n",
            "This took 0.009554862976074219 seconds.\n",
            "----------------------------------------\n",
            "Do you want to display the data? enter yes or nono\n",
            "\n",
            "Would you like to restart? Enter yes or no.\n",
            "no\n"
          ]
        }
      ],
      "source": [
        "def main():\n",
        "    while True:\n",
        "        city, month, day = get_filters()\n",
        "        df = load_data(city, month, day)\n",
        "\n",
        "        time_stats(df)\n",
        "        station_stats(df)\n",
        "        trip_duration_stats(df)\n",
        "        user_stats(df)\n",
        "        display_data(df)\n",
        "#        display_data2(df)\n",
        "\n",
        "        restart = input('\\nWould you like to restart? Enter yes or no.\\n')\n",
        "        if restart.lower() != 'yes':\n",
        "            break\n",
        "\n",
        "\n",
        "if __name__ == \"__main__\":\n",
        "\tmain()"
      ]
    }
  ],
  "metadata": {
    "colab": {
      "collapsed_sections": [],
      "name": "Explore US BikeShare data.ipynb",
      "provenance": [],
      "mount_file_id": "1QypeIcPvUosc0M8Cbrz0Kt5gd93ulf-7",
      "authorship_tag": "ABX9TyP90TVUSr1wmz1D13ewFaIz",
      "include_colab_link": true
    },
    "kernelspec": {
      "display_name": "Python 3",
      "name": "python3"
    },
    "language_info": {
      "name": "python"
    }
  },
  "nbformat": 4,
  "nbformat_minor": 0
}