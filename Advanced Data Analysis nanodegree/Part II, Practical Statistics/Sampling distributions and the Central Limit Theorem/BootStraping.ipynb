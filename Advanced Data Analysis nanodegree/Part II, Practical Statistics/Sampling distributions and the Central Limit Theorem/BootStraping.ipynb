{
 "cells": [
  {
   "cell_type": "markdown",
   "id": "9982b0e9",
   "metadata": {},
   "source": [
    "### The idea of using BootStrapping to simulate the sampling distribution for any statistic\n",
    "We know that in Inferential statistics, we use a statistic to try and say something about the corresponding population parameter."
   ]
  },
  {
   "cell_type": "markdown",
   "id": "38890a60",
   "metadata": {},
   "source": [
    "# The fact that values could be chosen more than once makes this bootstrap sampling or \"bootstrapping\"."
   ]
  },
  {
   "cell_type": "markdown",
   "id": "6a433933",
   "metadata": {},
   "source": [
    "* Imagine we treat put sample as if it were the entire population. So, imagine  21 cups represent only a sample of coffee drinkers.\n",
    "* Imagine we trat them as though they were in our entire population.\n",
    "* If these 21 individuals are truly representative of our population, we can bootstrap sample from them to understand how the proprtion(decimal value of percentage) of coffee drinkers might change from one sample to the next."
   ]
  },
  {
   "cell_type": "code",
   "execution_count": 2,
   "id": "81f0320c",
   "metadata": {},
   "outputs": [],
   "source": [
    "# Setting up an array of 21 ones and zeros to represent if the cup refers to coffee drinker or not\n",
    "import numpy as np\n",
    "np.random.seed(42)\n",
    "\n",
    "# 1 here represents a coffee drinker\n",
    "students = np.array([1, 0, 1, 1, 1, 1, 0, 0, 1, 0, 1, 1, 0, 1, 1, 1, 1, 1, 1, 1, 1])"
   ]
  },
  {
   "cell_type": "code",
   "execution_count": 3,
   "id": "cc8e6197",
   "metadata": {},
   "outputs": [
    {
     "data": {
      "text/plain": [
       "0.7619047619047619"
      ]
     },
     "execution_count": 3,
     "metadata": {},
     "output_type": "execute_result"
    }
   ],
   "source": [
    "# calculating the proportion of coffee drinkers in our original sample --> students\n",
    "students.mean()"
   ]
  },
  {
   "cell_type": "code",
   "execution_count": 4,
   "id": "80cf5b6e",
   "metadata": {},
   "outputs": [
    {
     "data": {
      "text/plain": [
       "0.7619047619047619"
      ]
     },
     "execution_count": 4,
     "metadata": {},
     "output_type": "execute_result"
    }
   ],
   "source": [
    "# Taking our first bootstrap sample of the same size as the original sample\n",
    "# and calculating the proportion of coffee drinkers\n",
    "sample = _\n",
    "sample.mean()"
   ]
  },
  {
   "cell_type": "markdown",
   "id": "e92010dc",
   "metadata": {},
   "source": [
    "The last proprtion doesn't match the original because we're not just sampling the original observations again but rather, we're sampling them with replacement"
   ]
  },
  {
   "cell_type": "code",
   "execution_count": 5,
   "id": "492954f3",
   "metadata": {},
   "outputs": [],
   "source": [
    "# A loop to perform the same sampling 10,000 times to see how the proprtion will change\n",
    "proportion = [np.random.choice(students, 21).mean() for _ in range(10000)]"
   ]
  },
  {
   "cell_type": "code",
   "execution_count": 7,
   "id": "d0a53299",
   "metadata": {},
   "outputs": [
    {
     "data": {
      "text/plain": [
       "(array([  38.,  115.,  254.,  666., 1116., 3635., 1893., 1350.,  708.,\n",
       "         225.]),\n",
       " array([0.42857143, 0.48571429, 0.54285714, 0.6       , 0.65714286,\n",
       "        0.71428571, 0.77142857, 0.82857143, 0.88571429, 0.94285714,\n",
       "        1.        ]),\n",
       " <BarContainer object of 10 artists>)"
      ]
     },
     "execution_count": 7,
     "metadata": {},
     "output_type": "execute_result"
    },
    {
     "data": {
      "image/png": "[encoded data removed]",
      "text/plain": [
       "<Figure size 432x288 with 1 Axes>"
      ]
     },
     "metadata": {
      "needs_background": "light"
     },
     "output_type": "display_data"
    }
   ],
   "source": [
    "# plotting the proportion to look at the sampling distribution \n",
    "import matplotlib.pyplot as plt\n",
    "%matplotlib inline\n",
    "\n",
    "plt.hist(proportion)"
   ]
  },
  {
   "cell_type": "markdown",
   "id": "0723ad37",
   "metadata": {},
   "source": [
    "Below is an array of the possible values you can obtain from a die. Let's consider different methods of sampling from these values."
   ]
  },
  {
   "cell_type": "code",
   "execution_count": 11,
   "id": "c004f574",
   "metadata": {},
   "outputs": [],
   "source": [
    "import numpy as np\n",
    "np.random.seed(42)\n",
    "\n",
    "die_vals = np.array([1,2,3,4,5,6])"
   ]
  },
  {
   "cell_type": "markdown",
   "id": "2a84f66e",
   "metadata": {},
   "source": [
    "`1.` Take a random sample of 20 values from die_vals using the code below, then answer the question in the first quiz below."
   ]
  },
  {
   "cell_type": "code",
   "execution_count": 12,
   "id": "9c6e8732",
   "metadata": {},
   "outputs": [
    {
     "data": {
      "text/plain": [
       "array([4, 5, 3, 5, 5, 2, 3, 3, 3, 5, 4, 3, 6, 5, 2, 4, 6, 6, 2, 4])"
      ]
     },
     "execution_count": 12,
     "metadata": {},
     "output_type": "execute_result"
    }
   ],
   "source": [
    "np.random.choice(die_vals, size=20)"
   ]
  },
  {
   "cell_type": "markdown",
   "id": "b1c3650f",
   "metadata": {},
   "source": [
    "`2.` Use the code below to choose another sample from die_vals, then answer the question in the first quiz below."
   ]
  },
  {
   "cell_type": "code",
   "execution_count": 13,
   "id": "afe41f82",
   "metadata": {},
   "outputs": [
    {
     "ename": "ValueError",
     "evalue": "Cannot take a larger sample than population when 'replace=False'",
     "output_type": "error",
     "traceback": [
      "\u001b[1;31m---------------------------------------------------------------------------\u001b[0m",
      "\u001b[1;31mValueError\u001b[0m                                Traceback (most recent call last)",
      "\u001b[1;32m~\\AppData\\Local\\Temp/ipykernel_20636/2361099180.py\u001b[0m in \u001b[0;36m<module>\u001b[1;34m\u001b[0m\n\u001b[1;32m----> 1\u001b[1;33m \u001b[0mnp\u001b[0m\u001b[1;33m.\u001b[0m\u001b[0mrandom\u001b[0m\u001b[1;33m.\u001b[0m\u001b[0mchoice\u001b[0m\u001b[1;33m(\u001b[0m\u001b[0mdie_vals\u001b[0m\u001b[1;33m,\u001b[0m \u001b[0mreplace\u001b[0m\u001b[1;33m=\u001b[0m\u001b[1;32mFalse\u001b[0m\u001b[1;33m,\u001b[0m \u001b[0msize\u001b[0m\u001b[1;33m=\u001b[0m\u001b[1;36m20\u001b[0m\u001b[1;33m)\u001b[0m\u001b[1;33m\u001b[0m\u001b[1;33m\u001b[0m\u001b[0m\n\u001b[0m",
      "\u001b[1;32mmtrand.pyx\u001b[0m in \u001b[0;36mnumpy.random.mtrand.RandomState.choice\u001b[1;34m()\u001b[0m\n",
      "\u001b[1;31mValueError\u001b[0m: Cannot take a larger sample than population when 'replace=False'"
     ]
    }
   ],
   "source": [
    "np.random.choice(die_vals, replace=False, size=20)"
   ]
  },
  {
   "cell_type": "markdown",
   "id": "a98e222f",
   "metadata": {},
   "source": [
    "### Quiz Questions"
   ]
  },
  {
   "cell_type": "markdown",
   "id": "6f3a2db1",
   "metadata": {},
   "source": [
    "`Question 1.` Use the resulting values from 1. in the notebook above to select all of the statements here that are true."
   ]
  },
  {
   "cell_type": "markdown",
   "id": "4698454c",
   "metadata": {},
   "source": [
    "- Once a value is chosen, it was not able to be selected again.\n",
    "- ***This sampling is an example of bootstrap sampling.***\n",
    "- All of the values were randomly chosen in this sample."
   ]
  },
  {
   "cell_type": "markdown",
   "id": "d2202d7d",
   "metadata": {},
   "source": [
    "`Question 2.` Select all of the statements that are true about the code you ran in 2. above."
   ]
  },
  {
   "cell_type": "markdown",
   "id": "76465c57",
   "metadata": {},
   "source": [
    "- ***This was an example of bootstrap sampling.***\n",
    "- ***The code broke.***\n",
    "- ***The replace=False portion did not allow us to select 20 times from an array of only 6 values.***\n",
    "- This was an example of sampling without replacement.\n",
    "\n"
   ]
  },
  {
   "cell_type": "markdown",
   "id": "5fb7e5cf",
   "metadata": {},
   "source": [
    "The broken code was because you were sampling without replacement more values than were able to be selected."
   ]
  },
  {
   "cell_type": "markdown",
   "id": "5a874ded",
   "metadata": {},
   "source": [
    "# Note"
   ]
  },
  {
   "cell_type": "markdown",
   "id": "f61330c7",
   "metadata": {},
   "source": [
    "In Bootstraping, no more data deeded to gain a better understanding of the parameter."
   ]
  }
 ],
 "metadata": {
  "kernelspec": {
   "display_name": "Python 3 (ipykernel)",
   "language": "python",
   "name": "python3"
  },
  "language_info": {
   "codemirror_mode": {
    "name": "ipython",
    "version": 3
   },
   "file_extension": ".py",
   "mimetype": "text/x-python",
   "name": "python",
   "nbconvert_exporter": "python",
   "pygments_lexer": "ipython3",
   "version": "3.9.7"
  }
 },
 "nbformat": 4,
 "nbformat_minor": 5
}
