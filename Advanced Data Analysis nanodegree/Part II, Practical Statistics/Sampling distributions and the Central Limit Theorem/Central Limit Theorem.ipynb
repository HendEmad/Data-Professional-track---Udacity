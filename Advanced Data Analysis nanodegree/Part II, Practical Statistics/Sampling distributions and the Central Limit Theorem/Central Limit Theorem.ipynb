{
 "cells": [
  {
   "cell_type": "markdown",
   "id": "1755faf7",
   "metadata": {},
   "source": [
    "# Central Limit Theorem\n",
    "Work through the questions and use the created variables to answer the questions that follow below the notebook.\n",
    "\n",
    "Run the below cell to get started."
   ]
  },
  {
   "cell_type": "markdown",
   "id": "ba6b273f",
   "metadata": {},
   "source": [
    "## Part I"
   ]
  },
  {
   "cell_type": "code",
   "execution_count": 30,
   "id": "2a7e88c9",
   "metadata": {},
   "outputs": [
    {
     "data": {
      "image/png": "[encoded data removed]",
      "text/plain": [
       "<Figure size 432x288 with 1 Axes>"
      ]
     },
     "metadata": {
      "needs_background": "light"
     },
     "output_type": "display_data"
    }
   ],
   "source": [
    "import numpy as np\n",
    "import matplotlib.pyplot as plt\n",
    "\n",
    "%matplotlib inline\n",
    "np.random.seed(42)\n",
    "\n",
    "pop_data = np.random.gamma(1,100,3000)\n",
    "plt.hist(pop_data);"
   ]
  },
  {
   "cell_type": "markdown",
   "id": "87da9279",
   "metadata": {},
   "source": [
    "`1.` In order to create the sampling distribution for the average of 3 draws of this distribution, follow these steps:\n",
    "\n",
    "`a.` Use numpy's random.choice to simulate 3 draws from the pop_data array.\n",
    "\n",
    "`b.` Compute the mean of these 3 draws.\n",
    "\n",
    "`c.` Write a loop to simulate this process 10,000 times, and store each mean into an array called means_size_3.\n",
    "\n",
    "`d.` Plot a histogram of your sample means.\n",
    "\n",
    "`e.` Use means_size_3 and pop_data to answer the quiz questions below."
   ]
  },
  {
   "cell_type": "code",
   "execution_count": 31,
   "id": "b195ab8c",
   "metadata": {},
   "outputs": [],
   "source": [
    "sample1 = np.random.choice(pop_data, 50)\n",
    "sample2 = np.random.choice(pop_data, 500)\n",
    "sample3 = np.random.choice(pop_data, 5000)"
   ]
  },
  {
   "cell_type": "code",
   "execution_count": 32,
   "id": "19575957",
   "metadata": {},
   "outputs": [
    {
     "name": "stdout",
     "output_type": "stream",
     "text": [
      "100.35978700795846\n",
      "132.49813610521906\n",
      "107.51107717496427\n",
      "99.89118180072936\n"
     ]
    }
   ],
   "source": [
    "print(np.mean(pop_data))\n",
    "print(np.mean(sample1))\n",
    "print(np.mean(sample2))\n",
    "print(np.mean(sample3))"
   ]
  },
  {
   "cell_type": "code",
   "execution_count": 34,
   "id": "9978fafb",
   "metadata": {},
   "outputs": [
    {
     "data": {
      "image/png": "[encoded data removed]",
      "text/plain": [
       "<Figure size 432x288 with 1 Axes>"
      ]
     },
     "metadata": {
      "needs_background": "light"
     },
     "output_type": "display_data"
    }
   ],
   "source": [
    "means_size_3 = []\n",
    "for _ in range(10000):\n",
    "    sample = np.random.choice(pop_data, 3)\n",
    "    means_size_3.append(sample.mean())\n",
    "\n",
    "plt.hist(means_size_3);"
   ]
  },
  {
   "cell_type": "markdown",
   "id": "6824742c",
   "metadata": {},
   "source": [
    "It still looks right-skewed, so a sample size of 3 isn't \"large enough\"."
   ]
  },
  {
   "cell_type": "markdown",
   "id": "5dd578f6",
   "metadata": {},
   "source": [
    "### Quiz answers"
   ]
  },
  {
   "cell_type": "code",
   "execution_count": 35,
   "id": "f4f13bb7",
   "metadata": {},
   "outputs": [
    {
     "data": {
      "text/plain": [
       "99.77860187968906"
      ]
     },
     "execution_count": 35,
     "metadata": {},
     "output_type": "execute_result"
    }
   ],
   "source": [
    "# std of the population\n",
    "np.std(pop_data)"
   ]
  },
  {
   "cell_type": "code",
   "execution_count": 36,
   "id": "0e4c863b",
   "metadata": {},
   "outputs": [
    {
     "data": {
      "text/plain": [
       "100.35978700795846"
      ]
     },
     "execution_count": 36,
     "metadata": {},
     "output_type": "execute_result"
    }
   ],
   "source": [
    "# mean of the population\n",
    "np.mean(pop_data)"
   ]
  },
  {
   "cell_type": "code",
   "execution_count": 37,
   "id": "b09b36c0",
   "metadata": {},
   "outputs": [
    {
     "data": {
      "text/plain": [
       "57.04843513087246"
      ]
     },
     "execution_count": 37,
     "metadata": {},
     "output_type": "execute_result"
    }
   ],
   "source": [
    "# std of the sampling distribution\n",
    "np.std(means_size_3)"
   ]
  },
  {
   "cell_type": "code",
   "execution_count": 38,
   "id": "a933bca3",
   "metadata": {},
   "outputs": [
    {
     "data": {
      "text/plain": [
       "100.89449876004775"
      ]
     },
     "execution_count": 38,
     "metadata": {},
     "output_type": "execute_result"
    }
   ],
   "source": [
    "# mean of the sampling distribution\n",
    "np.mean(means_size_3)"
   ]
  },
  {
   "cell_type": "markdown",
   "id": "45bec6e1",
   "metadata": {},
   "source": [
    "## Part II"
   ]
  },
  {
   "cell_type": "markdown",
   "id": "4fdd3a30",
   "metadata": {},
   "source": [
    "In the previous concept, you saw that a sample size of 3 wasn't large enough for the Central Limit Theorem to apply. In this notebook, you will try a larger sample size. Work through the notebook below to see the impact of the increased sample size."
   ]
  },
  {
   "cell_type": "code",
   "execution_count": 40,
   "id": "bf1d6cf1",
   "metadata": {},
   "outputs": [
    {
     "data": {
      "image/png": "[encoded data removed]",
      "text/plain": [
       "<Figure size 432x288 with 1 Axes>"
      ]
     },
     "metadata": {
      "needs_background": "light"
     },
     "output_type": "display_data"
    }
   ],
   "source": [
    "means_size_100 = []\n",
    "for _ in range(10000):\n",
    "    sample = np.random.choice(pop_data, 100)\n",
    "    means_size_100.append(sample.mean())\n",
    "\n",
    "plt.hist(means_size_100);"
   ]
  },
  {
   "cell_type": "markdown",
   "id": "8193b9fb",
   "metadata": {},
   "source": [
    "### Quiz answers"
   ]
  },
  {
   "cell_type": "code",
   "execution_count": 45,
   "id": "c965ee65",
   "metadata": {},
   "outputs": [
    {
     "data": {
      "text/plain": [
       "100.30955536801987"
      ]
     },
     "execution_count": 45,
     "metadata": {},
     "output_type": "execute_result"
    }
   ],
   "source": [
    "# The mean of the sampling distribution.\n",
    "np.mean(means_size_100)"
   ]
  },
  {
   "cell_type": "code",
   "execution_count": 42,
   "id": "c54f903c",
   "metadata": {},
   "outputs": [
    {
     "data": {
      "text/plain": [
       "100.35978700795846"
      ]
     },
     "execution_count": 42,
     "metadata": {},
     "output_type": "execute_result"
    }
   ],
   "source": [
    "# The mean of the population.\n",
    "np.mean(pop_data)"
   ]
  },
  {
   "cell_type": "code",
   "execution_count": 44,
   "id": "8076af37",
   "metadata": {},
   "outputs": [
    {
     "data": {
      "text/plain": [
       "100.44517396913089"
      ]
     },
     "execution_count": 44,
     "metadata": {},
     "output_type": "execute_result"
    }
   ],
   "source": [
    "# The variance of the sampling distribution.\n",
    "np.var(means_size_100)"
   ]
  },
  {
   "cell_type": "code",
   "execution_count": 46,
   "id": "29d79e3a",
   "metadata": {},
   "outputs": [
    {
     "data": {
      "text/plain": [
       "9955.76939306549"
      ]
     },
     "execution_count": 46,
     "metadata": {},
     "output_type": "execute_result"
    }
   ],
   "source": [
    "# The variance of the population.\n",
    "np.var(pop_data)"
   ]
  },
  {
   "cell_type": "markdown",
   "id": "7504ea4f",
   "metadata": {},
   "source": [
    "Notice the shrinking of the variance in the sampling distribution. It is the case, that this is always by a factor of n. That is, the variance of the sampling distribution is the variance of the population divided by the sample size (100) in this case."
   ]
  },
  {
   "cell_type": "markdown",
   "id": "2c74c20a",
   "metadata": {},
   "source": [
    "For sure, the mean (x\\`) and proportion (P) are normally distributed with large enough sample sizes, ***but what does it mean for a sample size to be large enough?***"
   ]
  },
  {
   "cell_type": "markdown",
   "id": "9fa7efcc",
   "metadata": {},
   "source": [
    "Is a sample size of 10 large enough? or 30? or 100?"
   ]
  },
  {
   "cell_type": "markdown",
   "id": "fd2288bb",
   "metadata": {},
   "source": [
    "* The central limit theorem doesn't apply to the sampling distribution for the variance (S^2) or the correlation coefficient (r).\n",
    "* It doesn't apply for the sampling distribution for the maximum value in a data set (X(n))."
   ]
  },
  {
   "cell_type": "markdown",
   "id": "2cdbcd40",
   "metadata": {},
   "source": [
    "## Part III\n",
    "You saw how the Central Limit Theorem worked for the sample mean in the earlier concept. However, let's consider another example to see a case where the Central Limit Theorem doesn't work...\n",
    "\n",
    "Work through the questions and use the created variables to answer the questions that follow below the notebook.\n",
    "\n",
    "Run the below cell to get started."
   ]
  },
  {
   "cell_type": "code",
   "execution_count": 47,
   "id": "9b32ea05",
   "metadata": {},
   "outputs": [
    {
     "data": {
      "image/png": "[encoded data removed]",
      "text/plain": [
       "<Figure size 432x288 with 1 Axes>"
      ]
     },
     "metadata": {
      "needs_background": "light"
     },
     "output_type": "display_data"
    }
   ],
   "source": [
    "import numpy as np\n",
    "import matplotlib.pyplot as plt\n",
    "\n",
    "%matplotlib inline\n",
    "np.random.seed(42)\n",
    "\n",
    "pop_data = np.random.gamma(1,100,3000)\n",
    "plt.hist(pop_data);"
   ]
  },
  {
   "cell_type": "markdown",
   "id": "8fd2e905",
   "metadata": {},
   "source": [
    "`1.` In order to create the sampling distribution for the variance of 100 draws of this distribution, follow these steps:\n",
    "\n",
    "`a.` Use numpy's random.choice to simulate 100 draws from the pop_data array.\n",
    "\n",
    "`b.` Compute the variance of these 100 draws.\n",
    "\n",
    "`c.` Write a loop to simulate this process 10,000 times, and store each variance into an array called var_size_100.\n",
    "\n",
    "`d.` Plot a histogram of your sample variances.\n",
    "\n",
    "`e.` Use var_size_100 and pop_data to answer the quiz questions below."
   ]
  },
  {
   "cell_type": "code",
   "execution_count": 49,
   "id": "da650461",
   "metadata": {},
   "outputs": [
    {
     "data": {
      "image/png": "[encoded data removed]",
      "text/plain": [
       "<Figure size 432x288 with 1 Axes>"
      ]
     },
     "metadata": {
      "needs_background": "light"
     },
     "output_type": "display_data"
    }
   ],
   "source": [
    "var_size_100 = []\n",
    "for _ in range(10000):\n",
    "    sample = np.random.choice(pop_data, 100)\n",
    "    var_size_100.append(sample.var())\n",
    "\n",
    "plt.hist(var_size_100);"
   ]
  },
  {
   "cell_type": "markdown",
   "id": "0f3c0c20",
   "metadata": {},
   "source": [
    "### Quiz answers"
   ]
  },
  {
   "cell_type": "code",
   "execution_count": 50,
   "id": "7fafbd7a",
   "metadata": {},
   "outputs": [
    {
     "data": {
      "text/plain": [
       "9955.76939306549"
      ]
     },
     "execution_count": 50,
     "metadata": {},
     "output_type": "execute_result"
    }
   ],
   "source": [
    "# The variance of the population.\n",
    "pop_data.var()"
   ]
  },
  {
   "cell_type": "code",
   "execution_count": 53,
   "id": "23221d36",
   "metadata": {},
   "outputs": [
    {
     "data": {
      "text/plain": [
       "9874.361793621825"
      ]
     },
     "execution_count": 53,
     "metadata": {},
     "output_type": "execute_result"
    }
   ],
   "source": [
    "# The mean of the sampling distribution for the sample variance.\n",
    "np.mean(var_size_100)"
   ]
  },
  {
   "cell_type": "code",
   "execution_count": 54,
   "id": "ded57b8d",
   "metadata": {},
   "outputs": [
    {
     "data": {
      "text/plain": [
       "6508086.114509583"
      ]
     },
     "execution_count": 54,
     "metadata": {},
     "output_type": "execute_result"
    }
   ],
   "source": [
    "# The variance of the sampling distribution for the sample variance.\n",
    "np.var(var_size_100)"
   ]
  },
  {
   "cell_type": "markdown",
   "id": "d213bbb4",
   "metadata": {},
   "source": [
    "So it looks like the center of our sampling distribution is close to the true variance in the population, but a larger sample size seems necessary for these to be closer to equal."
   ]
  },
  {
   "cell_type": "markdown",
   "id": "99392007",
   "metadata": {},
   "source": [
    "***Does the sampling distribution for the variance of 100 draws appear to be normally distributed?***\n",
    "\n",
    "No, it isn't normally distributed. It turns out no matter how large your sample size, it will never be normally distributed. This distribution will actually approach a distribution known as a chi-squared distribution."
   ]
  }
 ],
 "metadata": {
  "kernelspec": {
   "display_name": "Python 3 (ipykernel)",
   "language": "python",
   "name": "python3"
  },
  "language_info": {
   "codemirror_mode": {
    "name": "ipython",
    "version": 3
   },
   "file_extension": ".py",
   "mimetype": "text/x-python",
   "name": "python",
   "nbconvert_exporter": "python",
   "pygments_lexer": "ipython3",
   "version": "3.9.7"
  }
 },
 "nbformat": 4,
 "nbformat_minor": 5
}
