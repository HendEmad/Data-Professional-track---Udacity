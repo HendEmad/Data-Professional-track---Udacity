{
 "cells": [
  {
   "cell_type": "markdown",
   "id": "bd91eefc",
   "metadata": {},
   "source": [
    "# Simulating many coin flips"
   ]
  },
  {
   "cell_type": "markdown",
   "id": "761adfda",
   "metadata": {},
   "source": [
    "There is a better function for simulating large bionomial experiments like coin flips --> (random.binomial) function.\n",
    "\n",
    "It simulates a number of events (n), which each have probability of success (p). Success represents one of the two outcomes of the event. Either outcome could be the success.\n",
    "\n",
    "For example, if our event if flipping a fair coin 10 times, we could define success as the number of heads, n would be the number of flips which is in this case 10, and p would be the prob. for each flip which is 0.5"
   ]
  },
  {
   "cell_type": "code",
   "execution_count": 15,
   "id": "2276feba",
   "metadata": {},
   "outputs": [],
   "source": [
    "import numpy as np"
   ]
  },
  {
   "cell_type": "code",
   "execution_count": 17,
   "id": "74c1b540",
   "metadata": {},
   "outputs": [
    {
     "data": {
      "text/plain": [
       "6"
      ]
     },
     "execution_count": 17,
     "metadata": {},
     "output_type": "execute_result"
    }
   ],
   "source": [
    "np.random.binomial(n = 10, p = 0.5)"
   ]
  },
  {
   "cell_type": "markdown",
   "id": "0668e9a7",
   "metadata": {},
   "source": [
    "Since this function is only for binomial outcomes, it can simplify the output by just returning the number of successes, in this case 6 which is the number of heads "
   ]
  },
  {
   "cell_type": "code",
   "execution_count": 18,
   "id": "1a1465d2",
   "metadata": {},
   "outputs": [
    {
     "data": {
      "text/plain": [
       "array([8, 2, 7, 4, 2, 5, 3, 2, 8, 4, 2, 4, 5, 3, 6, 7, 7, 3, 7, 5])"
      ]
     },
     "execution_count": 18,
     "metadata": {},
     "output_type": "execute_result"
    }
   ],
   "source": [
    "np.random.binomial(n = 10, p = 0.5, size = 20)"
   ]
  },
  {
   "cell_type": "markdown",
   "id": "0cb6a219",
   "metadata": {},
   "source": [
    "Each number in this array represents the number of heads that resulted from each test of 10 coin flips"
   ]
  },
  {
   "cell_type": "code",
   "execution_count": 21,
   "id": "1824b8cd",
   "metadata": {},
   "outputs": [
    {
     "data": {
      "text/plain": [
       "4.6"
      ]
     },
     "execution_count": 21,
     "metadata": {},
     "output_type": "execute_result"
    }
   ],
   "source": [
    "# find the mean number of heads for these tests\n",
    "np.random.binomial(n = 10, p = 0.5, size = 20).mean()"
   ]
  },
  {
   "cell_type": "markdown",
   "id": "5d6b0546",
   "metadata": {},
   "source": [
    "unsurprisingly, the result is 0.5 as this is a fair coin"
   ]
  },
  {
   "cell_type": "code",
   "execution_count": 22,
   "id": "16d7eba5",
   "metadata": {},
   "outputs": [
    {
     "data": {
      "text/plain": [
       "5.05"
      ]
     },
     "execution_count": 22,
     "metadata": {},
     "output_type": "execute_result"
    }
   ],
   "source": [
    "np.random.binomial(n = 10, p = 0.5, size = 1000).mean()"
   ]
  },
  {
   "cell_type": "markdown",
   "id": "1eaf75f2",
   "metadata": {},
   "source": [
    "As the number of tests(size) increase, the simulation more closely reflects the fairness of the coin"
   ]
  },
  {
   "cell_type": "code",
   "execution_count": 23,
   "id": "1662acc6",
   "metadata": {},
   "outputs": [
    {
     "data": {
      "text/plain": [
       "4.9889"
      ]
     },
     "execution_count": 23,
     "metadata": {},
     "output_type": "execute_result"
    }
   ],
   "source": [
    "np.random.binomial(n = 10, p = 0.5, size = 10000).mean()"
   ]
  },
  {
   "cell_type": "markdown",
   "id": "8cb6c5cb",
   "metadata": {},
   "source": [
    "###### Plotting a histogram of the outcomes using matplotlib"
   ]
  },
  {
   "cell_type": "code",
   "execution_count": 25,
   "id": "974f88f4",
   "metadata": {},
   "outputs": [],
   "source": [
    "import matplotlib.pyplot as plt"
   ]
  },
  {
   "cell_type": "code",
   "execution_count": 26,
   "id": "9790f63e",
   "metadata": {},
   "outputs": [
    {
     "data": {
      "text/plain": [
       "(array([   7.,  112.,  456., 1144., 2074., 2446., 2033., 1171.,  444.,\n",
       "         113.]),\n",
       " array([ 0.,  1.,  2.,  3.,  4.,  5.,  6.,  7.,  8.,  9., 10.]),\n",
       " <BarContainer object of 10 artists>)"
      ]
     },
     "execution_count": 26,
     "metadata": {},
     "output_type": "execute_result"
    },
    {
     "data": {
      "image/png": "[encoded data removed]",
      "text/plain": [
       "<Figure size 432x288 with 1 Axes>"
      ]
     },
     "metadata": {
      "needs_background": "light"
     },
     "output_type": "display_data"
    }
   ],
   "source": [
    "plt.hist(np.random.binomial(n = 10, p = 0.5, size = 10000))"
   ]
  },
  {
   "cell_type": "markdown",
   "id": "2c42954f",
   "metadata": {},
   "source": [
    "As expected, the distribution is centered around five heads."
   ]
  }
 ],
 "metadata": {
  "kernelspec": {
   "display_name": "Python 3 (ipykernel)",
   "language": "python",
   "name": "python3"
  },
  "language_info": {
   "codemirror_mode": {
    "name": "ipython",
    "version": 3
   },
   "file_extension": ".py",
   "mimetype": "text/x-python",
   "name": "python",
   "nbconvert_exporter": "python",
   "pygments_lexer": "ipython3",
   "version": "3.9.7"
  }
 },
 "nbformat": 4,
 "nbformat_minor": 5
}
