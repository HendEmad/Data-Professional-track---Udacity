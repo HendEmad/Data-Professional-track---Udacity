{
 "cells": [
  {
   "cell_type": "markdown",
   "id": "b4bb93c2",
   "metadata": {},
   "source": [
    "# Simulating Coin Flips"
   ]
  },
  {
   "cell_type": "code",
   "execution_count": 1,
   "id": "514fc2c4",
   "metadata": {},
   "outputs": [],
   "source": [
    "import numpy as np"
   ]
  },
  {
   "cell_type": "markdown",
   "id": "2561b602",
   "metadata": {},
   "source": [
    "### 1. simulating fair coin"
   ]
  },
  {
   "cell_type": "code",
   "execution_count": 11,
   "id": "3e5678ac",
   "metadata": {},
   "outputs": [
    {
     "data": {
      "text/plain": [
       "0.5068"
      ]
     },
     "execution_count": 11,
     "metadata": {},
     "output_type": "execute_result"
    }
   ],
   "source": [
    "np.random.randint(2, size = 10000).mean()"
   ]
  },
  {
   "cell_type": "markdown",
   "id": "23a58564",
   "metadata": {},
   "source": [
    "Eachtime we run the randint function, we get 0 or 1 which are random numbers between 0 and 2.. for this ex.\n",
    "\n",
    "We can specify size of the output list using size parameter."
   ]
  },
  {
   "cell_type": "markdown",
   "id": "83d8f511",
   "metadata": {},
   "source": [
    "Here, we get equal probability of getting 0 or 1."
   ]
  },
  {
   "cell_type": "markdown",
   "id": "1ce243b9",
   "metadata": {},
   "source": [
    "### 2. Simulating a biased coin has a higher probability of landing on heads\n",
    "- to do this, we use (random.choice) function. This function randomly chooses a number of values from an array that we provide and we can also give it a set of probabilites for each value in that array. "
   ]
  },
  {
   "cell_type": "code",
   "execution_count": 12,
   "id": "61a0d869",
   "metadata": {},
   "outputs": [
    {
     "data": {
      "text/plain": [
       "0.4926"
      ]
     },
     "execution_count": 12,
     "metadata": {},
     "output_type": "execute_result"
    }
   ],
   "source": [
    "'''\n",
    "If we don't specify probabilities(which are 0 and 1 here), it gives us each\n",
    "value and an equal probability by default\n",
    "'''\n",
    "np.random.choice([0,1], size = 10000).mean()"
   ]
  },
  {
   "cell_type": "markdown",
   "id": "3e3cbfa8",
   "metadata": {},
   "source": [
    "Here, we specified the size and prob. in the same way as random.randint, and we got again the equal prob. for each value which is 0.5.\n",
    "\n",
    "To make it a biases coin, we can specify the parameter (p) with an array of probabilities (say 0.8 for heads and 0.2 for tails) "
   ]
  },
  {
   "cell_type": "code",
   "execution_count": 6,
   "id": "00d61058",
   "metadata": {},
   "outputs": [
    {
     "data": {
      "text/plain": [
       "array([0, 1, 0, ..., 0, 0, 0])"
      ]
     },
     "execution_count": 6,
     "metadata": {},
     "output_type": "execute_result"
    }
   ],
   "source": [
    "np.random.choice([0, 1], size = 10000, p = [0.8, 0.2])"
   ]
  },
  {
   "cell_type": "code",
   "execution_count": 7,
   "id": "91133454",
   "metadata": {},
   "outputs": [
    {
     "data": {
      "text/plain": [
       "0.1989"
      ]
     },
     "execution_count": 7,
     "metadata": {},
     "output_type": "execute_result"
    }
   ],
   "source": [
    "np.random.choice([0, 1], size = 10000, p = [0.8, 0.2]).mean()"
   ]
  }
 ],
 "metadata": {
  "kernelspec": {
   "display_name": "Python 3 (ipykernel)",
   "language": "python",
   "name": "python3"
  },
  "language_info": {
   "codemirror_mode": {
    "name": "ipython",
    "version": 3
   },
   "file_extension": ".py",
   "mimetype": "text/x-python",
   "name": "python",
   "nbconvert_exporter": "python",
   "pygments_lexer": "ipython3",
   "version": "3.9.7"
  }
 },
 "nbformat": 4,
 "nbformat_minor": 5
}
