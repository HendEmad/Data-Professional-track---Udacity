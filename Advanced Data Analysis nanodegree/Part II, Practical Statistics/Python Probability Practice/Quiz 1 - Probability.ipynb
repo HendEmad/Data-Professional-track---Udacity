{
 "cells": [
  {
   "cell_type": "markdown",
   "id": "2ccea79c",
   "metadata": {},
   "source": [
    "# Coin Flips and Die Rolls"
   ]
  },
  {
   "cell_type": "markdown",
   "id": "24225c29",
   "metadata": {},
   "source": [
    "Simulating coin flips and die rolls to compute proportions for the following outcomes:\n",
    "1. Two fair coin flips produce exactly two heads\n",
    "2. Three fair coin flips produce exactly one head\n",
    "3. Three biased coin flips with P(H) = 0.6 produce exactly one head\n",
    "4. A die rolls an even number\n",
    "5. Two dice roll a double"
   ]
  },
  {
   "cell_type": "markdown",
   "id": "50409139",
   "metadata": {},
   "source": [
    "When simulating coin flips, use 0 to represent heads and 1 to represent tails.\n",
    "\n",
    "When simulating die rolls, use the correct integers to match the numbers on the sides of a standard 6 sided die."
   ]
  },
  {
   "cell_type": "code",
   "execution_count": 1,
   "id": "d3f92221",
   "metadata": {},
   "outputs": [],
   "source": [
    "# import numpy\n",
    "import numpy as np"
   ]
  },
  {
   "cell_type": "markdown",
   "id": "9906c8de",
   "metadata": {},
   "source": [
    "### 1. Two fair coin flips produce exactly two heads"
   ]
  },
  {
   "cell_type": "code",
   "execution_count": 9,
   "id": "1067d4ec",
   "metadata": {},
   "outputs": [
    {
     "data": {
      "text/plain": [
       "array([[0, 0],\n",
       "       [0, 1],\n",
       "       [1, 1],\n",
       "       ...,\n",
       "       [1, 0],\n",
       "       [1, 1],\n",
       "       [0, 1]])"
      ]
     },
     "execution_count": 9,
     "metadata": {},
     "output_type": "execute_result"
    }
   ],
   "source": [
    "# Simulate 1 million tests of two fair coin flips\n",
    "tests = np.random.randint(2, size = (int(1e6), 2))\n",
    "tests"
   ]
  },
  {
   "cell_type": "code",
   "execution_count": 7,
   "id": "d3810007",
   "metadata": {},
   "outputs": [
    {
     "data": {
      "text/plain": [
       "array([1, 2, 1, ..., 2, 1, 0])"
      ]
     },
     "execution_count": 7,
     "metadata": {},
     "output_type": "execute_result"
    }
   ],
   "source": [
    "# Sum of all tests\n",
    "test_sums = tests.sum(axis = 1)\n",
    "test_sums"
   ]
  },
  {
   "cell_type": "code",
   "execution_count": 11,
   "id": "45437106",
   "metadata": {},
   "outputs": [
    {
     "data": {
      "text/plain": [
       "0.249795"
      ]
     },
     "execution_count": 11,
     "metadata": {},
     "output_type": "execute_result"
    }
   ],
   "source": [
    "# Proportion of tests that produced exactly two heads\n",
    "(test_sums == 0).mean()"
   ]
  },
  {
   "cell_type": "markdown",
   "id": "21dbe46f",
   "metadata": {},
   "source": [
    "### 2. Three fair coin flips produce exactly one head"
   ]
  },
  {
   "cell_type": "code",
   "execution_count": 13,
   "id": "90b1dd3b",
   "metadata": {},
   "outputs": [
    {
     "data": {
      "text/plain": [
       "array([[1, 1, 0],\n",
       "       [1, 0, 1],\n",
       "       [0, 1, 0],\n",
       "       ...,\n",
       "       [0, 0, 1],\n",
       "       [1, 1, 0],\n",
       "       [1, 0, 0]])"
      ]
     },
     "execution_count": 13,
     "metadata": {},
     "output_type": "execute_result"
    }
   ],
   "source": [
    "# simulate 1 million tests of three fair coin flips\n",
    "tests = np.random.randint(2, size = (int(1e6), 3))\n",
    "tests"
   ]
  },
  {
   "cell_type": "code",
   "execution_count": 20,
   "id": "74b615bd",
   "metadata": {},
   "outputs": [
    {
     "data": {
      "text/plain": [
       "array([2, 2, 1, ..., 1, 2, 1])"
      ]
     },
     "execution_count": 20,
     "metadata": {},
     "output_type": "execute_result"
    }
   ],
   "source": [
    "# sums of all tests\n",
    "test_sums = tests.sum(axis = 1)\n",
    "test_sums"
   ]
  },
  {
   "cell_type": "code",
   "execution_count": 21,
   "id": "d9d8aa22",
   "metadata": {},
   "outputs": [
    {
     "data": {
      "text/plain": [
       "0.37535"
      ]
     },
     "execution_count": 21,
     "metadata": {},
     "output_type": "execute_result"
    }
   ],
   "source": [
    "# proportion of tests that produced exactly one head\n",
    "(test_sums == 2).mean()"
   ]
  },
  {
   "cell_type": "markdown",
   "id": "aade6e77",
   "metadata": {},
   "source": [
    "### 3. Three biased coin flips with P(H) = 0.6 produce exactly one head"
   ]
  },
  {
   "cell_type": "code",
   "execution_count": 26,
   "id": "e01762b0",
   "metadata": {},
   "outputs": [
    {
     "data": {
      "text/plain": [
       "array([[0, 1, 0],\n",
       "       [0, 0, 1],\n",
       "       [0, 0, 0],\n",
       "       ...,\n",
       "       [0, 0, 0],\n",
       "       [1, 1, 0],\n",
       "       [0, 0, 1]])"
      ]
     },
     "execution_count": 26,
     "metadata": {},
     "output_type": "execute_result"
    }
   ],
   "source": [
    "# simulate 1 million tests of three biased coin flips\n",
    "# hint: use np.random.choice()\n",
    "tests = np.random.choice([0, 1], size = (int(1e6), 3), p = [0.6, 0.4])\n",
    "tests"
   ]
  },
  {
   "cell_type": "code",
   "execution_count": 28,
   "id": "8057f56c",
   "metadata": {},
   "outputs": [
    {
     "data": {
      "text/plain": [
       "array([1, 1, 0, ..., 0, 2, 1])"
      ]
     },
     "execution_count": 28,
     "metadata": {},
     "output_type": "execute_result"
    }
   ],
   "source": [
    "# sums of all tests\n",
    "test_sums = tests.sum(axis = 1)\n",
    "test_sums"
   ]
  },
  {
   "cell_type": "code",
   "execution_count": 29,
   "id": "f1543395",
   "metadata": {},
   "outputs": [
    {
     "data": {
      "text/plain": [
       "0.287897"
      ]
     },
     "execution_count": 29,
     "metadata": {},
     "output_type": "execute_result"
    }
   ],
   "source": [
    "# proportion of tests that produced exactly one head\n",
    "(test_sums == 2).mean()"
   ]
  },
  {
   "cell_type": "markdown",
   "id": "e0bf6eb5",
   "metadata": {},
   "source": [
    "### 4. A die rolls an even number"
   ]
  },
  {
   "cell_type": "code",
   "execution_count": 40,
   "id": "43715b0e",
   "metadata": {},
   "outputs": [
    {
     "data": {
      "text/plain": [
       "array([4, 1, 6, ..., 1, 5, 2])"
      ]
     },
     "execution_count": 40,
     "metadata": {},
     "output_type": "execute_result"
    }
   ],
   "source": [
    "tests = np.random.choice(np.arange(1, 7), size = int(1e6))\n",
    "tests"
   ]
  },
  {
   "cell_type": "code",
   "execution_count": 41,
   "id": "270efba6",
   "metadata": {},
   "outputs": [
    {
     "data": {
      "text/plain": [
       "0.499285"
      ]
     },
     "execution_count": 41,
     "metadata": {},
     "output_type": "execute_result"
    }
   ],
   "source": [
    "# proportion of tests that produced an even number\n",
    "(tests % 2 == 0).mean()"
   ]
  },
  {
   "cell_type": "markdown",
   "id": "8d834c93",
   "metadata": {},
   "source": [
    "### 5. Two dice roll a double"
   ]
  },
  {
   "cell_type": "code",
   "execution_count": 42,
   "id": "ee658cd0",
   "metadata": {},
   "outputs": [
    {
     "data": {
      "text/plain": [
       "0.166346"
      ]
     },
     "execution_count": 42,
     "metadata": {},
     "output_type": "execute_result"
    }
   ],
   "source": [
    "# simulate the first million die rolls\n",
    "first = np.random.choice(np.arange(6), size = int(1e6))\n",
    "\n",
    "# simulate the second million die rolls\n",
    "second = np.random.choice(np.arange(6), size = int(1e6))\n",
    "\n",
    "# proportion of tests where the 1st and 2nd die rolled the same number\n",
    "(first == second).mean()"
   ]
  }
 ],
 "metadata": {
  "kernelspec": {
   "display_name": "Python 3 (ipykernel)",
   "language": "python",
   "name": "python3"
  },
  "language_info": {
   "codemirror_mode": {
    "name": "ipython",
    "version": 3
   },
   "file_extension": ".py",
   "mimetype": "text/x-python",
   "name": "python",
   "nbconvert_exporter": "python",
   "pygments_lexer": "ipython3",
   "version": "3.9.7"
  }
 },
 "nbformat": 4,
 "nbformat_minor": 5
}
