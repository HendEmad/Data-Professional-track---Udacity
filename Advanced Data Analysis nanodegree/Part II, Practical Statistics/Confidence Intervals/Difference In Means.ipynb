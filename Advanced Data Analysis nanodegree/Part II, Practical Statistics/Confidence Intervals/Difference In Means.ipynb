{
 "cells": [
  {
   "cell_type": "markdown",
   "id": "60c97095",
   "metadata": {},
   "source": [
    "# To estimate the difference in two parameters\n",
    "\n",
    "The question is `What's the difference in average heights for those who drink coffee verses those who do not?`"
   ]
  },
  {
   "cell_type": "code",
   "execution_count": 1,
   "id": "d448f79c",
   "metadata": {},
   "outputs": [],
   "source": [
    "import pandas as pd\n",
    "import numpy as np\n",
    "import matplotlib.pyplot as plt\n",
    "%matplotlib inline\n",
    "\n",
    "coffee_full = pd.read_csv(\"coffee_dataset.csv\")\n",
    "coffee_red = coffee_full.sample(200)"
   ]
  },
  {
   "cell_type": "markdown",
   "id": "6292f80a",
   "metadata": {},
   "source": [
    "We can calculate the mean of the sample for each case and then take the difference"
   ]
  },
  {
   "cell_type": "code",
   "execution_count": 3,
   "id": "c3c31ee9",
   "metadata": {},
   "outputs": [
    {
     "data": {
      "text/plain": [
       "1.3394535890868582"
      ]
     },
     "execution_count": 3,
     "metadata": {},
     "output_type": "execute_result"
    }
   ],
   "source": [
    "bootsample = coffee_red.sample(200, replace = True)\n",
    "mean_coff = bootsample[bootsample['drinks_coffee'] == True]['height'].mean()\n",
    "mean_nocoff = bootsample[bootsample['drinks_coffee'] == False]['height'].mean()\n",
    "mean_coff - mean_nocoff"
   ]
  },
  {
   "cell_type": "code",
   "execution_count": 4,
   "id": "ea9c86a3",
   "metadata": {},
   "outputs": [],
   "source": [
    "diff = []\n",
    "for _ in range(10000):\n",
    "    bootsample = coffee_red.sample(200, replace = True)\n",
    "    mean_coff = bootsample[bootsample['drinks_coffee'] == True]['height'].mean()\n",
    "    mean_nocoff = bootsample[bootsample['drinks_coffee'] == False]['height'].mean()\n",
    "    diff.append(mean_coff - mean_nocoff)"
   ]
  },
  {
   "cell_type": "code",
   "execution_count": 6,
   "id": "2c48d30b",
   "metadata": {},
   "outputs": [
    {
     "data": {
      "image/png": "[encoded data removed]",
      "text/plain": [
       "<Figure size 432x288 with 1 Axes>"
      ]
     },
     "metadata": {
      "needs_background": "light"
     },
     "output_type": "display_data"
    }
   ],
   "source": [
    "plt.hist(diff);"
   ]
  },
  {
   "cell_type": "code",
   "execution_count": 7,
   "id": "2994c48b",
   "metadata": {},
   "outputs": [
    {
     "data": {
      "text/plain": [
       "(1.0612517833363166, 2.691295278547643)"
      ]
     },
     "execution_count": 7,
     "metadata": {},
     "output_type": "execute_result"
    }
   ],
   "source": [
    "# Building 95% confidence interval\n",
    "# Cutting of the bottom and top two and half\n",
    "np.percentile(diff, 2.5), np.percentile(diff, 97.5)"
   ]
  },
  {
   "cell_type": "markdown",
   "id": "2ac3e8cc",
   "metadata": {},
   "source": [
    "The confidence interval doesn't contain Zero.\n",
    "\n",
    "We can see that coffee drinkers are actually taller than non-coffee drinkers"
   ]
  },
  {
   "cell_type": "code",
   "execution_count": null,
   "id": "a1e81fc1",
   "metadata": {},
   "outputs": [],
   "source": []
  }
 ],
 "metadata": {
  "kernelspec": {
   "display_name": "Python 3 (ipykernel)",
   "language": "python",
   "name": "python3"
  },
  "language_info": {
   "codemirror_mode": {
    "name": "ipython",
    "version": 3
   },
   "file_extension": ".py",
   "mimetype": "text/x-python",
   "name": "python",
   "nbconvert_exporter": "python",
   "pygments_lexer": "ipython3",
   "version": "3.9.7"
  }
 },
 "nbformat": 4,
 "nbformat_minor": 5
}
